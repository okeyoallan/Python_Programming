{
 "cells": [
  {
   "cell_type": "markdown",
   "id": "da18f514-9e6a-4ca5-afaf-beb35630c8d2",
   "metadata": {},
   "source": [
    "### Question 26:\n",
    "Define a function which can compute the sum of two numbers.\n"
   ]
  },
  {
   "cell_type": "code",
   "execution_count": 5,
   "id": "db1bd863-4956-44a4-8db4-362509510027",
   "metadata": {},
   "outputs": [],
   "source": [
    "def func(x,y): #defining the function\n",
    "    return x+y"
   ]
  },
  {
   "cell_type": "code",
   "execution_count": 6,
   "id": "b42b7c93-0f8b-4048-af67-2a7af72318fa",
   "metadata": {},
   "outputs": [
    {
     "data": {
      "text/plain": [
       "7"
      ]
     },
     "execution_count": 6,
     "metadata": {},
     "output_type": "execute_result"
    }
   ],
   "source": [
    "func(4,3)"
   ]
  },
  {
   "cell_type": "markdown",
   "id": "6625013a-f48c-4296-af18-393380394194",
   "metadata": {},
   "source": [
    "### Question 27\n",
    "Define a function that can convert a integer into a string and print it in console.\n",
    "\n",
    "Hints:\n",
    "\n",
    "Use str() to convert a number to string.\n"
   ]
  },
  {
   "cell_type": "code",
   "execution_count": 48,
   "id": "460fbd35-a86d-42de-9704-8331a20d7076",
   "metadata": {},
   "outputs": [],
   "source": [
    "\n",
    "def str_convert(y): #defining the function\n",
    "    return str(y)    #converting to a string"
   ]
  },
  {
   "cell_type": "code",
   "execution_count": 49,
   "id": "38b9919a-3bb4-46b9-8039-12275c45c852",
   "metadata": {},
   "outputs": [
    {
     "data": {
      "text/plain": [
       "'7'"
      ]
     },
     "execution_count": 49,
     "metadata": {},
     "output_type": "execute_result"
    }
   ],
   "source": [
    "str_convert(7)"
   ]
  },
  {
   "cell_type": "markdown",
   "id": "8d1b5988-dc6d-4772-a490-6cf9aa5ac8bb",
   "metadata": {},
   "source": [
    "## Question 28\n",
    "Define a function that can convert a integer into a string and print it in console.\n",
    "\n",
    "Hints:\n",
    "\n",
    "Use str() to convert a number to string.\n"
   ]
  },
  {
   "cell_type": "code",
   "execution_count": 16,
   "id": "072b41f2-3282-4e58-a645-ab38fc19ef59",
   "metadata": {},
   "outputs": [],
   "source": [
    "def converter(x):#defining the function\n",
    "    return str(x)#converting to a string\n"
   ]
  },
  {
   "cell_type": "code",
   "execution_count": 21,
   "id": "3c4cec91-0304-484a-afe3-eca418e11ced",
   "metadata": {},
   "outputs": [
    {
     "data": {
      "text/plain": [
       "'8'"
      ]
     },
     "execution_count": 21,
     "metadata": {},
     "output_type": "execute_result"
    }
   ],
   "source": [
    "converter(8)\n"
   ]
  },
  {
   "cell_type": "markdown",
   "id": "19603f5a-f83c-4925-b328-dc6a3b412207",
   "metadata": {},
   "source": [
    "### Question 29\n",
    "Define a function that can receive two integral numbers in string form and compute their sum and then print it in console.\n",
    "\n",
    "Hints:\n",
    "\n",
    "Use int() to convert a string to integer.\n"
   ]
  },
  {
   "cell_type": "code",
   "execution_count": 81,
   "id": "422bad12-76cb-4a10-ba5c-255533433eac",
   "metadata": {},
   "outputs": [],
   "source": [
    "def int_convert():#defining the function\n",
    "    z=int(input('enter the first number '))\n",
    "    n=int(input('enter the second number '))\n",
    "        \n",
    "    print(z+n)\n",
    "    \n",
    "    \n",
    "   "
   ]
  },
  {
   "cell_type": "code",
   "execution_count": 82,
   "id": "2cee8b78-d2f0-4dec-95c3-0cc27d91c39a",
   "metadata": {},
   "outputs": [
    {
     "name": "stdin",
     "output_type": "stream",
     "text": [
      "enter the first number  5\n",
      "enter the second number  9\n"
     ]
    },
    {
     "name": "stdout",
     "output_type": "stream",
     "text": [
      "14\n"
     ]
    }
   ],
   "source": [
    "int_convert()"
   ]
  },
  {
   "cell_type": "markdown",
   "id": "79f743ad-6ec3-4cad-b2dc-8e9572dc30ab",
   "metadata": {},
   "source": [
    "### Question 30\n",
    "Define a function that can accept two strings as input and concatenate them and then print it in console.\n",
    "\n",
    "Hints:\n",
    "\n",
    "Use + to concatenate the strings\n"
   ]
  },
  {
   "cell_type": "code",
   "execution_count": 83,
   "id": "01355d7f-66b5-451b-9330-38d320da76e7",
   "metadata": {},
   "outputs": [],
   "source": [
    "def strjoin():#defining the function\n",
    "    y=input('enter the first string')\n",
    "    b=input('enter the second string')\n",
    "    print(y+b)"
   ]
  },
  {
   "cell_type": "code",
   "execution_count": 86,
   "id": "3a2dd7b6-d00b-4505-ad28-75579baa500a",
   "metadata": {},
   "outputs": [
    {
     "name": "stdin",
     "output_type": "stream",
     "text": [
      "enter the first string good\n",
      "enter the second string morning\n"
     ]
    },
    {
     "name": "stdout",
     "output_type": "stream",
     "text": [
      "goodmorning\n"
     ]
    }
   ],
   "source": [
    "strjoin()"
   ]
  },
  {
   "cell_type": "markdown",
   "id": "9db74c3a-8e9b-4bbb-bef1-25c12e1e4f12",
   "metadata": {},
   "source": [
    "## Question 31\n",
    "Define a function that can accept two strings as input and print the string with maximum length in console. If two strings have the same length, then the function should print al l strings line by line.\n",
    "\n",
    "Hints:\n",
    "\n",
    "Use len() function to get the length of a string\n"
   ]
  },
  {
   "cell_type": "code",
   "execution_count": 102,
   "id": "26d425eb-01c8-4c02-b42e-52b7f25d2516",
   "metadata": {},
   "outputs": [],
   "source": [
    "def maxlength():#defining the function\n",
    "    w=input('enter the first string')\n",
    "    d=input('enter the second string')\n",
    "    if len(w)==len(d):#comparing the length of the string\n",
    "        print(w,d , sep='\\n')\n",
    "    elif len(w)>len(d):\n",
    "        print(w ,'is the string with maximum length')\n",
    "    else:\n",
    "        print(d, 'is the string with maximum length')\n",
    "        "
   ]
  },
  {
   "cell_type": "code",
   "execution_count": 104,
   "id": "9adfed32-d370-4b9d-8055-891fc2093186",
   "metadata": {},
   "outputs": [
    {
     "name": "stdin",
     "output_type": "stream",
     "text": [
      "enter the first string you\n",
      "enter the second string min\n"
     ]
    },
    {
     "name": "stdout",
     "output_type": "stream",
     "text": [
      "you\n",
      "min\n"
     ]
    }
   ],
   "source": [
    "maxlength()"
   ]
  },
  {
   "cell_type": "code",
   "execution_count": 105,
   "id": "d43ba5bd-0b27-4891-b0a8-a4fa9d2fce50",
   "metadata": {},
   "outputs": [
    {
     "name": "stdin",
     "output_type": "stream",
     "text": [
      "enter the first string my friends\n",
      "enter the second string the joy\n"
     ]
    },
    {
     "name": "stdout",
     "output_type": "stream",
     "text": [
      "my friends is the string with maximum length\n"
     ]
    }
   ],
   "source": [
    "maxlength()"
   ]
  },
  {
   "cell_type": "markdown",
   "id": "c75863e8-1932-43be-b931-cb3a91e37264",
   "metadata": {},
   "source": [
    "### Question 32\n",
    "Define a function that can accept an integer number as input and print the \"It is an even number\" if the number is even, otherwise print \"It is an odd number\".\n",
    "\n",
    "Hints:\n",
    "\n",
    "Use % operator to check if a number is even or odd.\n"
   ]
  },
  {
   "cell_type": "code",
   "execution_count": 108,
   "id": "f351434f-083b-4ca2-a512-dfed79c14640",
   "metadata": {},
   "outputs": [],
   "source": [
    "def odd_even_convert():#defining the function\n",
    "    a=int(input('enter a number to determine whether it is an even or odd number'))\n",
    "    if a%2==0:# checking whether num is even\n",
    "        print('it is an even number')\n",
    "    else:\n",
    "        print('it is an odd number')"
   ]
  },
  {
   "cell_type": "code",
   "execution_count": 109,
   "id": "d70db1d4-0f91-4dc3-aa39-c59642a5222e",
   "metadata": {},
   "outputs": [
    {
     "name": "stdin",
     "output_type": "stream",
     "text": [
      "enter a number to determine whether it is an even or odd number 6\n"
     ]
    },
    {
     "name": "stdout",
     "output_type": "stream",
     "text": [
      "it is an even number\n"
     ]
    }
   ],
   "source": [
    "odd_even_convert()"
   ]
  },
  {
   "cell_type": "code",
   "execution_count": 110,
   "id": "cd89a17b-8f52-4880-9806-110e1cea108d",
   "metadata": {},
   "outputs": [
    {
     "name": "stdin",
     "output_type": "stream",
     "text": [
      "enter a number to determine whether it is an even or odd number 11\n"
     ]
    },
    {
     "name": "stdout",
     "output_type": "stream",
     "text": [
      "it is an odd number\n"
     ]
    }
   ],
   "source": [
    "odd_even_convert()"
   ]
  },
  {
   "cell_type": "markdown",
   "id": "bd5f0df0-0978-4def-9cbb-78a2a0e90390",
   "metadata": {},
   "source": [
    "### Question 33\n",
    "Define a function which can print a dictionary where the keys are numbers between 1 and 3 (both included) and the values are square of keys.\n",
    "\n",
    "Hints:\n",
    "\n",
    "Use dict[key]=value pattern to put entry into a dictionary.\n",
    "Use ** operator to get power of a number.\n"
   ]
  },
  {
   "cell_type": "code",
   "execution_count": 121,
   "id": "49732af2-c262-4363-99ba-deb92e5c3376",
   "metadata": {},
   "outputs": [],
   "source": [
    "def dictionary():#defining the function\n",
    "    d=dict()# creating an empty dict\n",
    "    for i in range(1,4):\n",
    "        d[i]=i**2 # allocating value to the key\n",
    "    print(d)"
   ]
  },
  {
   "cell_type": "code",
   "execution_count": 122,
   "id": "97041c29-51d4-4c4e-85c3-223cd9366f77",
   "metadata": {},
   "outputs": [
    {
     "name": "stdout",
     "output_type": "stream",
     "text": [
      "{1: 1, 2: 4, 3: 9}\n"
     ]
    }
   ],
   "source": [
    "dictionary()"
   ]
  },
  {
   "cell_type": "markdown",
   "id": "bd48f218-871b-4da6-906b-d60de59557bc",
   "metadata": {},
   "source": [
    "### Question 34\n",
    "Define a function which can print a dictionary where the keys are numbers between 1 and 20 (both included) and the values are square of keys.\n",
    "\n",
    "Hints:\n",
    "\n",
    "Use dict[key]=value pattern to put entry into a dictionary.\n",
    "Use ** operator to get power of a number.\n",
    "Use range() for loops."
   ]
  },
  {
   "cell_type": "code",
   "execution_count": 123,
   "id": "52981d15-d508-49fe-a4e6-a22cc5852ef6",
   "metadata": {},
   "outputs": [],
   "source": [
    "def dict2():#defining the function\n",
    "    f=dict()# creating an empty dict\n",
    "    for i in range(1,21):\n",
    "        f[i]=i**2 # allocating value to the key\n",
    "    print(f)"
   ]
  },
  {
   "cell_type": "code",
   "execution_count": 124,
   "id": "39df6915-2771-40d4-acd0-9abc3abe5f2c",
   "metadata": {},
   "outputs": [
    {
     "name": "stdout",
     "output_type": "stream",
     "text": [
      "{1: 1, 2: 4, 3: 9, 4: 16, 5: 25, 6: 36, 7: 49, 8: 64, 9: 81, 10: 100, 11: 121, 12: 144, 13: 169, 14: 196, 15: 225, 16: 256, 17: 289, 18: 324, 19: 361, 20: 400}\n"
     ]
    }
   ],
   "source": [
    "dict2()"
   ]
  },
  {
   "cell_type": "markdown",
   "id": "d8ff6cfd-d02f-4d8c-be94-ceae9b9f9469",
   "metadata": {},
   "source": [
    "### Question 35\n",
    "Define a function which can generate a dictionary where the keys are numbers between 1 and 20 (both included) and the values are square of keys. The function should just print the values only.\n",
    "\n",
    "Hints:\n",
    "\n",
    "Use dict[key]=value pattern to put entry into a dictionary.\n",
    "Use ** operator to get power of a number.\n",
    "Use range() for loops.\n",
    "Use keys() to iterate keys in the dictionary. Also we can use item() to get key/value pairs.\n"
   ]
  },
  {
   "cell_type": "code",
   "execution_count": 140,
   "id": "b1f1e785-0632-47d1-9979-f03a9ae345b9",
   "metadata": {},
   "outputs": [],
   "source": [
    "def dict3():#defining the function\n",
    "    h=dict()#creating an empty dict\n",
    "    for i in range(1,21):\n",
    "        h[i]=i**2 #allocating values to the key\n",
    "    n=h.values()# to only output the values\n",
    "    print(n)\n",
    "    \n",
    "    "
   ]
  },
  {
   "cell_type": "code",
   "execution_count": 141,
   "id": "b6f93831-9aa4-4240-9239-b069056e6d87",
   "metadata": {},
   "outputs": [
    {
     "name": "stdout",
     "output_type": "stream",
     "text": [
      "dict_values([1, 4, 9, 16, 25, 36, 49, 64, 81, 100, 121, 144, 169, 196, 225, 256, 289, 324, 361, 400])\n"
     ]
    }
   ],
   "source": [
    "dict3()"
   ]
  },
  {
   "cell_type": "markdown",
   "id": "ed4465f9-7a76-413e-bd39-5275c70907d8",
   "metadata": {},
   "source": [
    "### Question 36\n",
    "Define a function which can generate a dictionary where the keys are numbers between 1 and 20 (both included) and the values are square of keys. The function should just print the keys only.\n",
    "\n",
    "Hints:\n",
    "\n",
    "Use dict[key]=value pattern to put entry into a dictionary.\n",
    "Use ** operator to get power of a number.\n",
    "Use range() for loops.\n",
    "Use keys() to iterate keys in the dictionary. Also we can use item() to get key/value pairs.\n",
    "\n"
   ]
  },
  {
   "cell_type": "code",
   "execution_count": 142,
   "id": "3706a78b-732c-4a77-931a-d503ef1db499",
   "metadata": {},
   "outputs": [],
   "source": [
    "def dict4():#defining the function\n",
    "    j=dict()#creating an empty dict\n",
    "    for i in range(1,21):\n",
    "        j[i]=i**2 #allocating values to the key\n",
    "    n=j.keys()# to only output the keys\n",
    "    print(n)\n",
    "    "
   ]
  },
  {
   "cell_type": "code",
   "execution_count": 144,
   "id": "ba413286-3a19-469a-a4e3-77b16dc1d22c",
   "metadata": {},
   "outputs": [
    {
     "name": "stdout",
     "output_type": "stream",
     "text": [
      "dict_keys([1, 2, 3, 4, 5, 6, 7, 8, 9, 10, 11, 12, 13, 14, 15, 16, 17, 18, 19, 20])\n"
     ]
    }
   ],
   "source": [
    "dict4()"
   ]
  },
  {
   "cell_type": "markdown",
   "id": "759598b9-2de6-4f70-b8d3-1e4f17ef147f",
   "metadata": {},
   "source": [
    "### Question 37\n",
    "Define a function which can generate and print a list where the values are square of numbers between 1 and 20 (both included).\n",
    "\n",
    "Hints:\n",
    "\n",
    "Use ** operator to get power of a number.\n",
    "Use range() for loops.\n",
    "Use list.append() to add values into a list.\n"
   ]
  },
  {
   "cell_type": "code",
   "execution_count": 147,
   "id": "31b15bbb-a148-4955-8b2b-0218ced09a69",
   "metadata": {},
   "outputs": [],
   "source": [
    "def list1():#defining the function\n",
    "    list1=[]#creating an empty list\n",
    "    for i in range(1,21):\n",
    "        d=i**2\n",
    "        list1.append(d) #appending to the empty list\n",
    "    print(list1)"
   ]
  },
  {
   "cell_type": "code",
   "execution_count": 148,
   "id": "7d384d4b-6f59-411b-9465-2b58bdf40cfc",
   "metadata": {},
   "outputs": [
    {
     "name": "stdout",
     "output_type": "stream",
     "text": [
      "[1, 4, 9, 16, 25, 36, 49, 64, 81, 100, 121, 144, 169, 196, 225, 256, 289, 324, 361, 400]\n"
     ]
    }
   ],
   "source": [
    "list1()"
   ]
  },
  {
   "cell_type": "markdown",
   "id": "a5a017e9-6b2d-4548-a19a-25289dc34496",
   "metadata": {},
   "source": [
    "### Question 38\n",
    "Define a function which can generate a list where the values are square of numbers between 1 and 20 (both included). Then the function needs to print the first 5 elements in the list.\n",
    "\n",
    "Hints:\n",
    "\n",
    "Use ** operator to get power of a number.\n",
    "Use range() for loops.\n",
    "Use list.append() to add values into a list.\n",
    "Use [n1:n2] to slice a list"
   ]
  },
  {
   "cell_type": "code",
   "execution_count": 163,
   "id": "0131ed5d-04ad-4782-9919-bdbfedd3bbcd",
   "metadata": {},
   "outputs": [],
   "source": [
    "def list2():#defining the function\n",
    "    list2=[]#creating an empty list\n",
    "    for i in range(1,21):\n",
    "        r=i**2\n",
    "        list2.append(r) #appending to empty list\n",
    "    p=list2\n",
    "    print(p[0:5])\n",
    "        \n",
    "        \n",
    "    "
   ]
  },
  {
   "cell_type": "code",
   "execution_count": 164,
   "id": "407c9599-01c3-43bd-9063-5006a5c84f71",
   "metadata": {},
   "outputs": [
    {
     "name": "stdout",
     "output_type": "stream",
     "text": [
      "[1, 4, 9, 16, 25]\n"
     ]
    }
   ],
   "source": [
    "list2()"
   ]
  },
  {
   "cell_type": "markdown",
   "id": "7382468e-1625-4833-9fae-4b6021c07678",
   "metadata": {},
   "source": [
    "### Question 39\n",
    "Define a function which can generate a list where the values are square of numbers between 1 and 20 (both included). Then the function needs to print the last 5 elements in the list.\n",
    "\n",
    "Hints:\n",
    "\n",
    "Use ** operator to get power of a number.\n",
    "Use range() for loops.\n",
    "Use list.append() to add values into a list.\n",
    "Use [n1:n2] to slice a list\n"
   ]
  },
  {
   "cell_type": "code",
   "execution_count": 165,
   "id": "ff7f0b80-4b43-4f25-b134-49675433ef69",
   "metadata": {},
   "outputs": [],
   "source": [
    "def list3():#defining the function\n",
    "    list3=[]#creating an empty list\n",
    "    for i in range(1,21):\n",
    "        v=i**2\n",
    "        list3.append(v) #appending to the empty list\n",
    "    p=list3\n",
    "    print(p[15:20])\n",
    "        "
   ]
  },
  {
   "cell_type": "code",
   "execution_count": 166,
   "id": "de33caaa-ecae-4280-82c9-ba0f1114fa0b",
   "metadata": {},
   "outputs": [
    {
     "name": "stdout",
     "output_type": "stream",
     "text": [
      "[256, 289, 324, 361, 400]\n"
     ]
    }
   ],
   "source": [
    "list3()"
   ]
  },
  {
   "cell_type": "markdown",
   "id": "d4b42536-4876-4134-a6f1-4d66b647d1f8",
   "metadata": {},
   "source": [
    "### Question 40\n",
    "Define a function which can generate a list where the values are square of numbers between 1 and 20 (both included). Then the function needs to print all values except the first 5 elements in the list.\n",
    "\n",
    "Hints:\n",
    "\n",
    "Use ** operator to get power of a number.\n",
    "Use range() for loops.\n",
    "Use list.append() to add values into a list.\n",
    "Use [n1:n2] to slice a list\n"
   ]
  },
  {
   "cell_type": "code",
   "execution_count": 169,
   "id": "0296fb72-e924-44ad-a7b1-42906e7a2126",
   "metadata": {},
   "outputs": [],
   "source": [
    "def list4():#defining the function\n",
    "    list4=[]#creating an empty list\n",
    "    for i in range(1,21):\n",
    "        v=i**2\n",
    "        list4.append(v)#appending to the empty dictionary\n",
    "    p=list4\n",
    "    print(p[5:20])\n",
    "        "
   ]
  },
  {
   "cell_type": "code",
   "execution_count": 170,
   "id": "c8879fbd-0b5b-4ad6-913d-3455d9d0c104",
   "metadata": {},
   "outputs": [
    {
     "name": "stdout",
     "output_type": "stream",
     "text": [
      "[36, 49, 64, 81, 100, 121, 144, 169, 196, 225, 256, 289, 324, 361, 400]\n"
     ]
    }
   ],
   "source": [
    "list4()"
   ]
  }
 ],
 "metadata": {
  "kernelspec": {
   "display_name": "Python 3 (ipykernel)",
   "language": "python",
   "name": "python3"
  },
  "language_info": {
   "codemirror_mode": {
    "name": "ipython",
    "version": 3
   },
   "file_extension": ".py",
   "mimetype": "text/x-python",
   "name": "python",
   "nbconvert_exporter": "python",
   "pygments_lexer": "ipython3",
   "version": "3.9.7"
  }
 },
 "nbformat": 4,
 "nbformat_minor": 5
}

