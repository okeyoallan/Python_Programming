{
 "cells": [
  {
   "cell_type": "code",
   "execution_count": 44,
   "id": "8e69a826-5cbf-4d95-9cb1-a77700ece6dc",
   "metadata": {},
   "outputs": [],
   "source": [
    "def ndict():\n",
    "     dicts={}\n",
    "     n=int(input(\"Input an interger:\"))\n",
    "     for i in range(1, n+1):\n",
    "           dicts[i]=(i*i)\n",
    "     print(dicts)\n"
   ]
  },
  {
   "cell_type": "code",
   "execution_count": 45,
   "id": "7bb44870-1470-4720-9538-641c5a9a1604",
   "metadata": {},
   "outputs": [
    {
     "name": "stdin",
     "output_type": "stream",
     "text": [
      "Input an interger: 8\n"
     ]
    },
    {
     "name": "stdout",
     "output_type": "stream",
     "text": [
      "{1: 1, 2: 4, 3: 9, 4: 16, 5: 25, 6: 36, 7: 49, 8: 64}\n"
     ]
    }
   ],
   "source": [
    "ndict()"
   ]
  },
  {
   "cell_type": "code",
   "execution_count": 39,
   "id": "60c7ffc8-208b-48a0-8183-ca97a2bcd46b",
   "metadata": {},
   "outputs": [
    {
     "name": "stdin",
     "output_type": "stream",
     "text": [
      "Input an interger: 8\n"
     ]
    },
    {
     "name": "stdout",
     "output_type": "stream",
     "text": [
      "{1: 1, 2: 4, 3: 9, 4: 16, 5: 25, 6: 36, 7: 49, 8: 64}\n"
     ]
    }
   ],
   "source": [
    "dit=ndict()"
   ]
  },
  {
   "cell_type": "code",
   "execution_count": 40,
   "id": "dafe0cc0-67be-43b1-9f42-33c325b83a9a",
   "metadata": {},
   "outputs": [
    {
     "data": {
      "text/plain": [
       "NoneType"
      ]
     },
     "execution_count": 40,
     "metadata": {},
     "output_type": "execute_result"
    }
   ],
   "source": [
    "type(dit)"
   ]
  },
  {
   "cell_type": "code",
   "execution_count": null,
   "id": "6a9e91f6-477c-445e-b0df-663ae83f092b",
   "metadata": {},
   "outputs": [],
   "source": []
  },
  {
   "cell_type": "code",
   "execution_count": 76,
   "id": "1030cd96-28c6-468f-a276-56b99b1f468c",
   "metadata": {},
   "outputs": [],
   "source": [
    "def lstup():\n",
    "    numbers=input(\"Input a list of numbers separated by commas\")\n",
    "    lst=numbers.split(\",\")\n",
    "    tups=tuple(lst)\n",
    "    print(lst)\n",
    "    print(tups)\n",
    "        \n",
    "        \n",
    "    "
   ]
  },
  {
   "cell_type": "code",
   "execution_count": 77,
   "id": "5cb03530-485f-4fe8-9498-70ce9b8921d4",
   "metadata": {},
   "outputs": [
    {
     "name": "stdin",
     "output_type": "stream",
     "text": [
      "Input a list of numbers separated by commas 23,34,45,67,78\n"
     ]
    },
    {
     "name": "stdout",
     "output_type": "stream",
     "text": [
      "['23', '34', '45', '67', '78']\n",
      "('23', '34', '45', '67', '78')\n"
     ]
    }
   ],
   "source": [
    "lstup()"
   ]
  },
  {
   "cell_type": "code",
   "execution_count": null,
   "id": "b15d669f-63bb-406a-a98d-8d26187ca992",
   "metadata": {},
   "outputs": [],
   "source": []
  },
  {
   "cell_type": "code",
   "execution_count": 13,
   "id": "e1502319-3e24-4365-aa14-a59cceebce4d",
   "metadata": {},
   "outputs": [],
   "source": [
    "def darray():\n",
    "    rows=int(input(\"Please input number of rows:\"))\n",
    "    cols=int(input(\"Please input column names:\"))\n",
    "    arrayname=[[0 for col in range(cols)] for r in range(rows)]\n",
    "    for r in rows:\n",
    "        for c in cols:\n",
    "            arrayname[rows] [cols]=rows*cols\n",
    "    print(arrayname)"
   ]
  },
  {
   "cell_type": "code",
   "execution_count": 14,
   "id": "abda7eb7-ee46-49df-9613-fe12ac68e1d7",
   "metadata": {},
   "outputs": [
    {
     "name": "stdin",
     "output_type": "stream",
     "text": [
      "Please input number of rows: 3\n",
      "Please input column names: 5\n"
     ]
    },
    {
     "ename": "TypeError",
     "evalue": "'int' object is not iterable",
     "output_type": "error",
     "traceback": [
      "\u001b[1;31m---------------------------------------------------------------------------\u001b[0m",
      "\u001b[1;31mTypeError\u001b[0m                                 Traceback (most recent call last)",
      "\u001b[1;32m~\\AppData\\Local\\Temp/ipykernel_1008/4060188868.py\u001b[0m in \u001b[0;36m<module>\u001b[1;34m\u001b[0m\n\u001b[1;32m----> 1\u001b[1;33m \u001b[0mdarray\u001b[0m\u001b[1;33m(\u001b[0m\u001b[1;33m)\u001b[0m\u001b[1;33m\u001b[0m\u001b[1;33m\u001b[0m\u001b[0m\n\u001b[0m",
      "\u001b[1;32m~\\AppData\\Local\\Temp/ipykernel_1008/2008403328.py\u001b[0m in \u001b[0;36mdarray\u001b[1;34m()\u001b[0m\n\u001b[0;32m      3\u001b[0m     \u001b[0mcols\u001b[0m\u001b[1;33m=\u001b[0m\u001b[0mint\u001b[0m\u001b[1;33m(\u001b[0m\u001b[0minput\u001b[0m\u001b[1;33m(\u001b[0m\u001b[1;34m\"Please input column names:\"\u001b[0m\u001b[1;33m)\u001b[0m\u001b[1;33m)\u001b[0m\u001b[1;33m\u001b[0m\u001b[1;33m\u001b[0m\u001b[0m\n\u001b[0;32m      4\u001b[0m     \u001b[0marrayname\u001b[0m\u001b[1;33m=\u001b[0m\u001b[1;33m[\u001b[0m\u001b[1;33m[\u001b[0m\u001b[1;36m0\u001b[0m \u001b[1;32mfor\u001b[0m \u001b[0mcol\u001b[0m \u001b[1;32min\u001b[0m \u001b[0mrange\u001b[0m\u001b[1;33m(\u001b[0m\u001b[0mcols\u001b[0m\u001b[1;33m)\u001b[0m\u001b[1;33m]\u001b[0m \u001b[1;32mfor\u001b[0m \u001b[0mr\u001b[0m \u001b[1;32min\u001b[0m \u001b[0mrange\u001b[0m\u001b[1;33m(\u001b[0m\u001b[0mrows\u001b[0m\u001b[1;33m)\u001b[0m\u001b[1;33m]\u001b[0m\u001b[1;33m\u001b[0m\u001b[1;33m\u001b[0m\u001b[0m\n\u001b[1;32m----> 5\u001b[1;33m     \u001b[1;32mfor\u001b[0m \u001b[0mr\u001b[0m \u001b[1;32min\u001b[0m \u001b[0mrows\u001b[0m\u001b[1;33m:\u001b[0m\u001b[1;33m\u001b[0m\u001b[1;33m\u001b[0m\u001b[0m\n\u001b[0m\u001b[0;32m      6\u001b[0m         \u001b[1;32mfor\u001b[0m \u001b[0mc\u001b[0m \u001b[1;32min\u001b[0m \u001b[0mcols\u001b[0m\u001b[1;33m:\u001b[0m\u001b[1;33m\u001b[0m\u001b[1;33m\u001b[0m\u001b[0m\n\u001b[0;32m      7\u001b[0m             \u001b[0marrayname\u001b[0m\u001b[1;33m[\u001b[0m\u001b[0mrows\u001b[0m\u001b[1;33m]\u001b[0m \u001b[1;33m[\u001b[0m\u001b[0mcols\u001b[0m\u001b[1;33m]\u001b[0m\u001b[1;33m=\u001b[0m\u001b[0mrows\u001b[0m\u001b[1;33m*\u001b[0m\u001b[0mcols\u001b[0m\u001b[1;33m\u001b[0m\u001b[1;33m\u001b[0m\u001b[0m\n",
      "\u001b[1;31mTypeError\u001b[0m: 'int' object is not iterable"
     ]
    }
   ],
   "source": [
    "darray()"
   ]
  },
  {
   "cell_type": "code",
   "execution_count": null,
   "id": "50579eef-bda5-4031-a1f6-15c98271a0c0",
   "metadata": {},
   "outputs": [],
   "source": []
  },
  {
   "cell_type": "code",
   "execution_count": 97,
   "id": "6269b0e9-b9a1-44f2-9378-bfe847240827",
   "metadata": {},
   "outputs": [],
   "source": [
    "def p_string():\n",
    "    st=input(\"input comma separated string values:\")\n",
    "    list1=st.split(\",\") # splits a string using comma as the delimiter, then outputs a list\n",
    "    list1.sort() # sorts the list alphabetically\n",
    "    print(list1)"
   ]
  },
  {
   "cell_type": "code",
   "execution_count": 98,
   "id": "1d1fe7e5-0083-4350-827e-e2b67564a483",
   "metadata": {},
   "outputs": [
    {
     "name": "stdin",
     "output_type": "stream",
     "text": [
      "input comma separated string values: without,hello,bag,world\n"
     ]
    },
    {
     "name": "stdout",
     "output_type": "stream",
     "text": [
      "['bag', 'hello', 'without', 'world']\n"
     ]
    }
   ],
   "source": [
    "p_string()"
   ]
  },
  {
   "cell_type": "code",
   "execution_count": null,
   "id": "11fc2460-9588-4489-ae94-f10dd320ada4",
   "metadata": {},
   "outputs": [],
   "source": []
  },
  {
   "cell_type": "code",
   "execution_count": 99,
   "id": "e948c03f-1144-4524-8140-41772bc5a456",
   "metadata": {},
   "outputs": [],
   "source": [
    "dna=\"john is coming home\""
   ]
  },
  {
   "cell_type": "code",
   "execution_count": 100,
   "id": "35674482-8d99-475d-a694-a5a7e67e9043",
   "metadata": {},
   "outputs": [
    {
     "data": {
      "text/plain": [
       "'JOHN IS COMING HOME'"
      ]
     },
     "execution_count": 100,
     "metadata": {},
     "output_type": "execute_result"
    }
   ],
   "source": [
    "dna.upper()"
   ]
  },
  {
   "cell_type": "code",
   "execution_count": 1,
   "id": "dc1de3b7-0331-4475-98b1-70226f059fb1",
   "metadata": {},
   "outputs": [],
   "source": [
    "def seq_lines():\n",
    "    line=str(input(\"\"\"\n",
    "    input a sequence of lines:\n",
    "    \"\"\")) \n",
    "    line2=line.upper() ## I can not \n",
    "    print(line2)\n"
   ]
  },
  {
   "cell_type": "code",
   "execution_count": null,
   "id": "e81a4343-57c5-49a0-bfb6-65ded08d74c6",
   "metadata": {},
   "outputs": [],
   "source": []
  },
  {
   "cell_type": "code",
   "execution_count": 3,
   "id": "2f6512cd-2721-4b81-a5b5-63baf6b3331f",
   "metadata": {},
   "outputs": [
    {
     "ename": "SyntaxError",
     "evalue": "'break' outside loop (Temp/ipykernel_4868/2356818636.py, line 9)",
     "output_type": "error",
     "traceback": [
      "\u001b[1;36m  File \u001b[1;32m\"C:\\Users\\Hp\\AppData\\Local\\Temp/ipykernel_4868/2356818636.py\"\u001b[1;36m, line \u001b[1;32m9\u001b[0m\n\u001b[1;33m    break;\u001b[0m\n\u001b[1;37m    ^\u001b[0m\n\u001b[1;31mSyntaxError\u001b[0m\u001b[1;31m:\u001b[0m 'break' outside loop\n"
     ]
    }
   ],
   "source": [
    "def Lines():\n",
    "    \n",
    "    lines=[]\n",
    "    while True:\n",
    "        line=input(\"input a sequence of lines:\")\n",
    "    if line:\n",
    "        lines.append(line.upper())\n",
    "    else:\n",
    "         break;\n",
    "    for sc in lines:\n",
    "            print(sc)\n",
    "        \n",
    "             \n",
    "  \n",
    "       "
   ]
  },
  {
   "cell_type": "code",
   "execution_count": null,
   "id": "012f0303-13fb-412f-b213-dba05036c591",
   "metadata": {},
   "outputs": [],
   "source": []
  },
  {
   "cell_type": "code",
   "execution_count": null,
   "id": "3ee81efc-0ef6-4efd-816b-aad2c67a547f",
   "metadata": {},
   "outputs": [],
   "source": []
  },
  {
   "cell_type": "code",
   "execution_count": null,
   "id": "b6c8eaa5-ddeb-4089-a442-58909e3dfb15",
   "metadata": {},
   "outputs": [],
   "source": []
  },
  {
   "cell_type": "code",
   "execution_count": 7,
   "id": "01105b81-ee99-4b46-b7cf-9c7eea53ffe5",
   "metadata": {},
   "outputs": [
    {
     "ename": "SyntaxError",
     "evalue": "'break' outside loop (Temp/ipykernel_4868/3657431998.py, line 8)",
     "output_type": "error",
     "traceback": [
      "\u001b[1;36m  File \u001b[1;32m\"C:\\Users\\Hp\\AppData\\Local\\Temp/ipykernel_4868/3657431998.py\"\u001b[1;36m, line \u001b[1;32m8\u001b[0m\n\u001b[1;33m    break;\u001b[0m\n\u001b[1;37m    ^\u001b[0m\n\u001b[1;31mSyntaxError\u001b[0m\u001b[1;31m:\u001b[0m 'break' outside loop\n"
     ]
    }
   ],
   "source": [
    "def lin():\n",
    "    lines = []\n",
    "    while True:\n",
    "        s = raw_input()\n",
    "    if s:\n",
    "        lines.append(s.upper())\n",
    "    else:\n",
    "        break;"
   ]
  },
  {
   "cell_type": "code",
   "execution_count": null,
   "id": "bddf1d39-8e12-449f-9474-a948c76b3ec8",
   "metadata": {},
   "outputs": [],
   "source": []
  },
  {
   "cell_type": "code",
   "execution_count": 38,
   "id": "ee2cc529-5766-4e77-af71-2d81776efa47",
   "metadata": {},
   "outputs": [],
   "source": [
    "class gp_strings():\n",
    "    def _init_(one):\n",
    "        one.str1=\"\"\n",
    "    def getStrings():\n",
    "        one.str1=input('input some string:')\n",
    "    def print_string():\n",
    "        print(one.str1.upper())\n",
    "        f_string=gp_strings()\n",
    "        f_string.getStrings\n",
    "        \n",
    "        f_string.print_string\n",
    "   "
   ]
  },
  {
   "cell_type": "code",
   "execution_count": 32,
   "id": "0f74761d-cb87-4241-8d8a-3c4fb475c726",
   "metadata": {},
   "outputs": [
    {
     "data": {
      "text/plain": [
       "<bound method gp_strings.print_string of <__main__.gp_strings object at 0x00000238FDCFCBE0>>"
      ]
     },
     "execution_count": 32,
     "metadata": {},
     "output_type": "execute_result"
    }
   ],
   "source": []
  },
  {
   "cell_type": "code",
   "execution_count": 39,
   "id": "edacf689-db66-44eb-9b11-b9b2058745e9",
   "metadata": {},
   "outputs": [
    {
     "data": {
      "text/plain": [
       "<__main__.gp_strings at 0x238fdcfcbe0>"
      ]
     },
     "execution_count": 39,
     "metadata": {},
     "output_type": "execute_result"
    }
   ],
   "source": [
    "f_string"
   ]
  },
  {
   "cell_type": "code",
   "execution_count": 40,
   "id": "15acf450-9489-4039-93dc-528bf4da97f6",
   "metadata": {},
   "outputs": [
    {
     "ename": "TypeError",
     "evalue": "'gp_strings' object is not callable",
     "output_type": "error",
     "traceback": [
      "\u001b[1;31m---------------------------------------------------------------------------\u001b[0m",
      "\u001b[1;31mTypeError\u001b[0m                                 Traceback (most recent call last)",
      "\u001b[1;32m~\\AppData\\Local\\Temp/ipykernel_4868/1107461170.py\u001b[0m in \u001b[0;36m<module>\u001b[1;34m\u001b[0m\n\u001b[1;32m----> 1\u001b[1;33m \u001b[0mstrings\u001b[0m\u001b[1;33m=\u001b[0m\u001b[0mf_string\u001b[0m\u001b[1;33m(\u001b[0m\u001b[1;33m)\u001b[0m\u001b[1;33m\u001b[0m\u001b[1;33m\u001b[0m\u001b[0m\n\u001b[0m",
      "\u001b[1;31mTypeError\u001b[0m: 'gp_strings' object is not callable"
     ]
    }
   ],
   "source": [
    "strings=f_string()"
   ]
  },
  {
   "cell_type": "code",
   "execution_count": null,
   "id": "76f1fc3c-ac75-4969-aa70-154f81e66a55",
   "metadata": {},
   "outputs": [],
   "source": []
  },
  {
   "cell_type": "code",
   "execution_count": null,
   "id": "622f0f0a-2e23-401b-9e95-a8398d9bbc73",
   "metadata": {},
   "outputs": [],
   "source": [
    "def sq_root():\n",
    "    import math\n",
    "    nms=input(\"input comma seprated value\")\n",
    "    numms=[]\n",
    "    for g in nms:\n",
    "        Q=sq_root(2*\n",
    "              "
   ]
  },
  {
   "cell_type": "code",
   "execution_count": null,
   "id": "ee27b96e-0f59-4129-a0c1-286199a4568b",
   "metadata": {},
   "outputs": [],
   "source": []
  },
  {
   "cell_type": "code",
   "execution_count": 4,
   "id": "b731861c-8b13-4ddc-9811-9f32d72fa70a",
   "metadata": {},
   "outputs": [],
   "source": [
    "def lett_count():\n",
    "    string1=str(input(\"please input a string:\"))\n",
    "    up=string1.isupper()\n",
    "    low=string1.islower()\n",
    "    print(\"UPPER\", len(up))\n",
    "    print(\"LOWER\", len(low))\n",
    "    "
   ]
  },
  {
   "cell_type": "code",
   "execution_count": 5,
   "id": "f46138fe-dc40-4339-9548-2757c22e8ee8",
   "metadata": {},
   "outputs": [
    {
     "name": "stdin",
     "output_type": "stream",
     "text": [
      "please input a string: Hello world!\n"
     ]
    },
    {
     "ename": "TypeError",
     "evalue": "object of type 'bool' has no len()",
     "output_type": "error",
     "traceback": [
      "\u001b[1;31m---------------------------------------------------------------------------\u001b[0m",
      "\u001b[1;31mTypeError\u001b[0m                                 Traceback (most recent call last)",
      "\u001b[1;32m~\\AppData\\Local\\Temp/ipykernel_14260/4012940706.py\u001b[0m in \u001b[0;36m<module>\u001b[1;34m\u001b[0m\n\u001b[1;32m----> 1\u001b[1;33m \u001b[0mlett_count\u001b[0m\u001b[1;33m(\u001b[0m\u001b[1;33m)\u001b[0m\u001b[1;33m\u001b[0m\u001b[1;33m\u001b[0m\u001b[0m\n\u001b[0m",
      "\u001b[1;32m~\\AppData\\Local\\Temp/ipykernel_14260/782016353.py\u001b[0m in \u001b[0;36mlett_count\u001b[1;34m()\u001b[0m\n\u001b[0;32m      3\u001b[0m     \u001b[0mup\u001b[0m\u001b[1;33m=\u001b[0m\u001b[0mstring1\u001b[0m\u001b[1;33m.\u001b[0m\u001b[0misupper\u001b[0m\u001b[1;33m(\u001b[0m\u001b[1;33m)\u001b[0m\u001b[1;33m\u001b[0m\u001b[1;33m\u001b[0m\u001b[0m\n\u001b[0;32m      4\u001b[0m     \u001b[0mlow\u001b[0m\u001b[1;33m=\u001b[0m\u001b[0mstring1\u001b[0m\u001b[1;33m.\u001b[0m\u001b[0mislower\u001b[0m\u001b[1;33m(\u001b[0m\u001b[1;33m)\u001b[0m\u001b[1;33m\u001b[0m\u001b[1;33m\u001b[0m\u001b[0m\n\u001b[1;32m----> 5\u001b[1;33m     \u001b[0mprint\u001b[0m\u001b[1;33m(\u001b[0m\u001b[1;34m\"UPPER\"\u001b[0m\u001b[1;33m,\u001b[0m \u001b[0mlen\u001b[0m\u001b[1;33m(\u001b[0m\u001b[0mup\u001b[0m\u001b[1;33m)\u001b[0m\u001b[1;33m)\u001b[0m\u001b[1;33m\u001b[0m\u001b[1;33m\u001b[0m\u001b[0m\n\u001b[0m\u001b[0;32m      6\u001b[0m     \u001b[0mprint\u001b[0m\u001b[1;33m(\u001b[0m\u001b[1;34m\"LOWER\"\u001b[0m\u001b[1;33m,\u001b[0m \u001b[0mlen\u001b[0m\u001b[1;33m(\u001b[0m\u001b[0mlow\u001b[0m\u001b[1;33m)\u001b[0m\u001b[1;33m)\u001b[0m\u001b[1;33m\u001b[0m\u001b[1;33m\u001b[0m\u001b[0m\n\u001b[0;32m      7\u001b[0m \u001b[1;33m\u001b[0m\u001b[0m\n",
      "\u001b[1;31mTypeError\u001b[0m: object of type 'bool' has no len()"
     ]
    }
   ],
   "source": [
    "lett_count()"
   ]
  },
  {
   "cell_type": "code",
   "execution_count": null,
   "id": "f87da9c4-6cdc-4e2c-bcc4-53e489e82b08",
   "metadata": {},
   "outputs": [],
   "source": []
  },
  {
   "cell_type": "code",
   "execution_count": 6,
   "id": "388611cf-74ed-45c1-a0b8-0981ed3dce33",
   "metadata": {},
   "outputs": [],
   "source": [
    "vc=\"Hello world!\""
   ]
  },
  {
   "cell_type": "code",
   "execution_count": 8,
   "id": "550f4d62-10ad-46cf-84a8-87bc82462e7e",
   "metadata": {},
   "outputs": [
    {
     "data": {
      "text/plain": [
       "'HELLO WORLD!'"
      ]
     },
     "execution_count": 8,
     "metadata": {},
     "output_type": "execute_result"
    }
   ],
   "source": [
    "vc.upper()"
   ]
  },
  {
   "cell_type": "code",
   "execution_count": 9,
   "id": "55a038fd-35d7-47ff-9f31-e4d86d1eb43f",
   "metadata": {},
   "outputs": [
    {
     "ename": "TypeError",
     "evalue": "object of type 'bool' has no len()",
     "output_type": "error",
     "traceback": [
      "\u001b[1;31m---------------------------------------------------------------------------\u001b[0m",
      "\u001b[1;31mTypeError\u001b[0m                                 Traceback (most recent call last)",
      "\u001b[1;32m~\\AppData\\Local\\Temp/ipykernel_14260/2892856217.py\u001b[0m in \u001b[0;36m<module>\u001b[1;34m\u001b[0m\n\u001b[1;32m----> 1\u001b[1;33m \u001b[0mlen\u001b[0m\u001b[1;33m(\u001b[0m\u001b[0mvc\u001b[0m\u001b[1;33m.\u001b[0m\u001b[0misupper\u001b[0m\u001b[1;33m(\u001b[0m\u001b[1;33m)\u001b[0m\u001b[1;33m)\u001b[0m\u001b[1;33m\u001b[0m\u001b[1;33m\u001b[0m\u001b[0m\n\u001b[0m",
      "\u001b[1;31mTypeError\u001b[0m: object of type 'bool' has no len()"
     ]
    }
   ],
   "source": [
    "len(vc.isupper())"
   ]
  },
  {
   "cell_type": "code",
   "execution_count": null,
   "id": "526c7871-3b00-4f77-a6a5-005b568c426e",
   "metadata": {},
   "outputs": [],
   "source": []
  },
  {
   "cell_type": "code",
   "execution_count": 27,
   "id": "3a5014e5-5394-4fd9-8615-aa4659a442d1",
   "metadata": {},
   "outputs": [],
   "source": [
    "def plusn():\n",
    "    nx=input(\"input a value:\")\n",
    "    n=nx*1\n",
    "    nn=nx*2\n",
    "    nnn=nx*3\n",
    "    nnnn=nx*4\n",
    "    \n",
    "    sum_total=int(n)+int(nn)+int(nnn)+int(nnnn)\n",
    "    print(sum_total)\n",
    "    \n",
    "    \n",
    "\n",
    "    "
   ]
  },
  {
   "cell_type": "code",
   "execution_count": 28,
   "id": "dc39d3ab-6fb3-4e75-b77a-316c99cbc9f5",
   "metadata": {},
   "outputs": [
    {
     "name": "stdin",
     "output_type": "stream",
     "text": [
      "input a value: 9\n"
     ]
    },
    {
     "name": "stdout",
     "output_type": "stream",
     "text": [
      "11106\n"
     ]
    }
   ],
   "source": [
    "plusn()"
   ]
  },
  {
   "cell_type": "code",
   "execution_count": 10,
   "id": "49b7ff3d-941a-4bfb-ae4c-dcf2de968bf7",
   "metadata": {},
   "outputs": [
    {
     "name": "stdin",
     "output_type": "stream",
     "text": [
      "input a sequence of digits: 1,2,3,4,5,6,7,8,9\n"
     ]
    },
    {
     "name": "stdout",
     "output_type": "stream",
     "text": [
      "['1', '3', '5', '7', '9']\n"
     ]
    }
   ],
   "source": [
    "num_s=input(\"input a sequence of digits:\")\n",
    "num_list=[od for od in num_s.split(\",\") if int(od) % 2 !=0 ]\n",
    "print(num_list)"
   ]
  },
  {
   "cell_type": "code",
   "execution_count": null,
   "id": "acb143a1-4e98-442b-b13f-5bf52798e91c",
   "metadata": {},
   "outputs": [],
   "source": []
  },
  {
   "cell_type": "code",
   "execution_count": 59,
   "id": "34ba7a4a-75c9-4dbd-8ee2-9656d5062262",
   "metadata": {},
   "outputs": [
    {
     "data": {
      "text/plain": [
       "str"
      ]
     },
     "execution_count": 59,
     "metadata": {},
     "output_type": "execute_result"
    }
   ],
   "source": [
    "type(num_s)"
   ]
  },
  {
   "cell_type": "markdown",
   "id": "30c0727f-84e2-410d-a344-1ef8318cb02f",
   "metadata": {},
   "source": [
    "#### Question 17"
   ]
  },
  {
   "cell_type": "code",
   "execution_count": 79,
   "id": "8d1322f9-ec5c-4458-9f26-674d21bd773a",
   "metadata": {},
   "outputs": [],
   "source": [
    "def bank_acc():\n",
    "    bal=0\n",
    "    while True:\n",
    "        trans=input(\"input your option 'W' withdraw,'D' deposit the amount\")\n",
    "        if trans==\"\":\n",
    "           \n",
    "            break\n",
    "        else:\n",
    "            tran=trans.split(\" \")\n",
    "            if tran[0]==\"D\":\n",
    "                bal=bal + int(tran[1])\n",
    "            elif tran[0]==\"W\":\n",
    "                bal=bal - int(tran[1])\n",
    "            print(bal)\n",
    "            print(\"Click enter once done to exit\")"
   ]
  },
  {
   "cell_type": "code",
   "execution_count": 80,
   "id": "2c3d2a09-a9f9-4eff-b771-05509e8d6124",
   "metadata": {},
   "outputs": [
    {
     "name": "stdin",
     "output_type": "stream",
     "text": [
      "input your option 'W' withdraw,'D' deposit the amount D 300\n"
     ]
    },
    {
     "name": "stdout",
     "output_type": "stream",
     "text": [
      "300\n",
      "Click enter once done to exit\n"
     ]
    },
    {
     "name": "stdin",
     "output_type": "stream",
     "text": [
      "input your option 'W' withdraw,'D' deposit the amount D 300\n"
     ]
    },
    {
     "name": "stdout",
     "output_type": "stream",
     "text": [
      "600\n",
      "Click enter once done to exit\n"
     ]
    },
    {
     "name": "stdin",
     "output_type": "stream",
     "text": [
      "input your option 'W' withdraw,'D' deposit the amount W 200\n"
     ]
    },
    {
     "name": "stdout",
     "output_type": "stream",
     "text": [
      "400\n",
      "Click enter once done to exit\n"
     ]
    },
    {
     "name": "stdin",
     "output_type": "stream",
     "text": [
      "input your option 'W' withdraw,'D' deposit the amount D 100\n"
     ]
    },
    {
     "name": "stdout",
     "output_type": "stream",
     "text": [
      "500\n",
      "Click enter once done to exit\n"
     ]
    },
    {
     "name": "stdin",
     "output_type": "stream",
     "text": [
      "input your option 'W' withdraw,'D' deposit the amount \n"
     ]
    }
   ],
   "source": [
    "bank_acc()"
   ]
  },
  {
   "cell_type": "code",
   "execution_count": null,
   "id": "04743c59-39b2-4531-8d12-426e6ce6b4f9",
   "metadata": {},
   "outputs": [],
   "source": []
  },
  {
   "cell_type": "code",
   "execution_count": 11,
   "id": "0bb59c4d-3c0d-434b-a868-86b66758933d",
   "metadata": {},
   "outputs": [],
   "source": [
    "def removedup_order():\n",
    "    text=set(input(\"input some string text\"))\n",
    "    text2=\"\".join(text)\n",
    "    duplicates=\"\"\n",
    "    for dup in text:\n",
    "        if dup in duplicates:\n",
    "            pass\n",
    "        else:\n",
    "            duplicates=duplicates+dup\n",
    "        print(text2)\n",
    "    "
   ]
  },
  {
   "cell_type": "code",
   "execution_count": null,
   "id": "b45c532e-b42d-467c-b2f6-650a8a6abc1b",
   "metadata": {},
   "outputs": [],
   "source": []
  },
  {
   "cell_type": "code",
   "execution_count": 50,
   "id": "87f8579b-9d3b-4528-a2dd-27fd2cbd6f60",
   "metadata": {},
   "outputs": [],
   "source": [
    "def rm_dups():\n",
    "    txt=input(\"Input your text\")\n",
    "    text_list=txt.split(' ')\n",
    "    with_nodups=[]\n",
    "    for w in text_list:\n",
    "        if w not in with_nodups:\n",
    "            with_nodups.append(w)\n",
    "    print(\" \".join(sorted(with_nodups)))\n",
    "   \n",
    "        "
   ]
  },
  {
   "cell_type": "code",
   "execution_count": 49,
   "id": "0c1ba547-767b-481d-80dd-a3e948d99b3c",
   "metadata": {},
   "outputs": [
    {
     "name": "stdin",
     "output_type": "stream",
     "text": [
      "Input your text hello world and practice makes perfect and hello world again\n"
     ]
    },
    {
     "name": "stdout",
     "output_type": "stream",
     "text": [
      "['hello']\n",
      "['hello', 'world']\n",
      "['and', 'hello', 'world']\n",
      "['and', 'hello', 'practice', 'world']\n",
      "['and', 'hello', 'makes', 'practice', 'world']\n",
      "['and', 'hello', 'makes', 'perfect', 'practice', 'world']\n",
      "['again', 'and', 'hello', 'makes', 'perfect', 'practice', 'world']\n"
     ]
    }
   ],
   "source": [
    "rm_dups()"
   ]
  },
  {
   "cell_type": "code",
   "execution_count": null,
   "id": "34086e24-eea1-40ac-98b2-1a3d6a935516",
   "metadata": {},
   "outputs": [],
   "source": []
  },
  {
   "cell_type": "code",
   "execution_count": null,
   "id": "8a2e1b5d-5438-4206-a97d-49cfc305626b",
   "metadata": {},
   "outputs": [],
   "source": []
  },
  {
   "cell_type": "code",
   "execution_count": null,
   "id": "584636aa-28a4-4c0a-83e8-992306f92d41",
   "metadata": {},
   "outputs": [],
   "source": []
  },
  {
   "cell_type": "markdown",
   "id": "8b744712-cacb-4b6c-8fd7-4c5d4a928476",
   "metadata": {},
   "source": [
    "#### Question 11"
   ]
  },
  {
   "cell_type": "code",
   "execution_count": 75,
   "id": "b4f38863-913b-4a67-9b58-493e33341c70",
   "metadata": {},
   "outputs": [],
   "source": [
    "def check():\n",
    "    item1=[]\n",
    "    item2=input('input a sequence of binary numbers').split(\",\") # list from a string input\n",
    "    for p in item2:\n",
    "        binary=int(p,2) # converts binary to intergers\n",
    "        if binary % 5 ==0:\n",
    "            item1.append(p)\n",
    "    print(\" \".join(item1)) # puts together strings into one string"
   ]
  },
  {
   "cell_type": "code",
   "execution_count": 72,
   "id": "a6f1def3-15bc-4ec6-8273-cc55e86e3c74",
   "metadata": {},
   "outputs": [
    {
     "name": "stdin",
     "output_type": "stream",
     "text": [
      "input a sequence of binary numbers 0100,0011,1010,1001\n"
     ]
    },
    {
     "name": "stdout",
     "output_type": "stream",
     "text": [
      "1010\n"
     ]
    }
   ],
   "source": [
    "check()"
   ]
  },
  {
   "cell_type": "code",
   "execution_count": null,
   "id": "a5010b0c-031d-467d-adb0-942cc646eb2e",
   "metadata": {},
   "outputs": [],
   "source": []
  },
  {
   "cell_type": "code",
   "execution_count": 60,
   "id": "9c2a713f-1bf7-4378-a369-84653782ae00",
   "metadata": {},
   "outputs": [],
   "source": [
    "bina=(\"0100,0011,1010,1001\").split(\",\")"
   ]
  },
  {
   "cell_type": "code",
   "execution_count": 61,
   "id": "6b27ce17-3f97-43cc-a328-93e44345ab42",
   "metadata": {},
   "outputs": [
    {
     "data": {
      "text/plain": [
       "list"
      ]
     },
     "execution_count": 61,
     "metadata": {},
     "output_type": "execute_result"
    }
   ],
   "source": [
    "type(bina)"
   ]
  },
  {
   "cell_type": "raw",
   "id": "16c19490-5145-4ada-a144-66ea133e2fb9",
   "metadata": {},
   "source": []
  },
  {
   "cell_type": "code",
   "execution_count": null,
   "id": "eba68957-2c1b-4b28-a494-ed0bb73ee873",
   "metadata": {},
   "outputs": [],
   "source": []
  },
  {
   "cell_type": "markdown",
   "id": "6c6d2844-7802-409d-83af-5d858abb11dd",
   "metadata": {},
   "source": [
    "#### Question 18"
   ]
  },
  {
   "cell_type": "code",
   "execution_count": null,
   "id": "fec33ee9-148f-499c-b410-ea543610bdf4",
   "metadata": {},
   "outputs": [],
   "source": [
    "import re\n",
    "def test_password():\n",
    "    passwords=input(\"Enter password:\").split(\",\")\n",
    "    good_password=[]\n",
    "    \n",
    "    for password in passwords:\n",
    "        if len(password) >6 and len(password) < 12:\n",
    "            continue\n",
    "        elif re.search(\"[a-z]\",password):\n",
    "            continue\n",
    "        elif re.search(\"[A-Z]\",password):\n",
    "            continue\n",
    "        elif re.search(\"[0-9]\",password):\n",
    "            continue\n",
    "        elif re.search(\"[$#@]\",password):\n",
    "            continue\n",
    "        else:\n",
    "            good_password.append(password)\n",
    "                       \n",
    "                       \n",
    "        print(\" \".join(good_password))\n",
    "    \n",
    "    "
   ]
  },
  {
   "cell_type": "code",
   "execution_count": null,
   "id": "62ee4771-662f-490e-a174-d8dcbcb389e6",
   "metadata": {},
   "outputs": [],
   "source": [
    "test_password()"
   ]
  },
  {
   "cell_type": "code",
   "execution_count": null,
   "id": "8ea67d4c-c436-4f00-994e-2fe9696748e7",
   "metadata": {},
   "outputs": [],
   "source": [
    "def sort_tup():\n",
    "    "
   ]
  },
  {
   "cell_type": "code",
   "execution_count": null,
   "id": "fac6c9ec-68bc-4320-83de-0e796a72337f",
   "metadata": {},
   "outputs": [],
   "source": []
  },
  {
   "cell_type": "code",
   "execution_count": null,
   "id": "cf1c7206-6323-4c11-b608-48163611bd57",
   "metadata": {},
   "outputs": [],
   "source": []
  },
  {
   "cell_type": "code",
   "execution_count": null,
   "id": "237487f1-0625-43c1-b8da-ada7d13aa624",
   "metadata": {},
   "outputs": [],
   "source": []
  },
  {
   "cell_type": "code",
   "execution_count": null,
   "id": "dec5bd48-2b56-4b7c-861b-a3c61c4e76c1",
   "metadata": {},
   "outputs": [],
   "source": []
  },
  {
   "cell_type": "code",
   "execution_count": null,
   "id": "638695d8-3a4a-4b57-b213-31de9d0f3e04",
   "metadata": {},
   "outputs": [],
   "source": []
  },
  {
   "cell_type": "code",
   "execution_count": null,
   "id": "f1c59263-e90a-416d-a72d-a161ba022997",
   "metadata": {},
   "outputs": [],
   "source": []
  },
  {
   "cell_type": "code",
   "execution_count": null,
   "id": "cf89d123-627e-4a51-990e-e04a338d1426",
   "metadata": {},
   "outputs": [],
   "source": []
  },
  {
   "cell_type": "code",
   "execution_count": null,
   "id": "bb59edc6-12bf-472b-a025-63539e9a1b5c",
   "metadata": {},
   "outputs": [],
   "source": []
  },
  {
   "cell_type": "code",
   "execution_count": null,
   "id": "100a107f-6374-4795-b040-e1c9a03480da",
   "metadata": {},
   "outputs": [],
   "source": []
  },
  {
   "cell_type": "code",
   "execution_count": null,
   "id": "f0d43a5f-4083-46b1-96b6-cd1ff93621eb",
   "metadata": {},
   "outputs": [],
   "source": []
  },
  {
   "cell_type": "code",
   "execution_count": null,
   "id": "7ad67535-3594-404b-a930-52ddd55ebc63",
   "metadata": {},
   "outputs": [],
   "source": []
  },
  {
   "cell_type": "code",
   "execution_count": null,
   "id": "8c96134d-ead3-47b3-983b-5e03b5d9dde3",
   "metadata": {},
   "outputs": [],
   "source": []
  },
  {
   "cell_type": "code",
   "execution_count": null,
   "id": "ea818023-2c28-477d-9cba-5a29a1df3968",
   "metadata": {},
   "outputs": [],
   "source": []
  },
  {
   "cell_type": "code",
   "execution_count": null,
   "id": "b1989764-1f98-4c50-bbc1-06605dd44294",
   "metadata": {},
   "outputs": [],
   "source": []
  },
  {
   "cell_type": "code",
   "execution_count": null,
   "id": "379d1f79-e3ef-43f4-b90d-31f323be097b",
   "metadata": {},
   "outputs": [],
   "source": []
  },
  {
   "cell_type": "code",
   "execution_count": null,
   "id": "3beda538-5c0b-4859-a142-388c4004d153",
   "metadata": {},
   "outputs": [],
   "source": []
  },
  {
   "cell_type": "code",
   "execution_count": null,
   "id": "cfeb396e-4e80-4029-bc0f-6a7ee5ae529f",
   "metadata": {},
   "outputs": [],
   "source": []
  },
  {
   "cell_type": "code",
   "execution_count": null,
   "id": "aef9ff39-a784-49bd-9f10-7a85d19c141a",
   "metadata": {},
   "outputs": [],
   "source": []
  },
  {
   "cell_type": "code",
   "execution_count": null,
   "id": "1a7633b1-20c2-4de8-ac4c-448cd70580b7",
   "metadata": {},
   "outputs": [],
   "source": []
  },
  {
   "cell_type": "code",
   "execution_count": null,
   "id": "7525138b-637b-444c-894f-89830f42c857",
   "metadata": {},
   "outputs": [],
   "source": []
  },
  {
   "cell_type": "code",
   "execution_count": null,
   "id": "877d793d-f9a9-46b6-ac75-2d52da819245",
   "metadata": {},
   "outputs": [],
   "source": []
  },
  {
   "cell_type": "code",
   "execution_count": null,
   "id": "6b3d092b-5837-4b6e-b5ad-381cfd109c9f",
   "metadata": {},
   "outputs": [],
   "source": []
  },
  {
   "cell_type": "code",
   "execution_count": null,
   "id": "57dd43ef-c1fe-4a00-8b6e-447759c18b61",
   "metadata": {},
   "outputs": [],
   "source": []
  },
  {
   "cell_type": "code",
   "execution_count": null,
   "id": "e3dcf74f-4406-4976-ad37-a7f95210830a",
   "metadata": {},
   "outputs": [],
   "source": []
  },
  {
   "cell_type": "code",
   "execution_count": null,
   "id": "2a2cd4ab-e4d9-437c-a424-cc875221856e",
   "metadata": {},
   "outputs": [],
   "source": []
  },
  {
   "cell_type": "code",
   "execution_count": null,
   "id": "77d1d73d-fa89-4b99-bdc9-88564b315a6e",
   "metadata": {},
   "outputs": [],
   "source": []
  },
  {
   "cell_type": "code",
   "execution_count": null,
   "id": "68512876-42bb-4fa4-871b-018fc5c2ae2e",
   "metadata": {},
   "outputs": [],
   "source": []
  },
  {
   "cell_type": "code",
   "execution_count": null,
   "id": "6c16c1b9-c411-425e-8a7d-11a7b0b1e4eb",
   "metadata": {},
   "outputs": [],
   "source": []
  },
  {
   "cell_type": "code",
   "execution_count": null,
   "id": "c6b37955-0ba2-46a3-8286-d6cb5e566154",
   "metadata": {},
   "outputs": [],
   "source": []
  },
  {
   "cell_type": "code",
   "execution_count": null,
   "id": "6f6f3927-8be9-4678-b65e-0fa75ce02b10",
   "metadata": {},
   "outputs": [],
   "source": []
  },
  {
   "cell_type": "code",
   "execution_count": null,
   "id": "917d3f84-bc78-4f9e-9f65-71c733f65992",
   "metadata": {},
   "outputs": [],
   "source": []
  },
  {
   "cell_type": "code",
   "execution_count": null,
   "id": "ee799693-c1de-442e-8374-a6fbf4cc43bd",
   "metadata": {},
   "outputs": [],
   "source": []
  },
  {
   "cell_type": "code",
   "execution_count": null,
   "id": "713b8c0e-ddde-49ec-80c4-e72838eb0735",
   "metadata": {},
   "outputs": [],
   "source": []
  },
  {
   "cell_type": "code",
   "execution_count": null,
   "id": "bd86d13d-ef09-4ed1-be4e-dcfc519dd7ab",
   "metadata": {},
   "outputs": [],
   "source": []
  },
  {
   "cell_type": "code",
   "execution_count": null,
   "id": "d9419a6d-f67a-4ffa-9383-d5aecd07f00e",
   "metadata": {},
   "outputs": [],
   "source": []
  },
  {
   "cell_type": "code",
   "execution_count": null,
   "id": "c7f8ba11-7ec9-4f43-be1e-a6551765e167",
   "metadata": {},
   "outputs": [],
   "source": []
  },
  {
   "cell_type": "code",
   "execution_count": null,
   "id": "19f5acf4-ba2f-4141-a961-3ddb5971c346",
   "metadata": {},
   "outputs": [],
   "source": []
  },
  {
   "cell_type": "code",
   "execution_count": null,
   "id": "00c82a21-ecdc-4246-bce4-a37d4e1feee3",
   "metadata": {},
   "outputs": [],
   "source": []
  },
  {
   "cell_type": "code",
   "execution_count": null,
   "id": "b363ce8a-848f-42e2-afd4-d8c133f0296a",
   "metadata": {},
   "outputs": [],
   "source": []
  },
  {
   "cell_type": "code",
   "execution_count": null,
   "id": "4f885b86-96df-463a-9b72-92b6478578e6",
   "metadata": {},
   "outputs": [],
   "source": []
  },
  {
   "cell_type": "code",
   "execution_count": null,
   "id": "69c85c85-02db-4721-9934-4fbe72e979d5",
   "metadata": {},
   "outputs": [],
   "source": []
  },
  {
   "cell_type": "code",
   "execution_count": null,
   "id": "f005b8ec-4c28-46e2-8c7e-644e56f95e64",
   "metadata": {},
   "outputs": [],
   "source": []
  },
  {
   "cell_type": "code",
   "execution_count": null,
   "id": "a09de23a-3239-44d5-a67e-3d08478c1426",
   "metadata": {},
   "outputs": [],
   "source": []
  },
  {
   "cell_type": "code",
   "execution_count": null,
   "id": "673293e6-28b2-4ef7-a354-ecfa9219e5f1",
   "metadata": {},
   "outputs": [],
   "source": []
  },
  {
   "cell_type": "code",
   "execution_count": null,
   "id": "b4abedb0-a5a8-49e8-8c72-83df830a5626",
   "metadata": {},
   "outputs": [],
   "source": []
  },
  {
   "cell_type": "code",
   "execution_count": null,
   "id": "60487008-c2b6-440c-9830-61e805576cfb",
   "metadata": {},
   "outputs": [],
   "source": []
  },
  {
   "cell_type": "code",
   "execution_count": null,
   "id": "3bb566e0-89bf-4c0a-8a6c-eb199e71ac3d",
   "metadata": {},
   "outputs": [],
   "source": []
  }
 ],
 "metadata": {
  "kernelspec": {
   "display_name": "Python 3 (ipykernel)",
   "language": "python",
   "name": "python3"
  },
  "language_info": {
   "codemirror_mode": {
    "name": "ipython",
    "version": 3
   },
   "file_extension": ".py",
   "mimetype": "text/x-python",
   "name": "python",
   "nbconvert_exporter": "python",
   "pygments_lexer": "ipython3",
   "version": "3.9.7"
  }
 },
 "nbformat": 4,
 "nbformat_minor": 5
}
