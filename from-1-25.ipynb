{
 "cells": [
  {
   "cell_type": "markdown",
   "id": "d1a09e5d-77f8-460a-9828-6e4d66a12028",
   "metadata": {},
   "source": []
  },
  {
   "cell_type": "markdown",
   "id": "96f94980-3a6b-49d6-86b7-099224807255",
   "metadata": {},
   "source": [
    " ## Additional exercises"
   ]
  },
  {
   "cell_type": "markdown",
   "id": "5a83a036-0240-409d-a162-f9dacf1f8b4b",
   "metadata": {},
   "source": [
    "#### Calculate the % GC and % AT content in the trna sequence"
   ]
  },
  {
   "cell_type": "code",
   "execution_count": 1,
   "id": "013413c4-15d1-4586-a720-a028d419033b",
   "metadata": {},
   "outputs": [],
   "source": [
    "trna='AAGGGCTTAGCTTAATTAAAGTGGCTGATTTGCGTTCAGTTGATGCAGAGTGGGGTTTTGCAGTCCTTA'"
   ]
  },
  {
   "cell_type": "code",
   "execution_count": 2,
   "id": "1b6e70b4-6b9a-4025-81d2-31a10306f240",
   "metadata": {},
   "outputs": [],
   "source": [
    "A_count=trna.count('A')\n",
    "C_count=trna.count('C')\n",
    "G_count=trna.count('G')\n",
    "T_count=trna.count('T')"
   ]
  },
  {
   "cell_type": "markdown",
   "id": "604bf263-6263-4eb4-827e-1a915957104b",
   "metadata": {},
   "source": [
    "##### % GC"
   ]
  },
  {
   "cell_type": "code",
   "execution_count": 6,
   "id": "53c75cdd-4edf-4a07-aa99-fd2975e3be86",
   "metadata": {},
   "outputs": [
    {
     "data": {
      "text/plain": [
       "39.434782608695656"
      ]
     },
     "execution_count": 6,
     "metadata": {},
     "output_type": "execute_result"
    }
   ],
   "source": [
    "C_count+ G_count/len(trna) * 100"
   ]
  },
  {
   "cell_type": "code",
   "execution_count": null,
   "id": "f070befa-82dd-4106-b744-e3e930f36028",
   "metadata": {},
   "outputs": [],
   "source": []
  },
  {
   "cell_type": "markdown",
   "id": "2ac982ec-7b09-46bd-80ea-5e0c2da588e1",
   "metadata": {},
   "source": [
    "##### %AT"
   ]
  },
  {
   "cell_type": "code",
   "execution_count": 7,
   "id": "0815fa9a-e9e0-4100-b099-e72184945c98",
   "metadata": {},
   "outputs": [
    {
     "data": {
      "text/plain": [
       "49.78260869565217"
      ]
     },
     "execution_count": 7,
     "metadata": {},
     "output_type": "execute_result"
    }
   ],
   "source": [
    "A_count+T_count / len(trna) * 100"
   ]
  },
  {
   "cell_type": "code",
   "execution_count": null,
   "id": "8373acdc-750e-4546-9057-36f6a9d1e61d",
   "metadata": {},
   "outputs": [],
   "source": []
  },
  {
   "cell_type": "markdown",
   "id": "57d4cbe8-76ac-4c9c-beee-028a0c8350be",
   "metadata": {},
   "source": [
    "### Exercise:\n",
    "\n",
    "1. Given the following amino acid sequence (MNKMDLVADVAEKTDLSKAKATEVIDAVFA), find the first, last and the 5th amino acids in the sequence. \n"
   ]
  },
  {
   "cell_type": "code",
   "execution_count": 8,
   "id": "4e16edea-adc0-471d-bd58-66b60118e524",
   "metadata": {},
   "outputs": [],
   "source": [
    "amino_acid=\"MNKMDLVADVAEKTDLSKAKATEVIDAVFA\""
   ]
  },
  {
   "cell_type": "code",
   "execution_count": 11,
   "id": "025868b6-da40-4a54-aca4-3f1610408643",
   "metadata": {},
   "outputs": [
    {
     "name": "stdout",
     "output_type": "stream",
     "text": [
      "M\n"
     ]
    }
   ],
   "source": [
    "first=amino_acid[0]\n",
    "print(first)"
   ]
  },
  {
   "cell_type": "code",
   "execution_count": null,
   "id": "ec1e60ac-3b9a-4e1c-a882-3868837463ee",
   "metadata": {},
   "outputs": [],
   "source": []
  },
  {
   "cell_type": "code",
   "execution_count": 13,
   "id": "d6837184-0312-4884-a47c-5edd8df3136f",
   "metadata": {},
   "outputs": [
    {
     "name": "stdout",
     "output_type": "stream",
     "text": [
      "A\n"
     ]
    }
   ],
   "source": [
    "last=amino_acid[-1]\n",
    "print(last)"
   ]
  },
  {
   "cell_type": "code",
   "execution_count": null,
   "id": "6cb5de3f-35da-4501-a69e-76b9afccd29c",
   "metadata": {},
   "outputs": [],
   "source": []
  },
  {
   "cell_type": "code",
   "execution_count": 15,
   "id": "c2938121-9a3e-421d-b3c1-e03f5b04f2c0",
   "metadata": {},
   "outputs": [
    {
     "name": "stdout",
     "output_type": "stream",
     "text": [
      "D\n"
     ]
    }
   ],
   "source": [
    "fifth=amino_acid[4]\n",
    "print(fifth)"
   ]
  },
  {
   "cell_type": "code",
   "execution_count": null,
   "id": "36b4f7cb-e738-4917-9ab7-efb232c9a857",
   "metadata": {},
   "outputs": [],
   "source": []
  },
  {
   "cell_type": "code",
   "execution_count": null,
   "id": "b335fce8-a004-4ce0-adec-a437a209cc01",
   "metadata": {},
   "outputs": [],
   "source": []
  },
  {
   "cell_type": "code",
   "execution_count": null,
   "id": "d359380f-accd-4683-a1a5-a24e08a0ebe4",
   "metadata": {},
   "outputs": [],
   "source": []
  },
  {
   "cell_type": "code",
   "execution_count": null,
   "id": "f0da6fff-6424-448b-b25f-0d1580b58566",
   "metadata": {},
   "outputs": [],
   "source": []
  },
  {
   "cell_type": "markdown",
   "id": "adfe94c1-b77e-4c99-9923-a559dd8b1bf6",
   "metadata": {},
   "source": [
    "2. The above amino acid is a bacterial restriction enzyme that recognizes \"TCCGGA\". Find the first restriction site in the following sequence: AAAAATCCCGAGGCGGCTATATAGGGCTCCGGAGGCGTAATATAAAA"
   ]
  },
  {
   "cell_type": "code",
   "execution_count": 16,
   "id": "5d1c7670-f44f-4f9a-b829-1abded415daf",
   "metadata": {},
   "outputs": [],
   "source": [
    "DNA_sequence=\"AAAAATCCCGAGGCGGCTATATAGGGCTCCGGAGGCGTAATATAAAA\"\n",
    "site=\"TCCGGA\""
   ]
  },
  {
   "cell_type": "code",
   "execution_count": 18,
   "id": "c715e087-a0d6-4ee9-8d78-545342351884",
   "metadata": {},
   "outputs": [
    {
     "data": {
      "text/plain": [
       "27"
      ]
     },
     "execution_count": 18,
     "metadata": {},
     "output_type": "execute_result"
    }
   ],
   "source": [
    "DNA_sequence.find(site) # locates the site where the pattern starts"
   ]
  },
  {
   "cell_type": "code",
   "execution_count": null,
   "id": "f7c5c330-3bdc-417d-baa1-e4f938787f55",
   "metadata": {},
   "outputs": [],
   "source": []
  },
  {
   "cell_type": "markdown",
   "id": "0868634a-6b63-416d-ada4-1f7c920b1327",
   "metadata": {},
   "source": [
    "3.  Using strings, lists, tuples and dictionaries concepts, find the reverse complement of AAAAATCCCGAGGCGGCTATATAGGGCTCCGGAGGCGTAATATAAAA"
   ]
  },
  {
   "cell_type": "code",
   "execution_count": 44,
   "id": "6dcd8730-a49f-4db9-9152-280a0a5d98fa",
   "metadata": {},
   "outputs": [
    {
     "name": "stdout",
     "output_type": "stream",
     "text": [
      "['A', 'A', 'A', 'A', 'A', 'T', 'C', 'C', 'C', 'G', 'A', 'G', 'G', 'C', 'G', 'G', 'C', 'T', 'A', 'T', 'A', 'T', 'A', 'G', 'G', 'G', 'C', 'T', 'C', 'C', 'G', 'G', 'A', 'G', 'G', 'C', 'G', 'T', 'A', 'A', 'T', 'A', 'T', 'A', 'A', 'A', 'A']\n",
      "T T T T T A G G G C T C C G C C G A T A T A T C C C G A G G C C T C C G C A T T A T A T T T T\n"
     ]
    }
   ],
   "source": [
    "dna_2=\"AAAAATCCCGAGGCGGCTATATAGGGCTCCGGAGGCGTAATATAAAA\"\n",
    "dna_list=[dn for dn in dna_2] # loops through the string and creates a list \n",
    "print(dna_list)\n",
    "reverse=[]\n",
    "for xn in dna_list:\n",
    "    if xn ==\"A\":\n",
    "        reverse.append(\"t\") # evaluates to true if the value is an A and adds an 't'  and adds an 'a' for 'T'\n",
    "    elif xn==\"T\":\n",
    "        reverse.append(\"a\")\n",
    "    elif xn ==\"G\":\n",
    "        reverse.append(\"c\") # evaluates to true if the value is a 'G' or a \"C\" and 'c' for and 'g' adds to the list respectively \n",
    "    elif xn ==\"C\":\n",
    "        reverse.append(\"g\")\n",
    " \n",
    "complement=\" \".join(reverse).upper()\n",
    "print(complement)\n",
    "        \n",
    "\n",
    "        \n",
    "\n",
    "\n",
    "\n",
    "    "
   ]
  },
  {
   "cell_type": "code",
   "execution_count": null,
   "id": "d0fa7ff3-83e0-4c70-8b40-d3c4ac9d02e1",
   "metadata": {},
   "outputs": [],
   "source": []
  },
  {
   "cell_type": "markdown",
   "id": "fb7e9539-765f-4053-a4e8-1f608d447a3f",
   "metadata": {},
   "source": [
    "Let's return to our earlier exercise: calculating %GC content. In this exercise:\n",
    "- Write a function `percentageGC` that calculates the GC content of a DNA sequence\n",
    "- The function should return the %GC content\n",
    "- The Function should return a message if the provided sequence is not DNA (This should be checked by a different function, called by your function)"
   ]
  },
  {
   "cell_type": "code",
   "execution_count": 142,
   "id": "660419dd-42d1-4478-babc-5dd7de135598",
   "metadata": {},
   "outputs": [
    {
     "ename": "SyntaxError",
     "evalue": "invalid syntax (1347048890.py, line 4)",
     "output_type": "error",
     "traceback": [
      "\u001b[0;36m  File \u001b[0;32m\"/tmp/ipykernel_6272/1347048890.py\"\u001b[0;36m, line \u001b[0;32m4\u001b[0m\n\u001b[0;31m    if not in DNA=[\"A\" \"T\" \"G\" \"C\", dna_seq]\u001b[0m\n\u001b[0m           ^\u001b[0m\n\u001b[0;31mSyntaxError\u001b[0m\u001b[0;31m:\u001b[0m invalid syntax\n"
     ]
    }
   ],
   "source": [
    "def percentageGC(DNA):\n",
    "    \"\"\" Calculates the percentage of GC in a DNA sequence\"\"\"\n",
    "    for dna_seq in DNA:\n",
    "        if not in DNA=[\"A\" \"T\" \"G\" \"C\", dna_seq]\n",
    "                len_DNA=len(DNA_sequence)\n",
    "                len_G=DNA_sequence.count(\"G\")\n",
    "                len_C=DNA_sequence.count(\"C\")\n",
    "                GC_content=((len_C + len_G) / len_DNA )* 100\n",
    "                return (\"This is not a valid DNA sequence\")\n",
    "                print(GC_content)\n",
    "    \n",
    "\n",
    "    "
   ]
  },
  {
   "cell_type": "code",
   "execution_count": 135,
   "id": "1c29a360-df48-4fd9-8b84-9bc913804b7d",
   "metadata": {},
   "outputs": [
    {
     "data": {
      "text/plain": [
       "'This is not a valid DNA sequence'"
      ]
     },
     "execution_count": 135,
     "metadata": {},
     "output_type": "execute_result"
    }
   ],
   "source": [
    "percentageGC(DNA_sequence)"
   ]
  },
  {
   "cell_type": "code",
   "execution_count": null,
   "id": "7f375301-a36c-4510-95fe-cd5ef927459b",
   "metadata": {},
   "outputs": [],
   "source": []
  },
  {
   "cell_type": "code",
   "execution_count": null,
   "id": "7df2ef0d-94bf-421f-97e8-b29b3db702d9",
   "metadata": {},
   "outputs": [],
   "source": []
  },
  {
   "cell_type": "code",
   "execution_count": null,
   "id": "0b4d8a47-2a1c-4ac6-9fe9-e4a27fee1c71",
   "metadata": {},
   "outputs": [],
   "source": []
  },
  {
   "cell_type": "code",
   "execution_count": 51,
   "id": "abb98695-1e91-4207-be52-d0f066b5ccb5",
   "metadata": {},
   "outputs": [
    {
     "data": {
      "text/plain": [
       "'AAAAATCCCGAGGCGGCTATATAGGGCTCCGGAGGCGTAATATAAAA'"
      ]
     },
     "execution_count": 51,
     "metadata": {},
     "output_type": "execute_result"
    }
   ],
   "source": [
    "DNA_sequence"
   ]
  },
  {
   "cell_type": "code",
   "execution_count": null,
   "id": "21c62e8f-f6bb-41ff-b203-c8f9b133ac8b",
   "metadata": {},
   "outputs": [],
   "source": []
  },
  {
   "cell_type": "markdown",
   "id": "cf5acd28-20aa-407d-9c31-9a73b5cfe18b",
   "metadata": {},
   "source": [
    "#### Question 1\n",
    "\n",
    "Write a program which will find all such numbers which are divisible by 7 but are not a multiple of 5, between 2000 and 3200 (both included).\n",
    "The numbers obtained should be printed in a comma-separated sequence on a single line.\n",
    "\n",
    "Hints: \n",
    "Consider use range(#begin, #end) method"
   ]
  },
  {
   "cell_type": "code",
   "execution_count": null,
   "id": "c27b31af-5c9c-4e9f-a003-dfbc7d0b521b",
   "metadata": {},
   "outputs": [],
   "source": []
  },
  {
   "cell_type": "code",
   "execution_count": null,
   "id": "cc3ac2ac-feb1-400b-aee8-98f52077829a",
   "metadata": {},
   "outputs": [],
   "source": [
    "for c in range(2000 , 3201):\n",
    "    if c % 7 ==0 and c % 5 !=0: # The \n",
    "        print(c , end=',')"
   ]
  },
  {
   "cell_type": "code",
   "execution_count": null,
   "id": "52eee7f0-3b34-4455-a718-f138ecd2f822",
   "metadata": {},
   "outputs": [],
   "source": []
  },
  {
   "cell_type": "markdown",
   "id": "cdba0366-1601-4d59-bc03-921381758863",
   "metadata": {},
   "source": [
    "#### Question 2\n",
    "\n",
    "Write a program which can compute the factorial of a given numbers.\n",
    "The results should be printed in a comma-separated sequence on a single line.\n",
    "Suppose the following input is supplied to the program:\n",
    "8\n",
    "Then, the output should be:\n",
    "40320\n",
    "\n",
    "Hints:\n",
    "In case of input data being supplied to the question, it should be assumed to be a console input."
   ]
  },
  {
   "cell_type": "code",
   "execution_count": 70,
   "id": "195a01db-a5ed-4d7d-8fea-d0d773a33a06",
   "metadata": {},
   "outputs": [],
   "source": [
    "def fact(x):\n",
    "    return 1 if (x==1 or x==0) else x * fact(x -1) # creates a function that produces the factorial of a number x, \n",
    "                                                    # calling a function within itself allows for a recursive iteration of the number x,\n",
    "                                                    # until the first condition is met then exits the loop"
   ]
  },
  {
   "cell_type": "code",
   "execution_count": null,
   "id": "7ee0b5d1-ac2d-4955-9f45-dcbbf8360c2e",
   "metadata": {},
   "outputs": [],
   "source": []
  },
  {
   "cell_type": "code",
   "execution_count": 71,
   "id": "e3348adc-6c17-4a71-adc3-c65e20731925",
   "metadata": {},
   "outputs": [
    {
     "data": {
      "text/plain": [
       "362880"
      ]
     },
     "execution_count": 71,
     "metadata": {},
     "output_type": "execute_result"
    }
   ],
   "source": [
    "fact(9)"
   ]
  },
  {
   "cell_type": "code",
   "execution_count": null,
   "id": "089c2101-fb77-44fe-8a04-56f4d416991c",
   "metadata": {},
   "outputs": [],
   "source": []
  },
  {
   "cell_type": "code",
   "execution_count": null,
   "id": "83b3173f-3064-49e9-b39b-521b4e7c1645",
   "metadata": {},
   "outputs": [],
   "source": []
  },
  {
   "cell_type": "code",
   "execution_count": null,
   "id": "bd74ffeb-cb8f-4817-a5ae-7c6064320ecc",
   "metadata": {},
   "outputs": [],
   "source": []
  },
  {
   "cell_type": "code",
   "execution_count": null,
   "id": "0205c368-a9ec-44d3-a9e4-a64b2c92c476",
   "metadata": {},
   "outputs": [],
   "source": []
  },
  {
   "cell_type": "markdown",
   "id": "e95e3f94-3580-4992-9f74-a3d9d095c5ec",
   "metadata": {},
   "source": [
    "#### Question 3\n",
    "\n",
    "With a given integral number n, write a program to generate a dictionary that contains (i, i*i) such that is an integral number between 1 and n (both included). and then the program should print the dictionary.\n",
    "Suppose the following input is supplied to the program:\n",
    "8\n",
    "Then, the output should be:\n",
    "{1: 1, 2: 4, 3: 9, 4: 16, 5: 25, 6: 36, 7: 49, 8: 64}\n",
    "\n",
    "Hints:\n",
    "In case of input data being supplied to the question, it should be assumed to be a console input.\n",
    "Consider use dict()"
   ]
  },
  {
   "cell_type": "code",
   "execution_count": 73,
   "id": "c50685f6-c72c-4ba3-a27c-9d6343ca5836",
   "metadata": {},
   "outputs": [],
   "source": [
    "def ndict():\n",
    "     dicts={}\n",
    "     n=int(input(\"Input an interger:\"))\n",
    "     for i in range(1, n+1):\n",
    "           dicts[i]=(i*i) # creates a dictionary, uses the value of i as the keys and the square as the 'values'\n",
    "     print(dicts)"
   ]
  },
  {
   "cell_type": "code",
   "execution_count": null,
   "id": "d40ef69d-dade-42c9-aaa0-7017249bd928",
   "metadata": {},
   "outputs": [],
   "source": []
  },
  {
   "cell_type": "markdown",
   "id": "e9895c65-ba02-4ef5-b9c7-076946cd7f89",
   "metadata": {},
   "source": [
    "#### Question 4\n",
    "\n",
    "Write a program which accepts a sequence of comma-separated numbers from console and generate a list and a tuple which contains every number.\n",
    "Suppose the following input is supplied to the program:\n",
    "34,67,55,33,12,98\n",
    "Then, the output should be:\n",
    "['34', '67', '55', '33', '12', '98']\n",
    "('34', '67', '55', '33', '12', '98')\n",
    "\n",
    "Hints:\n",
    "In case of input data being supplied to the question, it should be assumed to be a console input.\n",
    "tuple() method can convert list to tuple\n"
   ]
  },
  {
   "cell_type": "code",
   "execution_count": 1,
   "id": "17eacb10-fe30-4a73-b6b1-a3a30d8e0122",
   "metadata": {},
   "outputs": [],
   "source": [
    "def lstup():\n",
    "    numbers=input(\"Input a list of numbers separated by commas\")\n",
    "    lst=numbers.split(\",\") # creates a list\n",
    "    tups=tuple(lst) # creates a tuple\n",
    "    print(lst)\n",
    "    print(tups)"
   ]
  },
  {
   "cell_type": "code",
   "execution_count": null,
   "id": "4819db40-948e-4b38-82f5-d8dfd55ab912",
   "metadata": {},
   "outputs": [],
   "source": []
  },
  {
   "cell_type": "markdown",
   "id": "db622dcb-e647-498a-8985-cd9cbedaffb0",
   "metadata": {},
   "source": [
    "#### Question 5\n",
    "\n",
    "Define a class which has at least two methods:\n",
    "getString: to get a string from console input\n",
    "printString: to print the string in upper case.\n",
    "Also please include simple test function to test the class methods.\n",
    "\n",
    "Hints:\n",
    "Use __init__ method to construct some parameters"
   ]
  },
  {
   "cell_type": "code",
   "execution_count": null,
   "id": "1586dd84-11a2-431c-8255-d616a7b5a821",
   "metadata": {},
   "outputs": [],
   "source": []
  },
  {
   "cell_type": "code",
   "execution_count": 69,
   "id": "ae65535a-717d-46f8-94dc-e504bb7a2e2e",
   "metadata": {},
   "outputs": [
    {
     "data": {
      "text/plain": [
       "34"
      ]
     },
     "execution_count": 69,
     "metadata": {},
     "output_type": "execute_result"
    }
   ],
   "source": [
    "class Strings():\n",
    "    def __init__(self,names,numbers,heights,ages):\n",
    "        self.names=names\n",
    "        self.numbers=numbers\n",
    "        self.heights=heights\n",
    "        self.ages=ages\n",
    "        \n",
    "        def Get_string(self):\n",
    "            dictionary={'Name':self.names,\n",
    "                        'Age':self.ages,\n",
    "                        'Heights':self.heights,\n",
    "                        'Number':self.numbers\n",
    "                       }\n",
    "        def Print():\n",
    "            print(dictionary)\n",
    "Allan=Strings(\"Joe\",22,50,34)\n",
    "Allan.heights\n",
    "Allan.ages"
   ]
  },
  {
   "cell_type": "code",
   "execution_count": null,
   "id": "9cc60de1-01f6-4b41-b480-e6bd59eb2c8f",
   "metadata": {},
   "outputs": [],
   "source": []
  },
  {
   "cell_type": "code",
   "execution_count": null,
   "id": "8bcfa2ba-905a-4a0d-a817-5447983e7e86",
   "metadata": {},
   "outputs": [],
   "source": []
  },
  {
   "cell_type": "code",
   "execution_count": null,
   "id": "92dc9f3d-f299-4fb7-ac31-dc2e0cc0dca4",
   "metadata": {},
   "outputs": [],
   "source": []
  },
  {
   "cell_type": "code",
   "execution_count": null,
   "id": "231a3a32-5f1a-438b-a87a-8b0ab01de435",
   "metadata": {},
   "outputs": [],
   "source": []
  },
  {
   "cell_type": "code",
   "execution_count": null,
   "id": "3b407cac-8e1f-4b18-8c75-92ffcb61946a",
   "metadata": {},
   "outputs": [],
   "source": []
  },
  {
   "cell_type": "code",
   "execution_count": null,
   "id": "bfce7037-57c0-4302-8b80-1ec0a728b1f4",
   "metadata": {},
   "outputs": [],
   "source": []
  },
  {
   "cell_type": "markdown",
   "id": "82ba9c89-12da-4a31-a41b-59c51228ec94",
   "metadata": {},
   "source": [
    "#### Question 6\n",
    "\n",
    "Write a program that calculates and prints the value according to the given formula:\n",
    "Q = Square root of [(2 * C * D)/H]\n",
    "Following are the fixed values of C and H:\n",
    "C is 50. H is 30.\n",
    "D is the variable whose values should be input to your program in a comma-separated sequence.\n",
    "Example\n",
    "Let us assume the following comma separated input sequence is given to the program:\n",
    "100,150,180\n",
    "The output of the program should be:\n",
    "18,22,24\n",
    "\n",
    "Hints:\n",
    "If the output received is in decimal form, it should be rounded off to its nearest value (for example, if the output received is 26.0, it should be printed as 26)\n",
    "In case of input data being supplied to the question, it should be assumed to be a console input. "
   ]
  },
  {
   "cell_type": "code",
   "execution_count": null,
   "id": "ab2b3218-cf69-41e3-a244-9bd878b68200",
   "metadata": {},
   "outputs": [],
   "source": [
    "  import math\n",
    "def squaroot():\n",
    "    value_D=input(\"Input the value of D:\").split(\",\") # creates a list from the output  \n",
    "    \n",
    "    out_put=[]\n",
    "    for D in value_D:\n",
    "        Q=round(math.sqrt((2 * 50 * int(D))/ 30)) # computes the square root of the expression and returns a floating value to the nearest integer\n",
    "        out_put.append(Q)\n",
    "        \n",
    "    print(out_put)"
   ]
  },
  {
   "cell_type": "code",
   "execution_count": null,
   "id": "7e3d84d4-4305-4113-bede-8354d117bc97",
   "metadata": {},
   "outputs": [],
   "source": []
  },
  {
   "cell_type": "markdown",
   "id": "262772a3-89e0-4d3f-9345-89dadb3b967b",
   "metadata": {},
   "source": [
    "#### Question 7\n",
    "\n",
    "Write a program which takes 2 digits, X,Y as input and generates a 2-dimensional array. The element value in the i-th row and j-th column of the array should be i*j.\n",
    "Note: i=0,1.., X-1; j=0,1,¡­Y-1.\n",
    "Example\n",
    "Suppose the following inputs are given to the program:\n",
    "3,5\n",
    "Then, the output of the program should be:\n",
    "[[0, 0, 0, 0, 0], [0, 1, 2, 3, 4], [0, 2, 4, 6, 8]] \n",
    "\n",
    "Hints:\n",
    "Note: In case of input data being supplied to the question, it should be assumed to be a console input in a comma-separated form."
   ]
  },
  {
   "cell_type": "code",
   "execution_count": 74,
   "id": "01dfdcdc-3aac-427f-86f7-50a6b848ba2d",
   "metadata": {},
   "outputs": [
    {
     "name": "stdin",
     "output_type": "stream",
     "text": [
      "Enter number of rows:  3\n",
      "Enter column numbers:  5\n"
     ]
    },
    {
     "name": "stdout",
     "output_type": "stream",
     "text": [
      "[[0, 0, 0, 0, 0], [0, 1, 2, 3, 4], [0, 2, 4, 6, 8]]\n"
     ]
    }
   ],
   "source": [
    "n_rows=int(input(\"Enter number of rows: \"))\n",
    "n_cols=int(input(\"Enter column numbers: \"))\n",
    "m_array=[[0 for col in range(n_cols)] for row in range(n_rows)] # \n",
    "\n",
    "for col in range(n_cols):\n",
    "        for row in range(n_rows):\n",
    "            m_array [row] [col]=col*row # \n",
    "\n",
    "print(m_array)\n"
   ]
  },
  {
   "cell_type": "code",
   "execution_count": null,
   "id": "71dd4d67-347b-4976-9f8f-6cf197c67adf",
   "metadata": {},
   "outputs": [],
   "source": []
  },
  {
   "cell_type": "code",
   "execution_count": null,
   "id": "63d87c6a-a9eb-4ff0-8e6f-b347820d4b99",
   "metadata": {},
   "outputs": [],
   "source": []
  },
  {
   "cell_type": "code",
   "execution_count": null,
   "id": "4e7695eb-2eee-4f34-a7d5-e2a8d49c99b3",
   "metadata": {},
   "outputs": [],
   "source": []
  },
  {
   "cell_type": "code",
   "execution_count": null,
   "id": "a9671940-cfa6-4bc8-ae4b-dbbbffcee625",
   "metadata": {},
   "outputs": [],
   "source": []
  },
  {
   "cell_type": "markdown",
   "id": "ec515b8f-cf55-41d1-91b2-19cfc32d9bc4",
   "metadata": {},
   "source": [
    "#### Question 8\n",
    "\n",
    "Write a program that accepts a comma separated sequence of words as input and prints the words in a comma-separated sequence after sorting them alphabetically.\n",
    "Suppose the following input is supplied to the program:\n",
    "without,hello,bag,world\n",
    "Then, the output should be:\n",
    "bag,hello,without,world\n",
    "\n",
    "Hints:\n",
    "In case of input data being supplied to the question, it should be assumed to be a console input."
   ]
  },
  {
   "cell_type": "code",
   "execution_count": 2,
   "id": "e1bf4f5f-2dad-4080-84f6-72d965133868",
   "metadata": {},
   "outputs": [],
   "source": [
    "def p_string():\n",
    "    st=input(\"input comma separated string values:\")\n",
    "    list1=st.split(\",\") # splits a string using comma as the delimiter, then outputs a list\n",
    "    list1.sort() # sorts the list alphabetically\n",
    "    print(list1)"
   ]
  },
  {
   "cell_type": "code",
   "execution_count": 67,
   "id": "0dabfd89-adb1-4f7b-a112-dffd4f5bfc0b",
   "metadata": {},
   "outputs": [
    {
     "name": "stdin",
     "output_type": "stream",
     "text": [
      "input comma separated string values: without,hello,bag,world\n"
     ]
    },
    {
     "name": "stdout",
     "output_type": "stream",
     "text": [
      "['bag', 'hello', 'without', 'world']\n"
     ]
    }
   ],
   "source": [
    "p_string()"
   ]
  },
  {
   "cell_type": "code",
   "execution_count": null,
   "id": "30b5f407-93fe-463e-8e65-6fe2a6369f3a",
   "metadata": {},
   "outputs": [],
   "source": []
  },
  {
   "cell_type": "code",
   "execution_count": null,
   "id": "948f82e3-bbba-47ba-9b19-c8a5323493f5",
   "metadata": {},
   "outputs": [],
   "source": []
  },
  {
   "cell_type": "markdown",
   "id": "f1cd6757-3cfe-48eb-afc4-443a0749ed2d",
   "metadata": {},
   "source": [
    "#### Question 9\n",
    "\n",
    "Write a program that accepts sequence of lines as input and prints the lines after making all characters in the sentence capitalized.\n",
    "Suppose the following input is supplied to the program:\n",
    "Hello world\n",
    "Practice makes perfect\n",
    "Then, the output should be:\n",
    "HELLO WORLD\n",
    "PRACTICE MAKES PERFECT\n",
    "\n",
    "Hints:\n",
    "In case of input data being supplied to the question, it should be assumed to be a console input."
   ]
  },
  {
   "cell_type": "code",
   "execution_count": 94,
   "id": "d55b983d-c85d-429c-b700-392d134e0c0c",
   "metadata": {},
   "outputs": [
    {
     "name": "stdin",
     "output_type": "stream",
     "text": [
      " Hello world Practice makes perfect\n"
     ]
    },
    {
     "name": "stdout",
     "output_type": "stream",
     "text": [
      "H E L L O   W O R L D   P R A C T I C E   M A K E S   P E R F E C T "
     ]
    },
    {
     "name": "stdin",
     "output_type": "stream",
     "text": [
      " \n"
     ]
    }
   ],
   "source": [
    "\n",
    "while True:\n",
    "    statements=input()\n",
    "    if statements==\"\":  # evaluates to true when no input is provided, and exits the loop\n",
    "        break\n",
    "    else:\n",
    "        for stat in statements: \n",
    "            \n",
    "            print(stat.upper(), end =' ') # iterates through the string,  converting every character into upper case \n",
    "            "
   ]
  },
  {
   "cell_type": "code",
   "execution_count": 68,
   "id": "420a2b94-fd53-446b-9499-85dcebec1e76",
   "metadata": {},
   "outputs": [],
   "source": [
    "def p_string():\n",
    "    st=input(\"input comma separated string values:\")\n",
    "    list1=st.split(\",\") # splits a string using comma as the delimiter, then outputs a list\n",
    "    \n",
    "    print(sorted(list1))  # sorts the list alphabetically and gives an output"
   ]
  },
  {
   "cell_type": "markdown",
   "id": "2b4ddcb6-3759-4766-87d1-c549da2e5dff",
   "metadata": {},
   "source": [
    "#### Question 10\n",
    "\n",
    "Write a program that accepts a sequence of whitespace separated words as input and prints the words after removing all duplicate words and sorting them alphanumerically.\n",
    "Suppose the following input is supplied to the program:\n",
    "hello world and practice makes perfect and hello world again\n",
    "Then, the output should be:\n",
    "again and hello makes perfect practice world\n",
    "\n",
    "Hints:\n",
    "In case of input data being supplied to the question, it should be assumed to be a console input.\n",
    "We use set container to remove duplicated data automatically and then use sorted() to sort the data.\n"
   ]
  },
  {
   "cell_type": "code",
   "execution_count": null,
   "id": "036b1d77-cb7d-42ec-85d8-1b1c7cf4feca",
   "metadata": {},
   "outputs": [],
   "source": [
    "def rm_dups():\n",
    "    txt=input(\"Input your text: \")\n",
    "    text_list=txt.split(' ') # creates a list from the input, uses white space as delimiter\n",
    "    with_nodups=[] # empty list\n",
    "    for w in text_list:\n",
    "        if w not in with_nodups: # evaluates to true if the item is in the list, does not add a duplicate\n",
    "            with_nodups.append(w)\n",
    "    print()        \n",
    "    print(\" \".join(sorted(with_nodups))) # merges the strings from the loop into one complete string"
   ]
  },
  {
   "cell_type": "code",
   "execution_count": null,
   "id": "c596d308-f829-4d60-91cd-99993c9e3edb",
   "metadata": {},
   "outputs": [],
   "source": []
  },
  {
   "cell_type": "markdown",
   "id": "53624cf4-99e5-4402-9a6e-0f88b71f2c36",
   "metadata": {},
   "source": [
    "#### Question 11\n",
    "\n",
    "Write a program which accepts a sequence of comma separated 4 digit binary numbers as its input and then check whether they are divisible by 5 or not. The numbers that are divisible by 5 are to be printed in a comma separated sequence.\n",
    "Example:\n",
    "0100,0011,1010,1001\n",
    "Then the output should be:\n",
    "1010\n",
    "Notes: Assume the data is input by console.\n",
    "\n",
    "Hints:\n",
    "In case of input data being supplied to the question, it should be assumed to be a console input."
   ]
  },
  {
   "cell_type": "code",
   "execution_count": null,
   "id": "8a8d3c25-02fe-4e60-b2e2-2cb1d7118505",
   "metadata": {},
   "outputs": [],
   "source": [
    "def check():\n",
    "    item1=[]\n",
    "    item2=input('input a sequence of binary numbers').split(\",\") # list from a string input\n",
    "    for p in item2:\n",
    "        binary=int(p,2) # converts binary to intergers\n",
    "        if binary % 5 ==0:\n",
    "            item1.append(p)\n",
    "    print(\" \".join(item1)) # puts together strings into one string"
   ]
  },
  {
   "cell_type": "code",
   "execution_count": null,
   "id": "b7c3d0f2-c09c-44bf-9aa4-f9d9ab43a983",
   "metadata": {},
   "outputs": [],
   "source": []
  },
  {
   "cell_type": "markdown",
   "id": "afd54c89-17b2-4ebf-abff-ea9551f86d9a",
   "metadata": {},
   "source": [
    "#### Question 12 \n",
    "\n",
    "Write a program, which will find all such numbers between 1000 and 3000 (both included) such that each digit of the number is an even number.\n",
    "The numbers obtained should be printed in a comma-separated sequence on a single line.\n",
    "\n",
    "Hints:\n",
    "In case of input data being supplied to the question, it should be assumed to be a console input."
   ]
  },
  {
   "cell_type": "code",
   "execution_count": null,
   "id": "c4d3fe6f-4e9c-4df6-b790-dc46a731095b",
   "metadata": {},
   "outputs": [],
   "source": []
  },
  {
   "cell_type": "code",
   "execution_count": 112,
   "id": "3c27e67f-e442-4698-8b37-266f7c66fb43",
   "metadata": {},
   "outputs": [
    {
     "name": "stdin",
     "output_type": "stream",
     "text": [
      "Input a number: 3000\n"
     ]
    },
    {
     "name": "stdout",
     "output_type": "stream",
     "text": [
      "1000,1002,1004,1006,1008,1010,1012,1014,1016,1018,1020,1022,1024,1026,1028,1030,1032,1034,1036,1038,1040,1042,1044,1046,1048,1050,1052,1054,1056,1058,1060,1062,1064,1066,1068,1070,1072,1074,1076,1078,1080,1082,1084,1086,1088,1090,1092,1094,1096,1098,1100,1102,1104,1106,1108,1110,1112,1114,1116,1118,1120,1122,1124,1126,1128,1130,1132,1134,1136,1138,1140,1142,1144,1146,1148,1150,1152,1154,1156,1158,1160,1162,1164,1166,1168,1170,1172,1174,1176,1178,1180,1182,1184,1186,1188,1190,1192,1194,1196,1198,1200,1202,1204,1206,1208,1210,1212,1214,1216,1218,1220,1222,1224,1226,1228,1230,1232,1234,1236,1238,1240,1242,1244,1246,1248,1250,1252,1254,1256,1258,1260,1262,1264,1266,1268,1270,1272,1274,1276,1278,1280,1282,1284,1286,1288,1290,1292,1294,1296,1298,1300,1302,1304,1306,1308,1310,1312,1314,1316,1318,1320,1322,1324,1326,1328,1330,1332,1334,1336,1338,1340,1342,1344,1346,1348,1350,1352,1354,1356,1358,1360,1362,1364,1366,1368,1370,1372,1374,1376,1378,1380,1382,1384,1386,1388,1390,1392,1394,1396,1398,1400,1402,1404,1406,1408,1410,1412,1414,1416,1418,1420,1422,1424,1426,1428,1430,1432,1434,1436,1438,1440,1442,1444,1446,1448,1450,1452,1454,1456,1458,1460,1462,1464,1466,1468,1470,1472,1474,1476,1478,1480,1482,1484,1486,1488,1490,1492,1494,1496,1498,1500,1502,1504,1506,1508,1510,1512,1514,1516,1518,1520,1522,1524,1526,1528,1530,1532,1534,1536,1538,1540,1542,1544,1546,1548,1550,1552,1554,1556,1558,1560,1562,1564,1566,1568,1570,1572,1574,1576,1578,1580,1582,1584,1586,1588,1590,1592,1594,1596,1598,1600,1602,1604,1606,1608,1610,1612,1614,1616,1618,1620,1622,1624,1626,1628,1630,1632,1634,1636,1638,1640,1642,1644,1646,1648,1650,1652,1654,1656,1658,1660,1662,1664,1666,1668,1670,1672,1674,1676,1678,1680,1682,1684,1686,1688,1690,1692,1694,1696,1698,1700,1702,1704,1706,1708,1710,1712,1714,1716,1718,1720,1722,1724,1726,1728,1730,1732,1734,1736,1738,1740,1742,1744,1746,1748,1750,1752,1754,1756,1758,1760,1762,1764,1766,1768,1770,1772,1774,1776,1778,1780,1782,1784,1786,1788,1790,1792,1794,1796,1798,1800,1802,1804,1806,1808,1810,1812,1814,1816,1818,1820,1822,1824,1826,1828,1830,1832,1834,1836,1838,1840,1842,1844,1846,1848,1850,1852,1854,1856,1858,1860,1862,1864,1866,1868,1870,1872,1874,1876,1878,1880,1882,1884,1886,1888,1890,1892,1894,1896,1898,1900,1902,1904,1906,1908,1910,1912,1914,1916,1918,1920,1922,1924,1926,1928,1930,1932,1934,1936,1938,1940,1942,1944,1946,1948,1950,1952,1954,1956,1958,1960,1962,1964,1966,1968,1970,1972,1974,1976,1978,1980,1982,1984,1986,1988,1990,1992,1994,1996,1998,2000,2002,2004,2006,2008,2010,2012,2014,2016,2018,2020,2022,2024,2026,2028,2030,2032,2034,2036,2038,2040,2042,2044,2046,2048,2050,2052,2054,2056,2058,2060,2062,2064,2066,2068,2070,2072,2074,2076,2078,2080,2082,2084,2086,2088,2090,2092,2094,2096,2098,2100,2102,2104,2106,2108,2110,2112,2114,2116,2118,2120,2122,2124,2126,2128,2130,2132,2134,2136,2138,2140,2142,2144,2146,2148,2150,2152,2154,2156,2158,2160,2162,2164,2166,2168,2170,2172,2174,2176,2178,2180,2182,2184,2186,2188,2190,2192,2194,2196,2198,2200,2202,2204,2206,2208,2210,2212,2214,2216,2218,2220,2222,2224,2226,2228,2230,2232,2234,2236,2238,2240,2242,2244,2246,2248,2250,2252,2254,2256,2258,2260,2262,2264,2266,2268,2270,2272,2274,2276,2278,2280,2282,2284,2286,2288,2290,2292,2294,2296,2298,2300,2302,2304,2306,2308,2310,2312,2314,2316,2318,2320,2322,2324,2326,2328,2330,2332,2334,2336,2338,2340,2342,2344,2346,2348,2350,2352,2354,2356,2358,2360,2362,2364,2366,2368,2370,2372,2374,2376,2378,2380,2382,2384,2386,2388,2390,2392,2394,2396,2398,2400,2402,2404,2406,2408,2410,2412,2414,2416,2418,2420,2422,2424,2426,2428,2430,2432,2434,2436,2438,2440,2442,2444,2446,2448,2450,2452,2454,2456,2458,2460,2462,2464,2466,2468,2470,2472,2474,2476,2478,2480,2482,2484,2486,2488,2490,2492,2494,2496,2498,2500,2502,2504,2506,2508,2510,2512,2514,2516,2518,2520,2522,2524,2526,2528,2530,2532,2534,2536,2538,2540,2542,2544,2546,2548,2550,2552,2554,2556,2558,2560,2562,2564,2566,2568,2570,2572,2574,2576,2578,2580,2582,2584,2586,2588,2590,2592,2594,2596,2598,2600,2602,2604,2606,2608,2610,2612,2614,2616,2618,2620,2622,2624,2626,2628,2630,2632,2634,2636,2638,2640,2642,2644,2646,2648,2650,2652,2654,2656,2658,2660,2662,2664,2666,2668,2670,2672,2674,2676,2678,2680,2682,2684,2686,2688,2690,2692,2694,2696,2698,2700,2702,2704,2706,2708,2710,2712,2714,2716,2718,2720,2722,2724,2726,2728,2730,2732,2734,2736,2738,2740,2742,2744,2746,2748,2750,2752,2754,2756,2758,2760,2762,2764,2766,2768,2770,2772,2774,2776,2778,2780,2782,2784,2786,2788,2790,2792,2794,2796,2798,2800,2802,2804,2806,2808,2810,2812,2814,2816,2818,2820,2822,2824,2826,2828,2830,2832,2834,2836,2838,2840,2842,2844,2846,2848,2850,2852,2854,2856,2858,2860,2862,2864,2866,2868,2870,2872,2874,2876,2878,2880,2882,2884,2886,2888,2890,2892,2894,2896,2898,2900,2902,2904,2906,2908,2910,2912,2914,2916,2918,2920,2922,2924,2926,2928,2930,2932,2934,2936,2938,2940,2942,2944,2946,2948,2950,2952,2954,2956,2958,2960,2962,2964,2966,2968,2970,2972,2974,2976,2978,2980,2982,2984,2986,2988,2990,2992,2994,2996,2998,3000,"
     ]
    }
   ],
   "source": [
    "evens=int(input(\"Input a number:\"))\n",
    "for ev in range(1000,evens+1): # loops through the range upto and including the last value provided, for example 3000\n",
    "    if ev % 2==0: # evaluates to true if the remainder of the values divided by 2 returns 0\n",
    "        print(ev, end=',')"
   ]
  },
  {
   "cell_type": "code",
   "execution_count": null,
   "id": "ef6f91d9-75e9-4f3a-902c-c0d2cc9c575e",
   "metadata": {},
   "outputs": [],
   "source": []
  },
  {
   "cell_type": "markdown",
   "id": "34238429-1450-4640-9ac8-8c658d2558c3",
   "metadata": {},
   "source": [
    "#### Question 13\n",
    "\n",
    "Write a program that accepts a sentence and calculate the number of letters and digits.\n",
    "Suppose the following input is supplied to the program:\n",
    "hello world! 123\n",
    "Then, the output should be:\n",
    "LETTERS 10\n",
    "DIGITS 3\n",
    "\n",
    "Hints:\n",
    "In case of input data being supplied to the question, it should be assumed to be a console input."
   ]
  },
  {
   "cell_type": "code",
   "execution_count": 95,
   "id": "d5f3ecc7-d63b-478f-91a0-cb3e30da5a25",
   "metadata": {},
   "outputs": [],
   "source": [
    "def digtlet():\n",
    "    f=input(\"input a mixture of strings and digits\")\n",
    "    digt=0 # defines variables and instantiates default values to 0\n",
    "    m=0\n",
    "    for c in f:\n",
    "        if c.isdigit(): # evaluates to true if the character provided is a digit and increments by 1\n",
    "          digt=digt+1 \n",
    "        elif c.isalpha(): # evaluates to true if the character provided is an alphabet incrementing by 1\n",
    "          m=m+1\n",
    "        else:\n",
    "            pass\n",
    "    print(\"LETTERS\", m)\n",
    "    print(\"DIGITS\", digt)"
   ]
  },
  {
   "cell_type": "code",
   "execution_count": null,
   "id": "f7f6e5c5-085c-4452-9531-8e6ccdbfb906",
   "metadata": {},
   "outputs": [],
   "source": []
  },
  {
   "cell_type": "code",
   "execution_count": null,
   "id": "5b5f971f-6419-4647-80ec-510407a10c0d",
   "metadata": {},
   "outputs": [],
   "source": []
  },
  {
   "cell_type": "markdown",
   "id": "37392a1a-fb03-4a72-ab66-30ce4d875af3",
   "metadata": {},
   "source": [
    "#### Question 14\n",
    "\n",
    "Write a program that accepts a sentence and calculate the number of upper case letters and lower case letters.\n",
    "Suppose the following input is supplied to the program:\n",
    "Hello world!\n",
    "Then, the output should be:\n",
    "UPPER CASE 1\n",
    "LOWER CASE 9\n",
    "\n",
    "Hints:\n",
    "In case of input data being supplied to the question, it should be assumed to be a console input."
   ]
  },
  {
   "cell_type": "code",
   "execution_count": 3,
   "id": "465c637c-b239-42a4-867f-94fd99ed9f0c",
   "metadata": {},
   "outputs": [],
   "source": [
    "def letcount():\n",
    "    lett=input(\"input a string\")\n",
    "    cap=lows=0 # defines multiple variables and assign them a default value 0\n",
    "    for cl in lett:\n",
    "        if cl.isupper(): # evaluates to true if the item in the letter is in upper case\n",
    "         cap=cap+1 # increaments upper case items in the string by 1 per encounter\n",
    "        elif cl.islower(): # evaluates to true if a character in the string is in lower case and increments the value by one\n",
    "         lows=lows+1\n",
    "        else: \n",
    "         pass # evaluates to true upon the encounter of non-alphabets and jumps\n",
    "    print(\"UPPER CASE\", cap) # prints the sum of bot upper and lower case strungs in the string\n",
    "    print(\"LOWER CASE\", lows)"
   ]
  },
  {
   "cell_type": "code",
   "execution_count": null,
   "id": "31f86fd3-7ffe-40fe-a90e-308f1d527ef6",
   "metadata": {},
   "outputs": [],
   "source": []
  },
  {
   "cell_type": "markdown",
   "id": "8d9f3d87-1882-4cbb-8053-be442741a8b4",
   "metadata": {},
   "source": [
    "#### Question 15"
   ]
  },
  {
   "cell_type": "code",
   "execution_count": null,
   "id": "64c25a52-2d21-4c86-bbae-59f6293eca43",
   "metadata": {},
   "outputs": [],
   "source": [
    "def plusn():\n",
    "    nx=input(\"input a value:\")\n",
    "    n=nx*1 # Gets the product of the input value by numbers 1 -4\n",
    "    nn=nx*2\n",
    "    nnn=nx*3\n",
    "    nnnn=nx*4\n",
    "    \n",
    "    sum_total=int(n)+int(nn)+int(nnn)+int(nnnn) # finds the summation of the above arithmetic, int() function inctructs the program to add integers\n",
    "    print(sum_total)\n",
    "    "
   ]
  },
  {
   "cell_type": "code",
   "execution_count": null,
   "id": "e342229d-4add-4c36-a0d7-875c838c4005",
   "metadata": {},
   "outputs": [],
   "source": []
  },
  {
   "cell_type": "markdown",
   "id": "b4e53fc8-bec4-4615-81a7-8ff827752af0",
   "metadata": {},
   "source": [
    "#### Question 16"
   ]
  },
  {
   "cell_type": "code",
   "execution_count": null,
   "id": "eb4ee0e4-8d63-481e-90b6-a4fa6f57f22c",
   "metadata": {},
   "outputs": [],
   "source": [
    "num_s=(input(\"input a sequence of digits:\"))\n",
    "num_list=[od for od in num_s.split(\",\") if int(od) % 2 !=0 ] # creates a list from a string input\n",
    "print(num_list)"
   ]
  },
  {
   "cell_type": "code",
   "execution_count": null,
   "id": "9489b452-740b-4100-8b33-85779b14c008",
   "metadata": {},
   "outputs": [],
   "source": []
  },
  {
   "cell_type": "markdown",
   "id": "abdd91e8-4d79-41aa-b5b4-693db96f78a4",
   "metadata": {},
   "source": [
    "#### Question 17\n",
    "\n",
    "Write a program that computes the net amount of a bank account based a transaction log from console input. The transaction log format is shown as following:\n",
    "D 100\n",
    "W 200\n",
    "\n",
    "D means deposit while W means withdrawal.\n",
    "Suppose the following input is supplied to the program:\n",
    "D 300\n",
    "D 300\n",
    "W 200\n",
    "D 100\n",
    "Then, the output should be:\n",
    "500\n",
    "\n",
    "Hints:\n",
    "In case of input data being supplied to the question, it should be assumed to be a console input.\n"
   ]
  },
  {
   "cell_type": "code",
   "execution_count": null,
   "id": "ccb4dd85-af9d-40d8-b2fa-4de5befbb60c",
   "metadata": {},
   "outputs": [],
   "source": [
    "def bank_acc():\n",
    "    bal=0\n",
    "    while True:\n",
    "        trans=input(\"input your option 'W' withdraw,'D' deposit the amount\")\n",
    "        if trans==\"\": # evaluates to true when no input is provided and exits the loop\n",
    "           \n",
    "            break\n",
    "        else:\n",
    "            tran=trans.split(\" \") # creates a list \n",
    "            if tran[0]==\"D\": # Evaluates to true if the first index of the list is letter 'D' and increments the value of variable 'bal' by the value of the second index\n",
    "                bal=bal + int(tran[1])\n",
    "            elif tran[0]==\"W\": # aluates to true if the first index of the list is letter 'W and decreases variable 'bal' by the value of the second index\n",
    "                bal=bal - int(tran[1])\n",
    "            print(bal)\n",
    "            print(\"Click enter once done to exit\") # prompts the user to click the button without any input to finish the action"
   ]
  },
  {
   "cell_type": "code",
   "execution_count": null,
   "id": "ea0dbb91-2741-41d8-928d-82c8f13d0df5",
   "metadata": {},
   "outputs": [],
   "source": []
  },
  {
   "cell_type": "markdown",
   "id": "8fc9d593-9cfe-4f3f-9efb-536c93e0554b",
   "metadata": {},
   "source": [
    "#### Question 18\n",
    "\n",
    "A website requires the users to input username and password to register. Write a program to check the validity of password input by users.\n",
    "Following are the criteria for checking the password:\n",
    "1. At least 1 letter between [a-z]\n",
    "2. At least 1 number between [0-9]\n",
    "1. At least 1 letter between [A-Z]\n",
    "3. At least 1 character from [$#@]\n",
    "4. Minimum length of transaction password: 6\n",
    "5. Maximum length of transaction password: 12\n",
    "Your program should accept a sequence of comma separated passwords and will check them according to the above criteria. Passwords that match the criteria are to be printed, each separated by a comma.\n",
    "Example\n",
    "If the following passwords are given as input to the program:\n",
    "ABd1234@1,a F1#,2w3E*,2We3345\n",
    "Then, the output of the program should be:\n",
    "ABd1234@1\n",
    "\n",
    "Hints:\n",
    "In case of input data being supplied to the question, it should be assumed to be a console input."
   ]
  },
  {
   "cell_type": "code",
   "execution_count": null,
   "id": "ffb09cfb-4a2c-45a6-97f4-6111b38c6294",
   "metadata": {},
   "outputs": [],
   "source": [
    "import re\n",
    "def test_password():\n",
    "    passwords=input(\"Enter password:\").split(\",\") # creates a list from the input, use comma as the delimiter\n",
    "    \n",
    "    good_password=[] # creates a new list\n",
    "    for password in passwords:\n",
    "        if len(password) < 6 or len(password) > 12: # evaluates to true if the the length of the items in the list are less than 6 or greater than 12, one by one \n",
    "            continue\n",
    "        elif not re.search(\"[a-z]\",password): # ckecks for the absence of lower case letters in each item of the list\n",
    "            continue\n",
    "        elif not re.search(\"[A-Z]\",password): # checks for the absence of uppercase alphabets \n",
    "            continue\n",
    "        elif not re.search(\"[0-9]\",password): # checsk for the absence of digits\n",
    "            continue\n",
    "        elif not re.search(\"[$#@]\",password): # checks for the absence of either of the list of unique of characters\n",
    "            continue\n",
    "        else:\n",
    "           \n",
    "            good_password.append(password) # adds the item of the list that does not match the above loop \n",
    "    print(good_password) "
   ]
  },
  {
   "cell_type": "code",
   "execution_count": null,
   "id": "abdf7c4e-bd54-436f-b8c6-952234a3e888",
   "metadata": {},
   "outputs": [],
   "source": []
  },
  {
   "cell_type": "markdown",
   "id": "3c2e7e8f-733f-4546-84b5-f65f643cf3b3",
   "metadata": {},
   "source": [
    "#### Question 19\n",
    "\n",
    "You are required to write a program to sort the (name, age, height) tuples by ascending order where name is string, age and height are numbers. The tuples are input by console. The sort criteria is:\n",
    "1: Sort based on name;\n",
    "2: Then sort based on age;\n",
    "3: Then sort by score.\n",
    "The priority is that name > age > score.\n",
    "If the following tuples are given as input to the program:\n",
    "Tom,19,80\n",
    "John,20,90\n",
    "Jony,17,91\n",
    "Jony,17,93\n",
    "Json,21,85\n",
    "Then, the output of the program should be:\n",
    "[('John', '20', '90'), ('Jony', '17', '91'), ('Jony', '17', '93'), ('Json', '21', '85'), ('Tom', '19', '80')]\n",
    "\n",
    "Hints:\n",
    "In case of input data being supplied to the question, it should be assumed to be a console input.\n",
    "We use itemgetter to enable multiple sort keys."
   ]
  },
  {
   "cell_type": "code",
   "execution_count": 36,
   "id": "122042b3-8892-4ea4-86eb-52d08f996384",
   "metadata": {},
   "outputs": [],
   "source": [
    "from operator import itemgetter # imports itemgetter form namespace operator \n",
    "def item_sort():\n",
    "    item1=[]\n",
    "    while True: # evaluates to true and allows for input of data, exits and continues executing when no input is provided\n",
    "        item2=input()\n",
    "        if not item2:\n",
    "            break # evaluates to true without inputs and terminats the loop\n",
    "        item1.append(tuple(item2.split(\",\"))) # creates a list from the string iput, then generates a tuple using the keyword 'tuple'\n",
    "        item_sorted=sorted(item1, key=itemgetter(0,1,2)) # sorts alphabetically using the first item in the tuple, then in an ascending order using the second and third items in the tuple\n",
    "    print(item_sorted)"
   ]
  },
  {
   "cell_type": "code",
   "execution_count": null,
   "id": "94347d49-294b-4d55-bb63-3550ec5eb682",
   "metadata": {},
   "outputs": [],
   "source": []
  },
  {
   "cell_type": "markdown",
   "id": "247c71bf-cda9-4fc9-ad2a-8f85a5d93169",
   "metadata": {},
   "source": [
    "#### Question 20\n",
    "\n",
    "Define a class with a generator which can iterate the numbers, which are divisible by 7, between a given range 0 and n.\n",
    "\n",
    "Hints:\n",
    "Consider use yield"
   ]
  },
  {
   "cell_type": "code",
   "execution_count": null,
   "id": "b90d226e-b594-4ae2-9636-4d60b2edec1f",
   "metadata": {},
   "outputs": [],
   "source": []
  },
  {
   "cell_type": "code",
   "execution_count": 118,
   "id": "5f32be6f-eedb-4363-90c9-bd9d0abe90d9",
   "metadata": {},
   "outputs": [
    {
     "name": "stdin",
     "output_type": "stream",
     "text": [
      " 8\n"
     ]
    },
    {
     "name": "stdout",
     "output_type": "stream",
     "text": [
      "[0, 7]\n"
     ]
    }
   ],
   "source": [
    "class Seven():\n",
    "    Val = int(input())\n",
    "    divisibleBy7 = [V for V in range(0, Val) if (V % 7 == 0)] # loops through the range of the value provided, creating a list of numbers divisible by 7\n",
    "    print(divisibleBy7)\n",
    "\n",
    "def divChecker(Val):\n",
    "    for V in range(Val):\n",
    "        if Val % 7 == 0: \n",
    "            value = True  # evaluates to true if the the value divided by 7 returns 0 as a remainder\n",
    "        else:\n",
    "            value = False # evaluates to false if the the value divided by 7 returns a value greater than 0\n",
    "    print(V, value)\n",
    "    divChecker(Val)\n",
    "                "
   ]
  },
  {
   "cell_type": "code",
   "execution_count": null,
   "id": "ae3d9fea-0e06-40fa-b3d2-b191f2dc9892",
   "metadata": {},
   "outputs": [],
   "source": []
  },
  {
   "cell_type": "markdown",
   "id": "d876b693-89e5-4b02-8c9e-3f5aecdae09d",
   "metadata": {},
   "source": [
    "#### Question 21\n",
    "\n",
    "A robot moves in a plane starting from the original point (0,0). The robot can move toward UP, DOWN, LEFT and RIGHT with a given steps. The trace of robot movement is shown as the following:\n",
    "UP 5\n",
    "DOWN 3\n",
    "LEFT 3\n",
    "RIGHT 2\n",
    "¡­\n",
    "The numbers after the direction are steps. Please write a program to compute the distance from current position after a sequence of movement and original point. If the distance is a float, then just print the nearest integer.\n",
    "Example:\n",
    "If the following tuples are given as input to the program:\n",
    "UP 5\n",
    "DOWN 3\n",
    "LEFT 3\n",
    "RIGHT 2\n",
    "Then, the output of the program should be:\n",
    "2\n",
    "\n",
    "Hints:\n",
    "In case of input data being supplied to the question, it should be assumed to be a console input."
   ]
  },
  {
   "cell_type": "code",
   "execution_count": null,
   "id": "a47daf06-30df-4984-8cc2-236aadb83241",
   "metadata": {},
   "outputs": [],
   "source": [
    "def robot():\n",
    "    import math # imports the module math\n",
    "y=0 # defines the default values of distance covered as zero\n",
    "x=0\n",
    "while True:\n",
    "    move=input(\"Input values\".split(\" \")) # takes a console input and creates a list\n",
    "    if move==\"\":\n",
    "        break\n",
    "    else:\n",
    "        if move[0]==\"UP\": # checks if the fisrt item in the list is 'UP'\n",
    "            y=y+int(move[1]) # adds the value of the second item of the list\n",
    "        elif move[0]==\"DOWN\":\n",
    "            y=y-int(move[1])\n",
    "        elif move[0]==\"RIGHT\":\n",
    "            x=x+int(move[1])\n",
    "        elif move[0]==\"LEFT\":\n",
    "            x=x+int(move[1])\n",
    "    steps=math.sqrt(x**2 + y**2) # computes the square root of the sum of the square of the distace covered in both y and x axes\n",
    "    print(\"Distance covered is :\", steps)  # echoes an output of the preceeding arithmetic"
   ]
  },
  {
   "cell_type": "code",
   "execution_count": null,
   "id": "49354966-9228-4899-8a0f-feafc7b3cb43",
   "metadata": {},
   "outputs": [],
   "source": []
  },
  {
   "cell_type": "markdown",
   "id": "2ffbc9bd-fba7-4e0d-9a4c-5c10166e9fd3",
   "metadata": {},
   "source": [
    "#### Question 22\n",
    "\n",
    "Write a program to compute the frequency of the words from the input. The output should output after sorting the key alphanumerically. \n",
    "Suppose the following input is supplied to the program:\n",
    "New to Python or choosing between Python 2 and Python 3? Read Python 2 or Python 3.\n",
    "Then, the output should be:\n",
    "2:2\n",
    "3.:1\n",
    "3?:1\n",
    "New:1\n",
    "Python:5\n",
    "Read:1\n",
    "and:1\n",
    "between:1\n",
    "choosing:1\n",
    "or:2\n",
    "to:1\n",
    "\n",
    "Hints\n",
    "In case of input data being supplied to the question, it should be assumed to be a console input."
   ]
  },
  {
   "cell_type": "code",
   "execution_count": 62,
   "id": "cfd7dbae-9494-476c-972b-e9bfb7e082d1",
   "metadata": {},
   "outputs": [
    {
     "name": "stdin",
     "output_type": "stream",
     "text": [
      "Input some text: New to Python or choosing between Python 2 and Python 3? Read Python 2 or Python 3.\n"
     ]
    },
    {
     "name": "stdout",
     "output_type": "stream",
     "text": [
      "[('New', 1), ('Python', 5), ('Read', 1), ('and', 1), ('between', 1), ('choosing', 1), ('or', 2), ('to', 1)]\n",
      "New 1\n",
      "Python 5\n",
      "Read 1\n",
      "and 1\n",
      "between 1\n",
      "choosing 1\n",
      "or 2\n",
      "to 1\n"
     ]
    }
   ],
   "source": [
    "import operator\n",
    "Text=input(\"Input some text:\").split(\" \")\n",
    "Empty_dict={} # empty dictionary \n",
    "for texts in Text:\n",
    "    if texts.isalpha(): # evaluates to true if the value is an alphabet \n",
    "        if texts not in Empty_dict: # evaluates tot true if the value does not exist in the dictionary and returns the key as the value and 1 as the value to the key\n",
    "            Empty_dict[texts]=1 \n",
    "        elif texts in Empty_dict:\n",
    "            Empty_dict[texts]=Empty_dict[texts] + 1 # evaluates to true if the valus exists in the dictionary and incremenets the dictionary 'value' by 1\n",
    "    else:\n",
    "        pass\n",
    "sorted_dict=(sorted(Empty_dict.items(), key=operator.itemgetter (0))) # sorts the dictionary using the first item of the dictionary \n",
    "print(sorted_dict)\n",
    "for tr in sorted_dict:\n",
    "    print(tr[0], tr[1]) # prints the first and the second index of the dictionary\n",
    "    \n",
    "    "
   ]
  },
  {
   "cell_type": "markdown",
   "id": "37f0eb6c-5a24-47ff-8286-ed2a0aff41ce",
   "metadata": {},
   "source": [
    "#### Question 23\n",
    "\n",
    "Write a method which can calculate square value of number\n",
    "\n",
    "Hints:\n",
    "Using the ** operator"
   ]
  },
  {
   "cell_type": "code",
   "execution_count": null,
   "id": "7cf92a70-5116-4656-be0a-2a4136842cd2",
   "metadata": {},
   "outputs": [],
   "source": [
    "def square(nu): # defines a funcion \n",
    "    squ=pow(nu,2) # takes the value of 'nu'n then  raise it to the power of 2\n",
    "    print(squ) # outputs the square of any number \n",
    "    \n",
    "    "
   ]
  },
  {
   "cell_type": "code",
   "execution_count": null,
   "id": "e83b6280-9bf6-4634-8a05-3d1de6c2d4d4",
   "metadata": {},
   "outputs": [],
   "source": []
  },
  {
   "cell_type": "markdown",
   "id": "0fc54be0-e60c-410c-a4fd-a2cd3b4a80b1",
   "metadata": {},
   "source": [
    "#### Question 24\n",
    "\n",
    "Python has many built-in functions, and if you do not know how to use it, you can read document online or find some books. But Python has a built-in document function for every built-in functions.\n",
    "\n",
    "Please write a program to print some Python built-in functions documents, such as abs(), int(), raw_input()\n",
    "\n",
    "And add document for your own function\n",
    "Hints:\n",
    "The built-in document method is __doc__"
   ]
  },
  {
   "cell_type": "code",
   "execution_count": null,
   "id": "ba4b27c7-db72-4b45-8635-c55246e2b0a7",
   "metadata": {},
   "outputs": [],
   "source": []
  },
  {
   "cell_type": "code",
   "execution_count": 143,
   "id": "a1542655-b4ca-4e35-a978-b10c3f04ba63",
   "metadata": {},
   "outputs": [
    {
     "name": "stdout",
     "output_type": "stream",
     "text": [
      "Return the value of a number x raised to the power of x plus 1.\n",
      "    \n",
      "    Input only integer values\n",
      "Return the absolute value of the argument.\n",
      "int([x]) -> integer\n",
      "int(x, base=10) -> integer\n",
      "\n",
      "Convert a number or string to an integer, or return 0 if no arguments\n",
      "are given.  If x is a number, return x.__int__().  For floating point\n",
      "numbers, this truncates towards zero.\n",
      "\n",
      "If x is not a number or if base is given, then x must be a string,\n",
      "bytes, or bytearray instance representing an integer literal in the\n",
      "given base.  The literal can be preceded by '+' or '-' and be surrounded\n",
      "by whitespace.  The base defaults to 10.  Valid bases are 0 and 2-36.\n",
      "Base 0 means to interpret the base from the string as an integer literal.\n",
      ">>> int('0b100', base=0)\n",
      "4\n",
      "Forward raw_input to frontends\n",
      "\n",
      "        Raises\n",
      "        ------\n",
      "        StdinNotImplementedError if active frontend doesn't support stdin.\n",
      "        \n"
     ]
    }
   ],
   "source": [
    "def function_print(x): # defines a function and adds a docstring description\n",
    "    \n",
    "    \"\"\"Return the value of a number x raised to the power of x plus 1.\n",
    "    \n",
    "    Input only integer values\"\"\"\n",
    "    return  pow(x,(x+1)) # computes the value of an input raised to the power of the input plus 1\n",
    "print (function_print.__doc__)    # prints the string description of each of the functions inclusing in-built and newly defined  \n",
    "print (abs.__doc__)\n",
    "print (int.__doc__)\n",
    "print (input.__doc__)"
   ]
  },
  {
   "cell_type": "markdown",
   "id": "4f301da5-058e-4573-9984-7d76aea218e5",
   "metadata": {},
   "source": [
    "#### Question 25\n",
    "\n",
    "Define a class, which have a class parameter and have a same instance parameter.\n",
    "\n",
    "Hints:\n",
    "Define a instance parameter, need add it in __init__ method\n",
    "You can init a object with construct parameter or set the value later"
   ]
  },
  {
   "cell_type": "code",
   "execution_count": 30,
   "id": "63dc204c-15ef-43f8-b327-7ead0988e137",
   "metadata": {},
   "outputs": [
    {
     "name": "stdout",
     "output_type": "stream",
     "text": [
      "0,7,14,21,28,35,42,49,56,63,70,77,84,91,98,105,112,119,126,133,140,147,154,161,168,175,182,189,196,"
     ]
    }
   ],
   "source": [
    "class iterate(): \n",
    "    def __init__(self, n):\n",
    "        self.n=n\n",
    "    def  divisibleby_7(self): # Creates a method of the class\n",
    "        sevens=(v for v in range(0,self.n)) # creates a generator object\n",
    "        \n",
    "        for sevs in sevens:\n",
    "            if sevs % 7 ==0: # loops through the object and checks for items divisible by 7\n",
    "                yield sevs\n",
    "                \n",
    "for nu_m in iterate(200).divisibleby_7(): # Loops through the output of the method of the class 'iterate'\n",
    "    print(nu_m, end=',') # outputs the values separated by a comma instead of creating a new line after every character\n",
    "            "
   ]
  },
  {
   "cell_type": "code",
   "execution_count": null,
   "id": "cc06aaa4-870b-426a-a64f-a789c5eb1bf7",
   "metadata": {},
   "outputs": [],
   "source": []
  },
  {
   "cell_type": "markdown",
   "id": "110ca934-561c-4001-a765-c6682a937b7f",
   "metadata": {},
   "source": [
    "#### Question 26\n",
    "\n",
    "Define a function which can compute the sum of two numbers.\n",
    "\n",
    "Hints:\n",
    "Define a function with two numbers as arguments. You can compute the sum in the function and return the value.\n"
   ]
  },
  {
   "cell_type": "code",
   "execution_count": 32,
   "id": "313f506e-b2e9-48ab-968e-6f62d2a8e182",
   "metadata": {},
   "outputs": [],
   "source": [
    "def add(a,b): # defines a function which takes in two items as input\n",
    "    return(a+b) # the function computes the sum of two  numbers, accepts only two numbers as input"
   ]
  },
  {
   "cell_type": "code",
   "execution_count": 33,
   "id": "bd721da1-2c83-4434-b1f2-7a6cdccc77f3",
   "metadata": {},
   "outputs": [
    {
     "data": {
      "text/plain": [
       "109"
      ]
     },
     "execution_count": 33,
     "metadata": {},
     "output_type": "execute_result"
    }
   ],
   "source": [
    "add(70,39)"
   ]
  },
  {
   "cell_type": "code",
   "execution_count": null,
   "id": "632fb5cd-9fd8-493f-ba50-7105ab67a2dd",
   "metadata": {},
   "outputs": [],
   "source": []
  },
  {
   "cell_type": "code",
   "execution_count": null,
   "id": "4f1ee69b-4ac4-4251-b61b-3323e1b181a3",
   "metadata": {},
   "outputs": [],
   "source": []
  },
  {
   "cell_type": "code",
   "execution_count": null,
   "id": "1a97d946-9f8c-4a9a-8acd-9b7d0ec7d594",
   "metadata": {},
   "outputs": [],
   "source": []
  },
  {
   "cell_type": "code",
   "execution_count": null,
   "id": "b3e6ee1e-aa91-4f0f-a33e-98c966d8bdc1",
   "metadata": {},
   "outputs": [],
   "source": []
  },
  {
   "cell_type": "code",
   "execution_count": null,
   "id": "eb90a4ae-bdb1-421a-be53-0aaf91ed8146",
   "metadata": {},
   "outputs": [],
   "source": []
  },
  {
   "cell_type": "code",
   "execution_count": null,
   "id": "5d68c03d-8c12-476d-903d-f32d868c9c2e",
   "metadata": {},
   "outputs": [],
   "source": []
  },
  {
   "cell_type": "code",
   "execution_count": null,
   "id": "54dec049-2a8b-4a63-8ad6-6c735edae188",
   "metadata": {},
   "outputs": [],
   "source": []
  },
  {
   "cell_type": "code",
   "execution_count": null,
   "id": "4d1a0b53-6244-42ee-9993-8de98b092e52",
   "metadata": {},
   "outputs": [],
   "source": []
  },
  {
   "cell_type": "code",
   "execution_count": null,
   "id": "61caa329-d2a3-45d0-bf8d-bd31b56e3f28",
   "metadata": {},
   "outputs": [],
   "source": []
  },
  {
   "cell_type": "code",
   "execution_count": null,
   "id": "c7933fc0-ed9a-441b-8c10-110102dbb229",
   "metadata": {},
   "outputs": [],
   "source": []
  },
  {
   "cell_type": "code",
   "execution_count": null,
   "id": "1c44886f-261e-4ab0-aaf6-4834eff06def",
   "metadata": {},
   "outputs": [],
   "source": []
  },
  {
   "cell_type": "code",
   "execution_count": null,
   "id": "81580dcc-d306-492e-8b2c-e1c4d5463024",
   "metadata": {},
   "outputs": [],
   "source": []
  },
  {
   "cell_type": "code",
   "execution_count": null,
   "id": "d9caddf4-351c-4f97-86d7-d70884b70e88",
   "metadata": {},
   "outputs": [],
   "source": []
  },
  {
   "cell_type": "code",
   "execution_count": null,
   "id": "f08eaba1-1273-4e03-a02f-fc26f50231a8",
   "metadata": {},
   "outputs": [],
   "source": []
  },
  {
   "cell_type": "code",
   "execution_count": null,
   "id": "3b09dfb0-a45f-4708-8a22-3fbb37cda704",
   "metadata": {},
   "outputs": [],
   "source": []
  },
  {
   "cell_type": "code",
   "execution_count": null,
   "id": "689e7344-7d49-4250-9385-39488f44b61e",
   "metadata": {},
   "outputs": [],
   "source": []
  },
  {
   "cell_type": "code",
   "execution_count": null,
   "id": "f15f5c83-ebaf-4e05-99d5-a2a8a5edcd60",
   "metadata": {},
   "outputs": [],
   "source": []
  },
  {
   "cell_type": "code",
   "execution_count": null,
   "id": "d0fe4ae1-9928-47d7-a07b-50b910514d60",
   "metadata": {},
   "outputs": [],
   "source": []
  },
  {
   "cell_type": "code",
   "execution_count": null,
   "id": "31dd415c-d8da-45f9-8e8a-524b91fe2947",
   "metadata": {},
   "outputs": [],
   "source": []
  },
  {
   "cell_type": "code",
   "execution_count": null,
   "id": "9bb88afe-bb32-4b8e-8ae5-2ac50efacd87",
   "metadata": {},
   "outputs": [],
   "source": []
  },
  {
   "cell_type": "code",
   "execution_count": null,
   "id": "54663e56-a410-4299-8791-f90c1157b0a5",
   "metadata": {},
   "outputs": [],
   "source": []
  },
  {
   "cell_type": "code",
   "execution_count": null,
   "id": "2ec65bdc-ac25-40ad-b387-69bb3da0fe04",
   "metadata": {},
   "outputs": [],
   "source": []
  },
  {
   "cell_type": "code",
   "execution_count": null,
   "id": "ecc3adb6-7fa5-4765-a6f9-96729841e3ac",
   "metadata": {},
   "outputs": [],
   "source": []
  },
  {
   "cell_type": "code",
   "execution_count": null,
   "id": "2e3a240f-dc93-43b7-aaad-c06b4ffe933b",
   "metadata": {},
   "outputs": [],
   "source": []
  },
  {
   "cell_type": "code",
   "execution_count": null,
   "id": "a65bc384-fb42-485d-b72e-9681a728961c",
   "metadata": {},
   "outputs": [],
   "source": []
  },
  {
   "cell_type": "code",
   "execution_count": null,
   "id": "c6e72f3f-c756-44d2-b7dc-121cc1c99779",
   "metadata": {},
   "outputs": [],
   "source": []
  },
  {
   "cell_type": "code",
   "execution_count": null,
   "id": "a12ea479-10cd-4169-98c2-7f44d2f45e62",
   "metadata": {},
   "outputs": [],
   "source": []
  },
  {
   "cell_type": "code",
   "execution_count": null,
   "id": "8362619f-7bc2-4b09-8a3b-e0ae39fd8624",
   "metadata": {},
   "outputs": [],
   "source": []
  },
  {
   "cell_type": "code",
   "execution_count": null,
   "id": "fe1812dc-f945-4eab-b13a-f5acd61fd599",
   "metadata": {},
   "outputs": [],
   "source": []
  },
  {
   "cell_type": "code",
   "execution_count": null,
   "id": "7ba027d4-c599-4642-9688-1c229274cdaf",
   "metadata": {},
   "outputs": [],
   "source": []
  },
  {
   "cell_type": "code",
   "execution_count": null,
   "id": "2a6d83ee-9c02-404e-90eb-b27f25996c4e",
   "metadata": {},
   "outputs": [],
   "source": []
  },
  {
   "cell_type": "code",
   "execution_count": null,
   "id": "8d083d9c-aa85-4fcf-980e-5bf4f6cfd205",
   "metadata": {},
   "outputs": [],
   "source": []
  },
  {
   "cell_type": "code",
   "execution_count": null,
   "id": "2240b7cc-8766-42f5-b28a-0dfe5b4bf201",
   "metadata": {},
   "outputs": [],
   "source": []
  },
  {
   "cell_type": "code",
   "execution_count": null,
   "id": "ca608459-ad26-406f-9d92-315b3a88c159",
   "metadata": {},
   "outputs": [],
   "source": []
  },
  {
   "cell_type": "code",
   "execution_count": null,
   "id": "1071f0b6-a4a6-49de-a637-0a7219a7a7f8",
   "metadata": {},
   "outputs": [],
   "source": []
  },
  {
   "cell_type": "code",
   "execution_count": null,
   "id": "f9691924-458d-4744-9704-f4d88f0f672e",
   "metadata": {},
   "outputs": [],
   "source": []
  },
  {
   "cell_type": "code",
   "execution_count": null,
   "id": "fe422216-0cdd-46d6-a171-f59b2f09214b",
   "metadata": {},
   "outputs": [],
   "source": []
  },
  {
   "cell_type": "code",
   "execution_count": null,
   "id": "62e7a88a-0390-4bb1-8a39-9e8fa6182ecf",
   "metadata": {},
   "outputs": [],
   "source": []
  },
  {
   "cell_type": "code",
   "execution_count": null,
   "id": "36e306f9-6d89-48cf-a761-328a45541332",
   "metadata": {},
   "outputs": [],
   "source": []
  },
  {
   "cell_type": "code",
   "execution_count": null,
   "id": "7fcf2bbb-675b-4d3d-8ad9-bc5d68a39a5d",
   "metadata": {},
   "outputs": [],
   "source": []
  },
  {
   "cell_type": "code",
   "execution_count": null,
   "id": "ba1859f6-016b-488c-a97d-453844ff63b9",
   "metadata": {},
   "outputs": [],
   "source": []
  },
  {
   "cell_type": "code",
   "execution_count": null,
   "id": "bd50658f-33f1-45c9-89e5-b75c088c5eb8",
   "metadata": {},
   "outputs": [],
   "source": []
  },
  {
   "cell_type": "code",
   "execution_count": null,
   "id": "c52920c1-0893-4932-95f4-38f4b2e101cf",
   "metadata": {},
   "outputs": [],
   "source": []
  },
  {
   "cell_type": "code",
   "execution_count": null,
   "id": "7e59d863-3b21-4e0c-a0df-e07916eb766f",
   "metadata": {},
   "outputs": [],
   "source": []
  },
  {
   "cell_type": "code",
   "execution_count": null,
   "id": "ee4e9c4b-e9f8-4529-a03c-1aa69fdecb69",
   "metadata": {},
   "outputs": [],
   "source": []
  },
  {
   "cell_type": "code",
   "execution_count": null,
   "id": "bf7a6b4d-095a-4bd1-a602-992937638499",
   "metadata": {},
   "outputs": [],
   "source": []
  },
  {
   "cell_type": "code",
   "execution_count": null,
   "id": "1c9564f5-0e81-4a8c-bbaf-cb6626cc07d3",
   "metadata": {},
   "outputs": [],
   "source": []
  },
  {
   "cell_type": "code",
   "execution_count": null,
   "id": "7b7599fa-661c-49cd-ba44-9efc4af4bf0e",
   "metadata": {},
   "outputs": [],
   "source": []
  },
  {
   "cell_type": "code",
   "execution_count": null,
   "id": "1facb449-989a-4de7-b5bd-f4ef5e24a7b3",
   "metadata": {},
   "outputs": [],
   "source": []
  },
  {
   "cell_type": "code",
   "execution_count": null,
   "id": "01487c1d-1eea-47d0-8410-21fb79e38bb4",
   "metadata": {},
   "outputs": [],
   "source": []
  }
 ],
 "metadata": {
  "kernelspec": {
   "display_name": "Python 3",
   "language": "python",
   "name": "python3"
  },
  "language_info": {
   "codemirror_mode": {
    "name": "ipython",
    "version": 3
   },
   "file_extension": ".py",
   "mimetype": "text/x-python",
   "name": "python",
   "nbconvert_exporter": "python",
   "pygments_lexer": "ipython3",
   "version": "3.9.7"
  }
 },
 "nbformat": 4,
 "nbformat_minor": 5
}
