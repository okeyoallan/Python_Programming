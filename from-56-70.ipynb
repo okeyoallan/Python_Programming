{
 "cells": [
  {
   "cell_type": "markdown",
   "id": "f5a24541-f35d-4f23-b400-53a4e25a5ff0",
   "metadata": {},
   "source": [
    "# Question 56\n",
    "\n",
    "Write a function to compute 5/0 and use try/except to catch the exceptions.\n",
    "\n",
    "Hints:\n",
    "\n",
    "Use try/except to catch exceptions."
   ]
  },
  {
   "cell_type": "code",
   "execution_count": 57,
   "id": "f5375bc4-e188-4d55-87a5-46bc0ede291b",
   "metadata": {},
   "outputs": [
    {
     "name": "stdout",
     "output_type": "stream",
     "text": [
      "A number divided by zero is undefined\n"
     ]
    }
   ],
   "source": [
    "def undef_num(x,y):\n",
    "    return (x/y)\n",
    "try:\n",
    "    print (undef_num(5,0))\n",
    "except: #the exception  statement that handles the error that arises when we divide a number by 0\n",
    "    print(\"A number divided by zero is undefined\")\n"
   ]
  },
  {
   "cell_type": "markdown",
   "id": "ef1b1030-672a-45ce-baaf-0b99ed67c928",
   "metadata": {},
   "source": [
    "# Question 57\n",
    "\n",
    "Define a custom exception class which takes a string message as attribute.\n",
    "\n",
    "Hints:\n",
    "\n",
    "To define a custom exception, we need to define a class inherited from Exception."
   ]
  },
  {
   "cell_type": "code",
   "execution_count": 4,
   "id": "bf0e4274-2d7a-4bd0-8c09-0f452528c0f2",
   "metadata": {},
   "outputs": [
    {
     "name": "stdin",
     "output_type": "stream",
     "text": [
      "How old are you?: 12\n"
     ]
    },
    {
     "ename": "custom_exception",
     "evalue": "You are below the legal age",
     "output_type": "error",
     "traceback": [
      "\u001b[1;31m---------------------------------------------------------------------------\u001b[0m",
      "\u001b[1;31mcustom_exception\u001b[0m                          Traceback (most recent call last)",
      "\u001b[1;32m<ipython-input-4-a901a82493f1>\u001b[0m in \u001b[0;36m<module>\u001b[1;34m\u001b[0m\n\u001b[0;32m     14\u001b[0m \u001b[0mage\u001b[0m \u001b[1;33m=\u001b[0m \u001b[0mint\u001b[0m\u001b[1;33m(\u001b[0m\u001b[0minput\u001b[0m\u001b[1;33m(\u001b[0m\u001b[1;34m\"How old are you?:\"\u001b[0m\u001b[1;33m)\u001b[0m\u001b[1;33m)\u001b[0m \u001b[1;31m#user prompt\u001b[0m\u001b[1;33m\u001b[0m\u001b[1;33m\u001b[0m\u001b[0m\n\u001b[0;32m     15\u001b[0m \u001b[1;32mif\u001b[0m \u001b[0mage\u001b[0m \u001b[1;33m<\u001b[0m \u001b[1;36m18\u001b[0m\u001b[1;33m:\u001b[0m\u001b[1;33m\u001b[0m\u001b[1;33m\u001b[0m\u001b[0m\n\u001b[1;32m---> 16\u001b[1;33m     \u001b[1;32mraise\u001b[0m \u001b[0mcustom_exception\u001b[0m\u001b[1;33m(\u001b[0m\u001b[0mage\u001b[0m\u001b[1;33m)\u001b[0m\u001b[1;33m\u001b[0m\u001b[1;33m\u001b[0m\u001b[0m\n\u001b[0m\u001b[0;32m     17\u001b[0m \u001b[1;32melse\u001b[0m\u001b[1;33m:\u001b[0m\u001b[1;33m\u001b[0m\u001b[1;33m\u001b[0m\u001b[0m\n\u001b[0;32m     18\u001b[0m     \u001b[0mprint\u001b[0m\u001b[1;33m(\u001b[0m\u001b[1;34m\"You are above legal age\"\u001b[0m\u001b[1;33m)\u001b[0m\u001b[1;33m\u001b[0m\u001b[1;33m\u001b[0m\u001b[0m\n",
      "\u001b[1;31mcustom_exception\u001b[0m: You are below the legal age"
     ]
    }
   ],
   "source": [
    "class custom_exception(Exception): #defining a custom exception class that inherits from the parent 'Exception'\n",
    "    \"\"\"Exception raised for below legal age\n",
    "   \n",
    "   Attributes:\n",
    "    age -- user prompted\n",
    "    message -- below the legal age\n",
    "    \n",
    "    \"\"\"\n",
    "    def __init__(self,age,message = \"You are below the legal age\"): #defining the class constructor to initialise the instance of a class\n",
    "        self.age = age\n",
    "        self.message = message\n",
    "        super().__init__(self.message)\n",
    "\n",
    "age = int(input(\"How old are you?:\")) #user prompt\n",
    "if age < 18:\n",
    "    raise custom_exception(age)\n",
    "else:\n",
    "    print(\"You are above legal age\")\n"
   ]
  },
  {
   "cell_type": "markdown",
   "id": "686056bd-6adf-4e5e-b3d0-7d97739c77e6",
   "metadata": {},
   "source": [
    "# Question 58\n",
    "\n",
    "Assuming that we have some email addresses in the \"username@companyname.com\" format, please write program to print the user name of a given email address. Both user names and company names are composed of letters only.\n",
    "\n",
    "Example: If the following email address is given as input to the program:\n",
    "\n",
    "john@google.com\n",
    "\n",
    "Then, the output of the program should be:\n",
    "\n",
    "john\n",
    "\n",
    "In case of input data being supplied to the question, it should be assumed to be a console input.\n",
    "\n",
    "Hints:\n",
    "\n",
    "Use \\w to match letters."
   ]
  },
  {
   "cell_type": "code",
   "execution_count": 62,
   "id": "7ab334ca-179f-4570-92f1-fa16ba417603",
   "metadata": {},
   "outputs": [
    {
     "name": "stdin",
     "output_type": "stream",
     "text": [
      "Please enter your email using the format username@companyname.com john@google.com\n"
     ]
    },
    {
     "name": "stdout",
     "output_type": "stream",
     "text": [
      "['john']\n"
     ]
    }
   ],
   "source": [
    "import re\n",
    "\n",
    "email = input(\"Please enter your email using the format username@companyname.com\") #user prompt\n",
    "pattern = \"(\\w+)@\\w+.com\" #providing a pattern of the regular expressions we want as output\n",
    "ans = re.findall(pattern,email) #re.findall() method finds all occurences that match a given pattern\n",
    "print(ans)"
   ]
  },
  {
   "cell_type": "markdown",
   "id": "4797da08-8451-4bb0-a392-8be2ea7b8817",
   "metadata": {},
   "source": [
    "# Question 59\n",
    "\n",
    "Assuming that we have some email addresses in the \"username@companyname.com\" format, please write program to print the company name of a given email address. Both user names and company names are composed of letters only.\n",
    "\n",
    "Example: If the following email address is given as input to the program:\n",
    "\n",
    "john@google.com\n",
    "\n",
    "Then, the output of the program should be:\n",
    "\n",
    "google\n",
    "\n",
    "In case of input data being supplied to the question, it should be assumed to be a console input.\n",
    "\n",
    "Hints:\n",
    "\n",
    "Use \\w to match letters."
   ]
  },
  {
   "cell_type": "code",
   "execution_count": 63,
   "id": "0e2bc501-9193-429e-a8c1-ce275cf8ff11",
   "metadata": {},
   "outputs": [
    {
     "name": "stdin",
     "output_type": "stream",
     "text": [
      "Please enter your email using the format username@companyname.com john@google.com\n"
     ]
    },
    {
     "name": "stdout",
     "output_type": "stream",
     "text": [
      "['google']\n"
     ]
    }
   ],
   "source": [
    "import re\n",
    "\n",
    "email = input(\"Please enter your email using the format username@companyname.com\") #user prompt\n",
    "pattern = \"\\w+@(\\w+).com\" #specifying output pattern\n",
    "ans = re.findall(pattern,email) #using the re.findall method to search through input for specified pattern\n",
    "print(ans)"
   ]
  },
  {
   "cell_type": "markdown",
   "id": "76652091-18c0-4ce9-9ea7-ed1e0d18ba5b",
   "metadata": {
    "tags": []
   },
   "source": [
    "# Question 60\n",
    "\n",
    "Write a program which accepts a sequence of words separated by whitespace as input to print the words composed of digits only.\n",
    "\n",
    "Example: If the following words is given as input to the program:\n",
    "\n",
    "2 cats and 3 dogs.\n",
    "\n",
    "Then, the output of the program should be:\n",
    "\n",
    "['2', '3']\n",
    "\n",
    "In case of input data being supplied to the question, it should be assumed to be a console input.\n",
    "\n",
    "Hints:\n",
    "\n",
    "Use re.findall() to find all substring using regex"
   ]
  },
  {
   "cell_type": "code",
   "execution_count": 36,
   "id": "ecef1ee8-41f7-4d9e-a781-d397f0f956d8",
   "metadata": {},
   "outputs": [
    {
     "name": "stdout",
     "output_type": "stream",
     "text": [
      "['2', '3']\n"
     ]
    }
   ],
   "source": [
    "import re\n",
    "my_pets = (\"2 cats and 3 dogs\")\n",
    "print (re.findall(\"\\d+\",my_pets))  #specificying a digit pattern for the output\n"
   ]
  },
  {
   "cell_type": "markdown",
   "id": "a9f2de0e-16f7-4dea-8399-37875a56755d",
   "metadata": {},
   "source": [
    "# Question 61\n",
    "\n",
    "Print a unicode string \"hello world\".\n",
    "\n",
    "Hints:\n",
    "\n",
    "Use u'strings' format to define unicode string."
   ]
  },
  {
   "cell_type": "code",
   "execution_count": 28,
   "id": "928bcecf-07f3-4056-8ee7-26f55ea2d29e",
   "metadata": {},
   "outputs": [
    {
     "name": "stdout",
     "output_type": "stream",
     "text": [
      "hello world\n"
     ]
    }
   ],
   "source": [
    "unicodeString = u\"hello world\" #unicode strings use the prefix u\n",
    "print (unicodeString)"
   ]
  },
  {
   "cell_type": "markdown",
   "id": "b7b87af5-3664-49a3-9c30-5200e5e1d2b8",
   "metadata": {
    "tags": []
   },
   "source": [
    "# Question 62\n",
    "\n",
    "Write a program to read an ASCII string and to convert it to a unicode string encoded by utf-8.\n",
    "\n",
    "Hints:\n",
    "\n",
    "Use unicode() function to convert."
   ]
  },
  {
   "cell_type": "code",
   "execution_count": 59,
   "id": "a1798a83-b0fe-4f78-b897-adbbaff81f41",
   "metadata": {},
   "outputs": [
    {
     "name": "stdin",
     "output_type": "stream",
     "text": [
      "Hello,what's your name? carol\n"
     ]
    },
    {
     "name": "stdout",
     "output_type": "stream",
     "text": [
      "b\"'carol'\"\n",
      "b\"'carol'\"\n"
     ]
    }
   ],
   "source": [
    "question = ascii (input(\"Hello,what's your name?\"))\n",
    "name = question.encode(\"utf-8\") \n",
    "print (name)\n",
    "name.decode()\n",
    "print(name)\n"
   ]
  },
  {
   "cell_type": "markdown",
   "id": "6b35516b-e361-4d60-9660-05cedf40dde2",
   "metadata": {},
   "source": [
    "# Question 63\n",
    "\n",
    "Write a special comment to indicate a Python source code file is in unicode.\n",
    "\n",
    "Hints:\n"
   ]
  },
  {
   "cell_type": "code",
   "execution_count": 61,
   "id": "358e29c0-b88a-4c43-8469-a343e115d7fd",
   "metadata": {},
   "outputs": [],
   "source": [
    "# -*- coding: <encoding name> -*-"
   ]
  },
  {
   "cell_type": "markdown",
   "id": "048df9bc-9b5e-42b5-b9d2-13ca8e56ac98",
   "metadata": {},
   "source": [
    "# Question 64\n",
    "\n",
    "Write a program to compute 1/2+2/3+3/4+...+n/n+1 with a given n input by console (n>0).\n",
    "\n",
    "Example: If the following n is given as input to the program:\n",
    "\n",
    "5\n",
    "\n",
    "Then, the output of the program should be:\n",
    "\n",
    "3.55\n",
    "\n",
    "In case of input data being supplied to the question, it should be assumed to be a console input.\n",
    "\n",
    "Hints: Use float() to convert an integer to a float"
   ]
  },
  {
   "cell_type": "code",
   "execution_count": 37,
   "id": "cdd6b4cc-a616-4358-8577-ab860074fc55",
   "metadata": {},
   "outputs": [
    {
     "name": "stdin",
     "output_type": "stream",
     "text": [
      "What is your favourite number? 5\n"
     ]
    },
    {
     "name": "stdout",
     "output_type": "stream",
     "text": [
      "3.5500000000000003\n"
     ]
    }
   ],
   "source": [
    "number = int(input(\"What is your favourite number?\"))\n",
    "sum = 0.0\n",
    "for i in range(1,number+1):\n",
    "    sum = sum + float(i/(i+1)) # using float() to convert the equation from an interger\n",
    "print(sum)\n"
   ]
  },
  {
   "cell_type": "markdown",
   "id": "a2ae6975-db53-48c7-9481-d5bd46495b6b",
   "metadata": {},
   "source": [
    "# Question 65\n",
    "\n",
    "Write a program to compute:\n",
    "\n",
    "f(n)=f(n-1)+100 when n>0 and f(0)=1\n",
    "\n",
    "with a given n input by console (n>0).\n",
    "\n",
    "Example: If the following n is given as input to the program:\n",
    "\n",
    "5\n",
    "\n",
    "Then, the output of the program should be:\n",
    "\n",
    "500\n",
    "\n",
    "In case of input data being supplied to the question, it should be assumed to be a console input.\n",
    "\n",
    "Hints: We can define recursive function in Python."
   ]
  },
  {
   "cell_type": "code",
   "execution_count": 45,
   "id": "97703b38-aca9-4a3d-b584-acf8b425bdb6",
   "metadata": {},
   "outputs": [
    {
     "name": "stdin",
     "output_type": "stream",
     "text": [
      "Provide n value for the fuction f(n)=f(n-1)+100: 5\n"
     ]
    },
    {
     "name": "stdout",
     "output_type": "stream",
     "text": [
      "501\n"
     ]
    }
   ],
   "source": [
    "def fxn(n): #creating a function that returns the the equation f(n)=f(n-1)+100 when n>0 and f(0)=1\n",
    "    if n == 0:\n",
    "        return 1\n",
    "    elif n > 0:\n",
    "        return fxn(n-1) +100\n",
    "number = int(input(\"Provide n value for the fuction f(n)=f(n-1)+100:\")) #instatiating an input\n",
    "print(fxn(number)) #print the valueof the input"
   ]
  },
  {
   "cell_type": "markdown",
   "id": "8ce4739d-c6cb-4678-be25-5df5c72ff780",
   "metadata": {},
   "source": [
    "# Question 66\n",
    "\n",
    "The Fibonacci Sequence is computed based on the following formula:\n",
    "\n",
    "f(n)=0 if n=0 f(n)=1 if n=1 f(n)=f(n-1)+f(n-2) if n>1\n",
    "\n",
    "Please write a program to compute the value of f(n) with a given n input by console.\n",
    "\n",
    "Example: If the following n is given as input to the program:\n",
    "\n",
    "7\n",
    "\n",
    "Then, the output of the program should be:\n",
    "\n",
    "13\n",
    "\n",
    "In case of input data being supplied to the question, it should be assumed to be a console input.\n",
    "\n",
    "Hints: We can define recursive function in Python."
   ]
  },
  {
   "cell_type": "code",
   "execution_count": 46,
   "id": "3449f84f-5fea-4d66-b609-d9c7962129ee",
   "metadata": {},
   "outputs": [
    {
     "name": "stdin",
     "output_type": "stream",
     "text": [
      "Enter a counting number: 7\n"
     ]
    },
    {
     "data": {
      "text/plain": [
       "13"
      ]
     },
     "execution_count": 46,
     "metadata": {},
     "output_type": "execute_result"
    }
   ],
   "source": [
    "def Fibonacci(n): #creating a function that defines a Fibonacci sequence\n",
    "    if n == 0:\n",
    "        return 0\n",
    "    elif n == 1:\n",
    "        return 1\n",
    "    else:\n",
    "        return Fibonacci(n-1) + Fibonacci(n-2)\n",
    "number = int(input(\"Enter a counting number:\")) #instatiating an input\n",
    "Fibonacci(number) # output "
   ]
  },
  {
   "cell_type": "markdown",
   "id": "b1bda6f2-d2fc-4efe-a3ca-bd315b542cf8",
   "metadata": {},
   "source": [
    "# Question 67\n",
    "\n",
    "The Fibonacci Sequence is computed based on the following formula:\n",
    "\n",
    "f(n)=0 if n=0 f(n)=1 if n=1 f(n)=f(n-1)+f(n-2) if n>1\n",
    "\n",
    "Please write a program using list comprehension to print the Fibonacci Sequence in comma separated form with a given n input by console.\n",
    "\n",
    "Example: If the following n is given as input to the program:\n",
    "\n",
    "7\n",
    "\n",
    "Then, the output of the program should be:\n",
    "\n",
    "0,1,1,2,3,5,8,13\n",
    "\n",
    "Hints: We can define recursive function in Python. Use list comprehension to generate a list from an existing list. Use string.join() to join a list of strings.\n",
    "\n",
    "In case of input data being supplied to the question, it should be assumed to be a console input."
   ]
  },
  {
   "cell_type": "code",
   "execution_count": 58,
   "id": "99f27a34-b589-4dcb-85da-240f8edaaf5c",
   "metadata": {},
   "outputs": [
    {
     "name": "stdin",
     "output_type": "stream",
     "text": [
      " 7\n"
     ]
    },
    {
     "name": "stdout",
     "output_type": "stream",
     "text": [
      "0,1,1,2,3,5,8,13\n"
     ]
    }
   ],
   "source": [
    "\n",
    "def fibonacci(n):           #defining the a function that evaluates the Fibonacci Sequence \n",
    "        if n == 0:\n",
    "            return 0\n",
    "        elif n == 1:\n",
    "            return 1\n",
    "        else:\n",
    "            return fibonacci(n-1)+fibonacci(n-2)\n",
    "\n",
    "n=int(input()) #prompting user input\n",
    "values = [str(fibonacci(i)) for i in range(0, n+1)] #storing individual sequences in a list called values\n",
    "print (\",\".join(values)) #printing joint Fibonacci sequences separated by commas\n"
   ]
  },
  {
   "cell_type": "markdown",
   "id": "3f577376-0f06-446a-9153-10a3ae1cb9fb",
   "metadata": {},
   "source": [
    "# Question 68\n",
    "\n",
    "Please write a program using generator to print the even numbers between 0 and n in comma separated form while n is input by console.\n",
    "\n",
    "Example: If the following n is given as input to the program:\n",
    "\n",
    "10\n",
    "\n",
    "Then, the output of the program should be:\n",
    "\n",
    "0,2,4,6,8,10\n",
    "\n",
    "Hints: Use yield to produce the next value in generator.\n",
    "\n",
    "In case of input data being supplied to the question, it should be assumed to be a console input"
   ]
  },
  {
   "cell_type": "code",
   "execution_count": 7,
   "id": "1e1b433a-f52c-4c1b-a2ea-8ab6fc28189f",
   "metadata": {},
   "outputs": [
    {
     "name": "stdin",
     "output_type": "stream",
     "text": [
      "Give an interger: 10\n"
     ]
    },
    {
     "name": "stdout",
     "output_type": "stream",
     "text": [
      "0,2,4,6,8,10,"
     ]
    }
   ],
   "source": [
    "def even_list(n):\n",
    "    for i in range(0,n +1): \n",
    "        if i % 2 == 0:\n",
    "            yield i #the yield value returns the fuction without destroying the state of the local variable.\n",
    "            \n",
    "n = int(input(\"Give an interger:\"))\n",
    "\n",
    "for i in even_list(n):\n",
    "    print(i, end = \",\") #the end options specifies how output should be separated."
   ]
  },
  {
   "cell_type": "markdown",
   "id": "561788d6-f9a0-46a2-b65a-aa3c452229a0",
   "metadata": {},
   "source": [
    "# Question 69\n",
    "\n",
    "Please write a program using generator to print the numbers which can be divisible by 5 and 7 between 0 and n in comma separated form while n is input by console.\n",
    "\n",
    "Example: If the following n is given as input to the program:\n",
    "\n",
    "100\n",
    "\n",
    "Then, the output of the program should be:\n",
    "\n",
    "0,35,70\n",
    "\n",
    "Hints: Use yield to produce the next value in generator.\n",
    "\n",
    "In case of input data being supplied to the question, it should be assumed to be a console input."
   ]
  },
  {
   "cell_type": "code",
   "execution_count": 47,
   "id": "c93096a6-7f72-4ea1-80eb-773ee76b7217",
   "metadata": {},
   "outputs": [
    {
     "name": "stdin",
     "output_type": "stream",
     "text": [
      "Provide a numerical value: 100\n"
     ]
    },
    {
     "name": "stdout",
     "output_type": "stream",
     "text": [
      "0,35,70,"
     ]
    }
   ],
   "source": [
    "def divisable(n): #a function that defines numbers divided by both 5 and 7\n",
    "    for i in range(0,n):\n",
    "        if i%5 == 0 and i%7 ==0:\n",
    "            yield i\n",
    "            \n",
    "n = int(input(\"Provide a numerical value:\")) #input from the user\n",
    "\n",
    "for i in  divisable(n):\n",
    "    print(i, end=\",\") # printing out the list separated by commas"
   ]
  },
  {
   "cell_type": "markdown",
   "id": "554b8a8b-198f-4bcd-96a3-0d0ba047585d",
   "metadata": {},
   "source": [
    "# Question 70\n",
    "\n",
    "Please write assert statements to verify that every number in the list [2,4,6,8] is even.\n",
    "\n",
    "Hints: Use \"assert expression\" to make assertion."
   ]
  },
  {
   "cell_type": "code",
   "execution_count": 59,
   "id": "c2da4c93-41fd-4f60-9e8e-0f51818e1789",
   "metadata": {},
   "outputs": [
    {
     "name": "stdout",
     "output_type": "stream",
     "text": [
      "This is an even number : 2\n",
      "This is an even number : 4\n",
      "This is an even number : 6\n",
      "This is an even number : 8\n"
     ]
    }
   ],
   "source": [
    "even_list = [2,4,6,8]\n",
    "for i in even_list:\n",
    "    assert i%2 == 0, \"List has an odd number\" #the condition and defining an AssertionError statement\n",
    "    print(\"This is an even number :\",i)\n",
    "    "
   ]
  },
  {
   "cell_type": "code",
   "execution_count": 61,
   "id": "4799769b-dba2-4c34-b817-1a6e470d7d7d",
   "metadata": {},
   "outputs": [
    {
     "name": "stdout",
     "output_type": "stream",
     "text": [
      "This is an even number : 2\n"
     ]
    },
    {
     "ename": "AssertionError",
     "evalue": "List has an odd number",
     "output_type": "error",
     "traceback": [
      "\u001b[0;31m---------------------------------------------------------------------------\u001b[0m",
      "\u001b[0;31mAssertionError\u001b[0m                            Traceback (most recent call last)",
      "\u001b[0;32m/tmp/ipykernel_12138/85425828.py\u001b[0m in \u001b[0;36m<module>\u001b[0;34m\u001b[0m\n\u001b[1;32m      2\u001b[0m \u001b[0meven_list\u001b[0m \u001b[0;34m=\u001b[0m \u001b[0;34m[\u001b[0m\u001b[0;36m2\u001b[0m\u001b[0;34m,\u001b[0m\u001b[0;36m3\u001b[0m\u001b[0;34m,\u001b[0m\u001b[0;36m4\u001b[0m\u001b[0;34m,\u001b[0m\u001b[0;36m6\u001b[0m\u001b[0;34m,\u001b[0m\u001b[0;36m8\u001b[0m\u001b[0;34m,\u001b[0m\u001b[0;36m9\u001b[0m\u001b[0;34m]\u001b[0m\u001b[0;34m\u001b[0m\u001b[0;34m\u001b[0m\u001b[0m\n\u001b[1;32m      3\u001b[0m \u001b[0;32mfor\u001b[0m \u001b[0mi\u001b[0m \u001b[0;32min\u001b[0m \u001b[0meven_list\u001b[0m\u001b[0;34m:\u001b[0m\u001b[0;34m\u001b[0m\u001b[0;34m\u001b[0m\u001b[0m\n\u001b[0;32m----> 4\u001b[0;31m     \u001b[0;32massert\u001b[0m \u001b[0mi\u001b[0m\u001b[0;34m%\u001b[0m\u001b[0;36m2\u001b[0m \u001b[0;34m==\u001b[0m \u001b[0;36m0\u001b[0m\u001b[0;34m,\u001b[0m \u001b[0;34m\"List has an odd number\"\u001b[0m \u001b[0;31m#the condition and defining an AssertionError statement\u001b[0m\u001b[0;34m\u001b[0m\u001b[0;34m\u001b[0m\u001b[0m\n\u001b[0m\u001b[1;32m      5\u001b[0m     \u001b[0mprint\u001b[0m\u001b[0;34m(\u001b[0m\u001b[0;34m\"This is an even number :\"\u001b[0m\u001b[0;34m,\u001b[0m\u001b[0mi\u001b[0m\u001b[0;34m)\u001b[0m\u001b[0;34m\u001b[0m\u001b[0;34m\u001b[0m\u001b[0m\n",
      "\u001b[0;31mAssertionError\u001b[0m: List has an odd number"
     ]
    }
   ],
   "source": [
    "#this block of code displays the AssertionError statement\n",
    "even_list = [2,3,4,6,8,9]\n",
    "for i in even_list:\n",
    "    assert i%2 == 0, \"List has an odd number\" #the condition and defining an AssertionError statement\n",
    "    print(\"This is an even number :\",i)"
   ]
  }
 ],
 "metadata": {
  "kernelspec": {
   "display_name": "Python 3",
   "language": "python",
   "name": "python3"
  },
  "language_info": {
   "codemirror_mode": {
    "name": "ipython",
    "version": 3
   },
   "file_extension": ".py",
   "mimetype": "text/x-python",
   "name": "python",
   "nbconvert_exporter": "python",
   "pygments_lexer": "ipython3",
   "version": "3.8.8"
  }
 },
 "nbformat": 4,
 "nbformat_minor": 5
}
