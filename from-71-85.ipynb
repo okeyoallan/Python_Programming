{
 "cells": [
  {
   "cell_type": "code",
   "execution_count": null,
   "id": "74b2df68-0002-4f55-8f6d-a6966c6592ef",
   "metadata": {},
   "outputs": [],
   "source": []
  },
  {
   "cell_type": "markdown",
   "id": "68733f4c-7fc1-436e-94a8-64ac8742e9ba",
   "metadata": {
    "tags": []
   },
   "source": [
    "### Question 71\n",
    "Please write a program which accepts basic mathematic expression from console and print the evaluation result.\n",
    "\n",
    "Example:\n",
    "If the following string is given as input to the program:\n",
    "\n",
    "35+3\n",
    "\n",
    "Then, the output of the program should be:\n",
    "\n",
    "38\n",
    "\n",
    "Hints:\n",
    "Use eval() to evaluate an expression."
   ]
  },
  {
   "cell_type": "code",
   "execution_count": 32,
   "id": "d262b414-d78d-4eec-8748-b8d26a8312ea",
   "metadata": {},
   "outputs": [
    {
     "name": "stdin",
     "output_type": "stream",
     "text": [
      "Enter your mathematical expression 35+3\n"
     ]
    },
    {
     "data": {
      "text/plain": [
       "38"
      ]
     },
     "execution_count": 32,
     "metadata": {},
     "output_type": "execute_result"
    }
   ],
   "source": [
    "expr_71=input(\"Enter your mathematical expression\")  #accept user input\n",
    "eval(expr_71)                                        #evaluates the mathematical expression"
   ]
  },
  {
   "cell_type": "markdown",
   "id": "86dd1626-3bc7-4da0-95d0-aed8768316d2",
   "metadata": {},
   "source": [
    "### Question 72\n",
    "Please write a binary search function which searches an item in a sorted list. The function should return the index of element to be searched in the list.\n",
    "\n",
    "Hints:\n",
    "Use if/elif to deal with conditions."
   ]
  },
  {
   "cell_type": "code",
   "execution_count": 14,
   "id": "f9ed4cbd-dcaf-4a09-970c-f72ad34ca957",
   "metadata": {},
   "outputs": [
    {
     "data": {
      "text/plain": [
       "2"
      ]
     },
     "execution_count": 14,
     "metadata": {},
     "output_type": "execute_result"
    }
   ],
   "source": [
    "def binary_search(list_72, item_72):                          #defines a function which accepts 2 arguments\n",
    "    sorted_list = sorted(list_72)                             #sorts the first argument alphabetically\n",
    "    for i in sorted_list:                                     #loops throught the dorted list and checks for 2nd argument\n",
    "        if i==item_72:\n",
    "            return sorted_list.index(i)                       #returns the index position of the second argument in first argument\n",
    "binary_search(['yellow', 'blue','violet','green'], 'violet')\n",
    "        "
   ]
  },
  {
   "cell_type": "markdown",
   "id": "bd464b4e-ec01-4dc1-957f-2182c68fbbf3",
   "metadata": {},
   "source": [
    "### Question 73\n",
    "Please write a binary search function which searches an item in a sorted list. The function should return the index of element to be searched in the list.\n",
    "\n",
    "Hints:\n",
    "Use if/elif to deal with conditions."
   ]
  },
  {
   "cell_type": "code",
   "execution_count": 13,
   "id": "121ac2f6-a995-4482-8c4c-030282773315",
   "metadata": {},
   "outputs": [
    {
     "data": {
      "text/plain": [
       "2"
      ]
     },
     "execution_count": 13,
     "metadata": {},
     "output_type": "execute_result"
    }
   ],
   "source": [
    "def binary_search(list_72, item_72):                          #defines a function which accepts 2 arguments\n",
    "    sorted_list = sorted(list_72)                             #sorts the first argument alphabetically\n",
    "    for i in sorted_list:                                     #loops throught the dorted list and checks for 2nd argument\n",
    "        if i==item_72:\n",
    "            return sorted_list.index(i)                       #returns the index position of the second argument in first argument\n",
    "binary_search(['yellow', 'blue','violet','green'], 'violet')"
   ]
  },
  {
   "cell_type": "markdown",
   "id": "ea12279e-51e1-426f-a56e-9e4d64243ee9",
   "metadata": {},
   "source": [
    "### Question 74\n",
    "Please generate a random float where the value is between 10 and 100 using Python math module.\n",
    "\n",
    "Hints:\n",
    "Use random.random() to generate a random float in [0,1]."
   ]
  },
  {
   "cell_type": "code",
   "execution_count": 12,
   "id": "f74062ad-a018-462c-9dd8-c037fac6744c",
   "metadata": {},
   "outputs": [
    {
     "name": "stdout",
     "output_type": "stream",
     "text": [
      "56.95001716748275\n"
     ]
    }
   ],
   "source": [
    "import random                        #import random module\n",
    "print(random.uniform(10,100))        #generate a random float where the value is between 10 and 100"
   ]
  },
  {
   "cell_type": "markdown",
   "id": "3f5607bb-d689-4ae3-9a4b-5c5062bd05b6",
   "metadata": {},
   "source": [
    "### Question 75\n",
    "Please generate a random float where the value is between 5 and 95 using Python math module.\n",
    "\n",
    "Hints:\n",
    "Use random.random() to generate a random float in [0,1]."
   ]
  },
  {
   "cell_type": "code",
   "execution_count": 11,
   "id": "9851a6fe-d988-4391-955b-850a58654d15",
   "metadata": {},
   "outputs": [
    {
     "name": "stdout",
     "output_type": "stream",
     "text": [
      "35.496215007592824\n"
     ]
    }
   ],
   "source": [
    "import random                    #import random module\n",
    "print(random.uniform(5,95))      #generate a random float where the value is between 5 and 95"
   ]
  },
  {
   "cell_type": "markdown",
   "id": "3deb8326-6fb6-4225-b9f9-30469f85f1db",
   "metadata": {},
   "source": [
    "### Question 76\n",
    "Please write a program to output a random even number between 0 and 10 inclusive using random module and list comprehension.\n",
    "\n",
    "Hints:\n",
    "Use random.choice() to a random element from a list."
   ]
  },
  {
   "cell_type": "code",
   "execution_count": 10,
   "id": "35131f01-e0bd-4fe3-8216-85c7ee9b7373",
   "metadata": {},
   "outputs": [
    {
     "data": {
      "text/plain": [
       "0"
      ]
     },
     "execution_count": 10,
     "metadata": {},
     "output_type": "execute_result"
    }
   ],
   "source": [
    "import random                                                #import random module\n",
    "random.choice([i for i in range(0,11) if i%2==0])            #output a random even number between 0 and 10"
   ]
  },
  {
   "cell_type": "markdown",
   "id": "21c0af21-1387-4f90-8da7-badd9302521a",
   "metadata": {},
   "source": [
    "### Question 77\n",
    "Please write a program to output a random number, which is divisible by 5 and 7, between 0 and 10 inclusive using random module and list comprehension.\n",
    "\n",
    "Hints:\n",
    "Use random.choice() to a random element from a list."
   ]
  },
  {
   "cell_type": "code",
   "execution_count": 9,
   "id": "84dd4c36-d0d1-4dbd-bc84-4c6b889537cf",
   "metadata": {},
   "outputs": [
    {
     "data": {
      "text/plain": [
       "0"
      ]
     },
     "execution_count": 9,
     "metadata": {},
     "output_type": "execute_result"
    }
   ],
   "source": [
    "import random                                                          #import random module\n",
    "random.choice([i for i in range(0,11) if i%5==0 and i%7==0])           #output a random number, which is divisible by 5 and 7, between 0 and 10"
   ]
  },
  {
   "cell_type": "markdown",
   "id": "83ef26d4-fb07-43e9-b5c0-edeebf065d28",
   "metadata": {},
   "source": [
    "### Question 78\n",
    "Please write a program to generate a list with 5 random numbers between 100 and 200 inclusive.\n",
    "\n",
    "Hints:\n",
    "Use random.sample() to generate a list of random values."
   ]
  },
  {
   "cell_type": "code",
   "execution_count": 8,
   "id": "f0769635-5aef-4f85-b784-793686b3392a",
   "metadata": {},
   "outputs": [
    {
     "name": "stdout",
     "output_type": "stream",
     "text": [
      "[117, 169, 185, 121, 110]\n"
     ]
    }
   ],
   "source": [
    "import random                              #import random module\n",
    "print(random.sample(range(100,201),5))     #find 5 random numbers 100 and 200"
   ]
  },
  {
   "cell_type": "markdown",
   "id": "47c86fed-1656-438d-8df2-dcdff2788dcf",
   "metadata": {},
   "source": [
    "### Question 79\n",
    "Please write a program to randomly generate a list with 5 even numbers between 100 and 200 inclusive.\n",
    "\n",
    "Hints:\n",
    "Use random.sample() to generate a list of random values."
   ]
  },
  {
   "cell_type": "code",
   "execution_count": 7,
   "id": "e7d9dc37-bb9b-4781-84d5-a8486a26963e",
   "metadata": {},
   "outputs": [
    {
     "name": "stdout",
     "output_type": "stream",
     "text": [
      "[106, 146, 102, 196, 112]\n"
     ]
    }
   ],
   "source": [
    "import random                                                         #import random module\n",
    "print(random.sample([i for i in range(100,201) if i%2==0],5))         #find 5 random even numbers"
   ]
  },
  {
   "cell_type": "markdown",
   "id": "3b055f07-6c81-49dc-a797-ffb9e0e6c1f3",
   "metadata": {},
   "source": [
    "### Question 80\n",
    "Please write a program to randomly generate a list with 5 numbers, which are divisible by 5 and 7 , between 1 and 1000 inclusive.\n",
    "\n",
    "Hints:\n",
    "Use random.sample() to generate a list of random values."
   ]
  },
  {
   "cell_type": "code",
   "execution_count": 6,
   "id": "82d29f86-73d8-4fa1-8d8f-0342571f825d",
   "metadata": {},
   "outputs": [
    {
     "name": "stdout",
     "output_type": "stream",
     "text": [
      "[630, 910, 805, 140, 735]\n"
     ]
    }
   ],
   "source": [
    "import random                                                                 #import the random module\n",
    "print(random.sample([i for i in range(1,1001) if i%5==0 and i%7==0],5))       #finds 5 random numbers bewteen 1 and 1000, divisible by both 5 and 7"
   ]
  },
  {
   "cell_type": "markdown",
   "id": "ef9f22af-8d76-4067-8c04-3eec1126828b",
   "metadata": {},
   "source": [
    "### Question 81\n",
    "Please write a program to randomly print a integer number between 7 and 15 inclusive.\n",
    "\n",
    "Hints:\n",
    "Use random.randrange() to a random integer in a given range."
   ]
  },
  {
   "cell_type": "code",
   "execution_count": 5,
   "id": "c974a117-82b3-4d4e-aaed-bbf36f0d9ce6",
   "metadata": {},
   "outputs": [
    {
     "name": "stdout",
     "output_type": "stream",
     "text": [
      "12\n"
     ]
    }
   ],
   "source": [
    "import random                             #import the random module\n",
    "print(random.randrange(7,16))             #outputs a random number between 7 and 15"
   ]
  },
  {
   "cell_type": "markdown",
   "id": "3d78be50-f5e8-4953-8594-fe83800999a8",
   "metadata": {},
   "source": [
    "### Question 82\n",
    "Please write a program to compress and decompress the string \"hello world!hello world!hello world!hello world!\".\n",
    "\n",
    "Hints:\n",
    "Use zlib.compress() and zlib.decompress() to compress and decompress a string.\n"
   ]
  },
  {
   "cell_type": "code",
   "execution_count": 4,
   "id": "bdf8ec42-4fc2-4115-870f-7f57f4abba41",
   "metadata": {},
   "outputs": [
    {
     "name": "stdout",
     "output_type": "stream",
     "text": [
      "b'x\\x9c\\xcbH\\xcd\\xc9\\xc9W(\\xcf/\\xcaIQ\\xcc \\x82\\r\\x00\\xbd[\\x11\\xf5'\n",
      "b'hello world!hello world!hello world!hello world!'\n"
     ]
    }
   ],
   "source": [
    "import zlib                                                           #import the module zlib\n",
    "string_82 = \"hello world!hello world!hello world!hello world!\"        #initializes a string\n",
    "compressed_82 = zlib.compress(bytes(string_82, 'utf-8'))              #compresses the string\n",
    "print(compressed_82)                                                  #output the compressed\n",
    "print(zlib.decompress(compressed_82))                                 #decrompresses and outputs the results"
   ]
  },
  {
   "cell_type": "markdown",
   "id": "f4c90172-eacc-4654-b270-820d20fba588",
   "metadata": {},
   "source": [
    "### Question 83\n",
    "Please write a program to print the running time of execution of \"1+1\" for 100 times.\n",
    "\n",
    "Hints:\n",
    "Use timeit() function to measure the running time."
   ]
  },
  {
   "cell_type": "code",
   "execution_count": 3,
   "id": "6ab13005-7bc6-4823-9c9b-0d3beca1fb43",
   "metadata": {},
   "outputs": [
    {
     "name": "stdout",
     "output_type": "stream",
     "text": [
      "2.123966399999972\n"
     ]
    }
   ],
   "source": [
    "from timeit import Timer                          #import Timer function from timeit module\n",
    "time_83 = Timer(\"for i in range(0,100):1+1\")      #calculates the time for executing the expression 1+1 100 times\n",
    "print(time_83.timeit())                           #output the time"
   ]
  },
  {
   "cell_type": "markdown",
   "id": "d691689c-f054-4bd8-b640-e0496eb51b06",
   "metadata": {},
   "source": [
    "### Question 84\n",
    "Please write a program to shuffle and print the list [3,6,7,8].\n",
    "\n",
    "Hints:\n",
    "Use shuffle() function to shuffle a list.\n"
   ]
  },
  {
   "cell_type": "code",
   "execution_count": 2,
   "id": "8771dc7b-17d8-4f15-8294-f57a9b32b9c4",
   "metadata": {},
   "outputs": [
    {
     "name": "stdout",
     "output_type": "stream",
     "text": [
      "[7, 6, 8, 3]\n"
     ]
    }
   ],
   "source": [
    "import random           #import random module\n",
    "list_85=[3,6,7,8]       #sample list\n",
    "random.shuffle(list_85) # shuffles the list\n",
    "print(list_85)          #output of the shuffled list"
   ]
  },
  {
   "cell_type": "markdown",
   "id": "191d81b2-b104-4012-89ec-8970af36a023",
   "metadata": {},
   "source": [
    "### Question 85\n",
    "Please write a program to shuffle and print the list [3,6,7,8].\n",
    "\n",
    "Hints:\n",
    "Use shuffle() function to shuffle a list."
   ]
  },
  {
   "cell_type": "code",
   "execution_count": 1,
   "id": "6d0888c8-75f2-4a49-a361-1fd76efc4800",
   "metadata": {},
   "outputs": [
    {
     "name": "stdout",
     "output_type": "stream",
     "text": [
      "[6, 8, 3, 7]\n"
     ]
    }
   ],
   "source": [
    "import random           #import random module\n",
    "list_85=[3,6,7,8]       #sample list\n",
    "random.shuffle(list_85) # shuffles the list\n",
    "print(list_85)          #output of the shuffled list"
   ]
  },
  {
   "cell_type": "code",
   "execution_count": null,
   "id": "16ba88b6-652f-4013-a077-5e8b1bf06077",
   "metadata": {},
   "outputs": [],
   "source": []
  }
 ],
 "metadata": {
  "kernelspec": {
   "display_name": "Python 3 (ipykernel)",
   "language": "python",
   "name": "python3"
  },
  "language_info": {
   "codemirror_mode": {
    "name": "ipython",
    "version": 3
   },
   "file_extension": ".py",
   "mimetype": "text/x-python",
   "name": "python",
   "nbconvert_exporter": "python",
   "pygments_lexer": "ipython3",
   "version": "3.9.7"
  }
 },
 "nbformat": 4,
 "nbformat_minor": 5
}

