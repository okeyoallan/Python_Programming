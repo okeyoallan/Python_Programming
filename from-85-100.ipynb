{
 "cells": [
  {
   "cell_type": "markdown",
   "id": "d367fc3f-4dae-481e-9c8c-11ed0d94ee39",
   "metadata": {},
   "source": [
    "**QUESTION 1**\n",
    "\n",
    "Write a program which will find all such numbers which are divisible by 7 but are not a multiple of 5, between 2000 and 3200 (both included). The numbers obtained should be printed in a comma-separated sequence on a single line.\n",
    "\n",
    "Hints: Consider use range(#begin, #end) method\n"
   ]
  },
  {
   "cell_type": "code",
   "execution_count": 68,
   "id": "8877cff2-5d3e-4b09-9818-029b467586f8",
   "metadata": {},
   "outputs": [
    {
     "name": "stdout",
     "output_type": "stream",
     "text": [
      "2002,2009,2016,2023,2037,2044,2051,2058,2072,2079,2086,2093,2107,2114,2121,2128,2142,2149,2156,2163,2177,2184,2191,2198,2212,2219,2226,2233,2247,2254,2261,2268,2282,2289,2296,2303,2317,2324,2331,2338,2352,2359,2366,2373,2387,2394,2401,2408,2422,2429,2436,2443,2457,2464,2471,2478,2492,2499,2506,2513,2527,2534,2541,2548,2562,2569,2576,2583,2597,2604,2611,2618,2632,2639,2646,2653,2667,2674,2681,2688,2702,2709,2716,2723,2737,2744,2751,2758,2772,2779,2786,2793,2807,2814,2821,2828,2842,2849,2856,2863,2877,2884,2891,2898,2912,2919,2926,2933,2947,2954,2961,2968,2982,2989,2996,3003,3017,3024,3031,3038,3052,3059,3066,3073,3087,3094,3101,3108,3122,3129,3136,3143,3157,3164,3171,3178,3192,3199\n"
     ]
    }
   ],
   "source": [
    "d=[]                         #putting list in a variable\n",
    "for i in range(2000,3200):\n",
    "    if i%7==0 and i%5!=0:    #includes both conditions in one condition\n",
    "        d.append(str(i))     #putting product in a list in form of a string to be able to join in a single line\n",
    "print((',').join(d))         #joining string values in one comma-separated sequence"
   ]
  },
  {
   "cell_type": "markdown",
   "id": "cc163e29-7c68-4cf1-b581-bd3df7dd7dcf",
   "metadata": {},
   "source": [
    "**QUESTION 2**\n",
    "\n",
    "Write a program which can compute the factorial of a given numbers. The results should be printed in a comma-separated sequence on a single line. Suppose the following input is supplied to the program: 8 Then, the output should be: 40320\n",
    "\n",
    "Hints: In case of input data being supplied to the question, it should be assumed to be a console input.\n"
   ]
  },
  {
   "cell_type": "code",
   "execution_count": 69,
   "id": "3d7ba6e4-5c60-4395-836a-fe1ef7fed55b",
   "metadata": {},
   "outputs": [
    {
     "name": "stdin",
     "output_type": "stream",
     "text": [
      " 8\n"
     ]
    },
    {
     "name": "stdout",
     "output_type": "stream",
     "text": [
      "40320\n"
     ]
    }
   ],
   "source": [
    "n=int(input())              #allowing console input in form of integers\n",
    "\n",
    "factorial=1                 #factorial is a function that multiplies the number by every number below it\n",
    "f=1\n",
    "\n",
    "while f<=n:                 #while the integer,f is less than the input value, multiplication should continue\n",
    "    factorial=factorial*f\n",
    "    f=f+1                   #f is the integer plus 1 until the while loop conditions are met depending on the input integer\n",
    "print(factorial)"
   ]
  },
  {
   "cell_type": "markdown",
   "id": "ef9702e8-6612-4e8c-bd28-ec47d6640106",
   "metadata": {},
   "source": [
    "**QUESTION 3**\n",
    "\n",
    "With a given integral number n, write a program to generate a dictionary that contains (i, i*i) such that is an integral number between 1 and n (both included). and then the program should print the dictionary. Suppose the following input is supplied to the program: 8 Then, the output should be: {1: 1, 2: 4, 3: 9, 4: 16, 5: 25, 6: 36, 7: 49, 8: 64}\n",
    "\n",
    "Hints: In case of input data being supplied to the question, it should be assumed to be a console input. Consider use dict()"
   ]
  },
  {
   "cell_type": "code",
   "execution_count": 31,
   "id": "7c57874f-f6ae-4c26-90db-96b65e01c0eb",
   "metadata": {},
   "outputs": [
    {
     "name": "stdin",
     "output_type": "stream",
     "text": [
      " 8\n"
     ]
    },
    {
     "name": "stdout",
     "output_type": "stream",
     "text": [
      "{1: 1, 2: 4, 3: 9, 4: 16, 5: 25, 6: 36, 7: 49, 8: 64}\n"
     ]
    }
   ],
   "source": [
    "n=int(input())\n",
    "dictionary=dict()           #function that generates a dictionary\n",
    "i=1\n",
    "\n",
    "while i<=n:\n",
    "    dictionary[i]=i*i       #i is a key, i multiplied by itself is the value..this program adds a value to the dictionary\n",
    "    i=i+1                   \n",
    "print(dictionary)"
   ]
  },
  {
   "cell_type": "markdown",
   "id": "50825c51-db0f-448b-b76d-15b0be3fffb0",
   "metadata": {},
   "source": [
    "**QUESTION 4**\n",
    "\n",
    "Write a program which accepts a sequence of comma-separated numbers from console and generate a list and a tuple which contains every number. Suppose the following input is supplied to the program: 34,67,55,33,12,98 Then, the output should be: ['34', '67', '55', '33', '12', '98'] ('34', '67', '55', '33', '12', '98')\n",
    "\n",
    "Hints: In case of input data being supplied to the question, it should be assumed to be a console input. tuple() method can convert list to tuple"
   ]
  },
  {
   "cell_type": "code",
   "execution_count": 50,
   "id": "2f51c229-2165-4f64-a57e-ac94d6e5ea18",
   "metadata": {},
   "outputs": [
    {
     "name": "stdin",
     "output_type": "stream",
     "text": [
      " 34,67,55,33,12,98\n"
     ]
    },
    {
     "name": "stdout",
     "output_type": "stream",
     "text": [
      "[34, 67, 55, 33, 12, 98] (34, 67, 55, 33, 12, 98)\n"
     ]
    }
   ],
   "source": [
    "n=input().split(',')\n",
    "l=(34,67,55,33,12,98)           #tuple    \n",
    "m=[]                            #list\n",
    "i=1\n",
    "\n",
    "while i<2:                      #condition to ensure the numbers are only appended once\n",
    "    for item in l:\n",
    "        m.append(item)          #for the items in the tuple,append them to the list\n",
    "    i=i+1\n",
    "print(m,l)"
   ]
  },
  {
   "cell_type": "markdown",
   "id": "91891740-9364-4817-9b41-e0847d5bf26b",
   "metadata": {},
   "source": [
    "**QUESTION 5**\n",
    "\n",
    "Define a class which has at least two methods: getString: to get a string from console input printString: to print the string in upper case. Also please include simple test function to test the class methods.\n",
    "\n",
    "Hints: Use init method to construct some parameters"
   ]
  },
  {
   "cell_type": "code",
   "execution_count": 67,
   "id": "1c30cbbe-0873-44db-a325-4ff48735e09a",
   "metadata": {},
   "outputs": [
    {
     "name": "stdin",
     "output_type": "stream",
     "text": [
      " python\n"
     ]
    },
    {
     "name": "stdout",
     "output_type": "stream",
     "text": [
      "PYTHON\n"
     ]
    }
   ],
   "source": [
    "class ourString():                 #this is the object constructor\n",
    "    def __init__(self):            #used to initialize attributes of the class,ourStrring\n",
    "        self.lower = \"\"            #calls the object as a string\n",
    "    \n",
    "    def get_String(self):          #self is the parameter that accesses the variables/objects\n",
    "        self.lower = input()\n",
    "        \n",
    "    def print_up(self):\n",
    "        print(self.lower.upper())  #prints capitalized string\n",
    "        \n",
    "lower = ourString()\n",
    "lower.get_String()\n",
    "lower.print_up()"
   ]
  },
  {
   "cell_type": "markdown",
   "id": "8fef779c-d28f-4814-b869-c619e9c235be",
   "metadata": {},
   "source": [
    "**QUESTION 6**\n",
    "\n",
    "Write a program that calculates and prints the value according to the given formula: Q = Square root of [(2 * C * D)/H] Following are the fixed values of C and H: C is 50. H is 30. D is the variable whose values should be input to your program in a comma-separated sequence. Example Let us assume the following comma separated input sequence is given to the program: 100,150,180 The output of the program should be: 18,22,24\n",
    "\n",
    "Hints: If the output received is in decimal form, it should be rounded off to its nearest value (for example, if the output received is 26.0, it should be printed as 26) In case of input data being supplied to the question, it should be assumed to be a console input."
   ]
  },
  {
   "cell_type": "code",
   "execution_count": 8,
   "id": "388097d3-4dee-4b6e-b32a-06e9d627703d",
   "metadata": {},
   "outputs": [
    {
     "name": "stdin",
     "output_type": "stream",
     "text": [
      " 100,150,180\n"
     ]
    },
    {
     "name": "stdout",
     "output_type": "stream",
     "text": [
      "['18', '22', '24']\n"
     ]
    }
   ],
   "source": [
    "import math        #imports the math module\n",
    "c=50\n",
    "h=30\n",
    "item=[]\n",
    "q=[x for x in input().split(',')]       #shows that the input values are separated by a comma and hence not float values\n",
    "for d in q:\n",
    "    item.append(str(int(round(math.sqrt(2*c*float(d)/h)))))  #rounds off a float value to nearest integer\n",
    "print(item)                             #prints the solved function that has been appended to the item variable"
   ]
  },
  {
   "cell_type": "markdown",
   "id": "2c5cba83-2ac3-4c0d-be8f-f9a42ad5b733",
   "metadata": {},
   "source": [
    "**QUESTION 7**\n",
    "\n",
    "Write a program which takes 2 digits, X,Y as input and generates a 2-dimensional array. The element value in the i-th row and j-th column of the array should be i*j. Note: i=0,1.., X-1; j=0,1,¡­Y-1. Example Suppose the following inputs are given to the program: 3,5 Then, the output of the program should be: [[0, 0, 0, 0, 0], [0, 1, 2, 3, 4], [0, 2, 4, 6, 8]]\n",
    "\n",
    "Hints: Note: In case of input data being supplied to the question, it should be assumed to be a console input in a comma-separated form."
   ]
  },
  {
   "cell_type": "code",
   "execution_count": 48,
   "id": "1b35a9f2-a695-4e10-a6b5-68c8c7d4efe8",
   "metadata": {},
   "outputs": [
    {
     "name": "stdin",
     "output_type": "stream",
     "text": [
      " 3,5\n"
     ]
    },
    {
     "name": "stdout",
     "output_type": "stream",
     "text": [
      "[[0, 0, 0, 0, 0], [0, 1, 2, 3, 4], [0, 2, 4, 6, 8]]\n"
     ]
    }
   ],
   "source": [
    "value=input()\n",
    "d=[int(w) for w in value.split(',')]  #inputs dimensions in a comma separated form\n",
    "i=d[0]                                #i for number of rows and rows are normally the first dimension,0 initializes row\n",
    "j=d[1]                                #j for number of columns and columns are normally the second dimension,1 initializes column\n",
    "array=[[0 for col in range(j)]for row in range(i)]    #listing columns in the rows according to dimensions given for each\n",
    "\n",
    "for row in range(i):                  #joins columns and rows\n",
    "    for col in range(j):\n",
    "        array[row][col]=row*col       #the values of solved function should be equal to the multiplication of dimensions values\n",
    "print(array)"
   ]
  },
  {
   "cell_type": "markdown",
   "id": "52628918-e8af-4830-ac81-f0b6d540e2bd",
   "metadata": {},
   "source": [
    "**QUESTION 8**\n",
    "\n",
    "Write a program that accepts a comma separated sequence of words as input and prints the words in a comma-separated sequence after sorting them alphabetically. Suppose the following input is supplied to the program: without,hello,bag,world Then, the output should be: bag,hello,without,world\n",
    "\n",
    "Hints: In case of input data being supplied to the question, it should be assumed to be a console input."
   ]
  },
  {
   "cell_type": "code",
   "execution_count": 60,
   "id": "9d2a880b-4d90-4750-802f-77c4aaabd506",
   "metadata": {},
   "outputs": [
    {
     "name": "stdin",
     "output_type": "stream",
     "text": [
      " without,hello,bag,world\n"
     ]
    },
    {
     "name": "stdout",
     "output_type": "stream",
     "text": [
      "bag,hello,without,world\n"
     ]
    }
   ],
   "source": [
    "words=[x for x in input().split(',')]   #inputs the words in a comma separated list\n",
    "words.sort()                            #sorts the words in ascending order according to letter beginning the word\n",
    "print(','.join(words))                  #print the words as one string"
   ]
  },
  {
   "cell_type": "markdown",
   "id": "f19b9d7e-a1ee-4213-a02f-cd488f2b88f1",
   "metadata": {},
   "source": [
    "**QUESTION 9**\n",
    "\n",
    "Write a program that accepts sequence of lines as input and prints the lines after making all characters in the sentence capitalized. Suppose the following input is supplied to the program: Hello world Practice makes perfect Then, the output should be: HELLO WORLD PRACTICE MAKES PERFECT\n",
    "\n",
    "Hints: In case of input data being supplied to the question, it should be assumed to be a console input."
   ]
  },
  {
   "cell_type": "code",
   "execution_count": 8,
   "id": "271860d0-8ef0-4447-a5c6-d3f47a7824bb",
   "metadata": {},
   "outputs": [
    {
     "name": "stdin",
     "output_type": "stream",
     "text": [
      " Hello world\n",
      " Practice makes perfect\n",
      " \n"
     ]
    },
    {
     "name": "stdout",
     "output_type": "stream",
     "text": [
      "HELLO WORLD\n",
      "PRACTICE MAKES PERFECT\n"
     ]
    }
   ],
   "source": [
    "lines=[]\n",
    "while True:                        #allows input of a sequence of lines\n",
    "    w=input()\n",
    "    if w:\n",
    "        lines.append(w.upper())    #capitalize the words and append them to a varaible lines\n",
    "    else:\n",
    "        break\n",
    "\n",
    "for w in lines:                    #print each word in the line\n",
    "    print(w)"
   ]
  },
  {
   "cell_type": "markdown",
   "id": "e475118d-1729-4580-8062-f3ed5cbdaab5",
   "metadata": {},
   "source": [
    "**QUESTION 10**\n",
    "\n",
    "Write a program that accepts a sequence of whitespace separated words as input and prints the words after removing all duplicate words and sorting them alphanumerically. Suppose the following input is supplied to the program: hello world and practice makes perfect and hello world again Then, the output should be: again and hello makes perfect practice world\n",
    "\n",
    "Hints: In case of input data being supplied to the question, it should be assumed to be a console input. We use set container to remove duplicated data automatically and then use sorted() to sort the data."
   ]
  },
  {
   "cell_type": "code",
   "execution_count": 14,
   "id": "13dc390f-3354-497d-ba23-4231001abbf7",
   "metadata": {},
   "outputs": [
    {
     "name": "stdin",
     "output_type": "stream",
     "text": [
      " hello world and practice makes perfect and hello world again\n"
     ]
    },
    {
     "name": "stdout",
     "output_type": "stream",
     "text": [
      "again and hello makes perfect practice world\n"
     ]
    }
   ],
   "source": [
    "w=input().split(' ')             #accepts input separated by whitespace and puts in a variable w\n",
    "for x in w:                      \n",
    "    if w.count(x)>1:             #counts the input in w\n",
    "        w.remove(x)              #if the count is more than 1 it removes the input\n",
    "\n",
    "w.sort()                         #this arranges inputs in ascending order \n",
    "print(' '.join(w))               #joins in one string separated by whitespace"
   ]
  },
  {
   "cell_type": "markdown",
   "id": "c324a625-f68d-49aa-9670-47ab4a43ab8f",
   "metadata": {},
   "source": [
    "**QUESTION 86**\n",
    "\n",
    "Please write a program to generate all sentences where subject is in [\"I\", \"You\"] and verb is in [\"Play\", \"Love\"] and the object is in [\"Hockey\",\"Football\"].\n",
    "\n",
    "Hints: Use list[index] notation to get a element from a list."
   ]
  },
  {
   "cell_type": "code",
   "execution_count": 17,
   "id": "0b7784ba-da9d-4d31-ac75-f89c605b5f86",
   "metadata": {},
   "outputs": [
    {
     "name": "stdout",
     "output_type": "stream",
     "text": [
      "I Play Hockey\n",
      "I Play Football\n",
      "I Love Hockey\n",
      "I Love Football\n",
      "You Play Hockey\n",
      "You Play Football\n",
      "You Love Hockey\n",
      "You Love Football\n"
     ]
    }
   ],
   "source": [
    "S=[\"I\",\"You\"]\n",
    "V=[\"Play\",\"Love\"]\n",
    "O=[\"Hockey\",\"Football\"]\n",
    "\n",
    "for s in S:                                  #join the values in S,V and O\n",
    "    for v in V:\n",
    "        for o in O:\n",
    "            print(\"{} {} {}\".format(s,v,o))  #prints value in the strings placeholder defined by curly brackets"
   ]
  },
  {
   "cell_type": "markdown",
   "id": "fca4e512-1305-45ed-a042-f2276073a0a6",
   "metadata": {},
   "source": [
    "**QUESTION 87**\n",
    "\n",
    "Please write a program to print the list after removing delete even numbers in [5,6,77,45,22,12,24].\n",
    "\n",
    "Hints: Use list comprehension to delete a bunch of element from a list."
   ]
  },
  {
   "cell_type": "code",
   "execution_count": 24,
   "id": "f8ddf245-e64b-4bc3-8412-61dae13ae6a7",
   "metadata": {},
   "outputs": [
    {
     "name": "stdout",
     "output_type": "stream",
     "text": [
      "[5, 77, 45]\n"
     ]
    }
   ],
   "source": [
    "n=[5,6,77,45,22,12,24]\n",
    "num=[i for i in n if i%2!=0]          #only puts odd numbers in num\n",
    "print(num)"
   ]
  },
  {
   "cell_type": "markdown",
   "id": "450dbb1d-f692-4e61-99ce-29ae0745ad4b",
   "metadata": {},
   "source": [
    "**QUESTION 88**\n",
    "\n",
    "By using list comprehension, please write a program to print the list after removing delete numbers which are divisible by 5 and 7 in [12,24,35,70,88,120,155].\n",
    "\n",
    "Hints: Use list comprehension to delete a bunch of element from a list."
   ]
  },
  {
   "cell_type": "code",
   "execution_count": 31,
   "id": "8a99b48e-5f9f-4a9c-9dd5-824449ead988",
   "metadata": {},
   "outputs": [
    {
     "name": "stdout",
     "output_type": "stream",
     "text": [
      "[12, 24, 88]\n"
     ]
    }
   ],
   "source": [
    "l=[12,24,35,70,88,120,155]\n",
    "lst=[i for i in l if i%5!=0 and i%7!=0]     #considers both conditions at once\n",
    "print(lst)"
   ]
  },
  {
   "cell_type": "markdown",
   "id": "046c12fa-6279-49f7-8448-0fffa0ca6b9f",
   "metadata": {},
   "source": [
    "**QUESTION 89**\n",
    "\n",
    "By using list comprehension, please write a program to print the list after removing the 0th, 2nd, 4th,6th numbers in [12,24,35,70,88,120,155].\n",
    "\n",
    "Hints: Use list comprehension to delete a bunch of element from a list. Use enumerate() to get (index, value) tuple."
   ]
  },
  {
   "cell_type": "code",
   "execution_count": 49,
   "id": "a5eeeeac-2b28-4372-93ea-5af5c8c40bb6",
   "metadata": {},
   "outputs": [
    {
     "name": "stdout",
     "output_type": "stream",
     "text": [
      "[24, 70, 120]\n"
     ]
    }
   ],
   "source": [
    "numbers=[12,24,35,70,88,120,155]\n",
    "numb=[x for (i,x) in enumerate(numbers) if i not in (0,2,4,6)]  #i represents count/index of x in the list.x is the value\n",
    "print(numb)"
   ]
  },
  {
   "cell_type": "markdown",
   "id": "b781c1b4-ec32-432f-9db9-10ec372d4ea1",
   "metadata": {},
   "source": [
    "**QUESTION 90**\n",
    "\n",
    "By using list comprehension, please write a program generate a 358 3D array whose each element is 0.\n",
    "\n",
    "Hints: Use list comprehension to make an array."
   ]
  },
  {
   "cell_type": "code",
   "execution_count": 74,
   "id": "b6c87a11-519c-4950-a8a6-0506c804dd12",
   "metadata": {},
   "outputs": [
    {
     "name": "stdout",
     "output_type": "stream",
     "text": [
      "[[[0, 0, 0, 0, 0, 0, 0, 0], [0, 0, 0, 0, 0, 0, 0, 0], [0, 0, 0, 0, 0, 0, 0, 0], [0, 0, 0, 0, 0, 0, 0, 0], [0, 0, 0, 0, 0, 0, 0, 0]], [[0, 0, 0, 0, 0, 0, 0, 0], [0, 0, 0, 0, 0, 0, 0, 0], [0, 0, 0, 0, 0, 0, 0, 0], [0, 0, 0, 0, 0, 0, 0, 0], [0, 0, 0, 0, 0, 0, 0, 0]], [[0, 0, 0, 0, 0, 0, 0, 0], [0, 0, 0, 0, 0, 0, 0, 0], [0, 0, 0, 0, 0, 0, 0, 0], [0, 0, 0, 0, 0, 0, 0, 0], [0, 0, 0, 0, 0, 0, 0, 0]]]\n"
     ]
    }
   ],
   "source": [
    "array=[[[0 for col in range(8)]for col in range(5)]for row in range(3)]   #creating dimensions and inputting values of the array\n",
    "print(array)"
   ]
  },
  {
   "cell_type": "markdown",
   "id": "e9a74bcb-9066-4c30-95da-a33d6d23440f",
   "metadata": {},
   "source": [
    "**QUESTION 91**\n",
    "\n",
    "By using list comprehension, please write a program to print the list after removing the 0th,4th,5th numbers in [12,24,35,70,88,120,155].\n",
    "\n",
    "Hints: Use list comprehension to delete a bunch of element from a list. Use enumerate() to get (index, value) tuple."
   ]
  },
  {
   "cell_type": "code",
   "execution_count": 81,
   "id": "38f7696d-83d4-4681-afef-ba8676ba1c2d",
   "metadata": {},
   "outputs": [
    {
     "name": "stdout",
     "output_type": "stream",
     "text": [
      "[24, 35, 70, 155]\n"
     ]
    }
   ],
   "source": [
    "numbers=[12,24,35,70,88,120,155]\n",
    "numb=[x for (i,x) in enumerate(numbers) if i not in (0,4,5)]     #i represents count/index of x in the list.x is the value\n",
    "print(numb)"
   ]
  },
  {
   "cell_type": "markdown",
   "id": "62e24205-8a6a-46a9-93dd-9eb45032bbfc",
   "metadata": {},
   "source": [
    "**QUESTION92**\n",
    "\n",
    "By using list comprehension, please write a program to print the list after removing the value 24 in [12,24,35,24,88,120,155].\n",
    "\n",
    "Hints: Use list's remove method to delete a value."
   ]
  },
  {
   "cell_type": "code",
   "execution_count": 94,
   "id": "52fb326d-5038-439a-bec3-c88286d7e43d",
   "metadata": {},
   "outputs": [
    {
     "name": "stdout",
     "output_type": "stream",
     "text": [
      "[12, 35, 88, 120, 155]\n"
     ]
    }
   ],
   "source": [
    "numbers=[12,24,35,24,88,120,155]\n",
    "numb=[x for x in numbers if x!=24]    #removes any 24 in the list\n",
    "print(numb)"
   ]
  },
  {
   "cell_type": "markdown",
   "id": "eb28a051-9881-41d2-b3f1-42f26789e0c4",
   "metadata": {},
   "source": [
    "**QUESTION 93**\n",
    "\n",
    "With two given lists [1,3,6,78,35,55] and [12,24,35,24,88,120,155], write a program to make a list whose elements are intersection of the above given lists.\n",
    "\n",
    "Hints: Use set() and \"&=\" to do set intersection operation."
   ]
  },
  {
   "cell_type": "code",
   "execution_count": 123,
   "id": "a658661a-8695-4d73-abf5-11f8671f566a",
   "metadata": {},
   "outputs": [
    {
     "name": "stdout",
     "output_type": "stream",
     "text": [
      "[35]\n"
     ]
    }
   ],
   "source": [
    "lst1=set([1,3,6,78,35,55])              #set is used to store multiple items in one variable\n",
    "lst2=set([12,24,35,24,88,120,155])\n",
    "lst1&=lst2                              #intersection operator\n",
    "st=list(lst1)                           #puts intersection values in a list\n",
    "print(st)"
   ]
  },
  {
   "cell_type": "markdown",
   "id": "8eec29fb-3b2a-462c-85ff-1d7ec17ffd8a",
   "metadata": {},
   "source": [
    "**QUESTION 94**\n",
    "\n",
    "With a given list [12,24,35,24,88,120,155,88,120,155], write a program to print this list after removing all duplicate values with original order reserved.\n",
    "\n",
    "Hints: Use set() to store a number of values without duplicate."
   ]
  },
  {
   "cell_type": "code",
   "execution_count": 148,
   "id": "64a34dcb-2b1a-4ea1-a977-48a293e5d3ae",
   "metadata": {},
   "outputs": [
    {
     "name": "stdout",
     "output_type": "stream",
     "text": [
      "[12, 24, 35, 88, 120, 155]\n"
     ]
    }
   ],
   "source": [
    "l=[12,24,35,24,88,120,155,88,120,155]\n",
    "s=set(l)                                #store values of l in a set     #set only stores unique values\n",
    "lst=[]\n",
    "for x in s:\n",
    "    lst.append(x)                       #putting the values of s in a list\n",
    "lst.sort()                              #arranges in ascending order\n",
    "print(lst)"
   ]
  },
  {
   "cell_type": "markdown",
   "id": "35e27739-b419-4b76-a3d7-5e61d93bc689",
   "metadata": {},
   "source": [
    "**QUESTION 95**\n",
    "\n",
    "Define a class Person and its two child classes: Male and Female. All classes have a method \"getGender\" which can print \"Male\" for Male class and \"Female\" for Female class.\n",
    "\n",
    "Hints: Use Subclass(Parentclass) to define a child class."
   ]
  },
  {
   "cell_type": "code",
   "execution_count": 150,
   "id": "18355aad-2e40-41da-a1f1-9d944bd25d08",
   "metadata": {},
   "outputs": [
    {
     "name": "stdout",
     "output_type": "stream",
     "text": [
      "Female\n",
      "Male\n"
     ]
    }
   ],
   "source": [
    "class Person():                    #this is the object constructor\n",
    "    def __init__(self):            #used to initialize attributes of the class\n",
    "        self.p = \"not-known\"       #defines the object as not-known\n",
    "    \n",
    "    def getGender(self):           #define method of getting gender\n",
    "        print(self.p)\n",
    "        \n",
    "class Male(Person):                #child class linked to class Person\n",
    "    def __init__(self):\n",
    "        self.p = \"Male\"\n",
    "        \n",
    "class Female(Person):\n",
    "    def __init__(self):\n",
    "        self.p = \"Female\"\n",
    "        \n",
    "Nelly = Female()\n",
    "Collins = Male()\n",
    "Nelly.getGender()                  #making use of the method getGender\n",
    "Collins.getGender()"
   ]
  },
  {
   "cell_type": "markdown",
   "id": "d855c0d2-2467-4317-bd05-f74b2b260ccd",
   "metadata": {},
   "source": [
    "**QUESTION 96**\n",
    "\n",
    "Please write a program which count and print the numbers of each character in a string input by console.\n",
    "\n",
    "Example: If the following string is given as input to the program:\n",
    "\n",
    "abcdefgabc\n",
    "\n",
    "Then, the output of the program should be:\n",
    "\n",
    "a,2 c,2 b,2 e,1 d,1 g,1 f,1\n",
    "\n",
    "Hints: Use dict to store key/value pairs. Use dict.get() method to lookup a key with default value."
   ]
  },
  {
   "cell_type": "code",
   "execution_count": 249,
   "id": "cee4d1b9-3bfc-4db0-8605-f653d1648ded",
   "metadata": {},
   "outputs": [
    {
     "name": "stdin",
     "output_type": "stream",
     "text": [
      " abcdefgabc\n"
     ]
    },
    {
     "name": "stdout",
     "output_type": "stream",
     "text": [
      "a,2,b,2,c,2,d,1,e,1,f,1,g,1\n"
     ]
    }
   ],
   "source": [
    "D={}                          \n",
    "s=input()\n",
    "for s in s:                                   #gets all the items of the input at once\n",
    "    D[s]=D.get(s,0)+1                         #gets values of the key in the dictionary which are all the items in input and counts each\n",
    "                                              #everytime input appears,it is counted\n",
    "print(','.join([(\"%s,%s\") %(i,j) for i,j in D.items()]))"
   ]
  },
  {
   "cell_type": "markdown",
   "id": "7dc177d5-8335-452e-94ee-6535b52d2972",
   "metadata": {},
   "source": [
    "**QUESTION 97**\n",
    "\n",
    "Please write a program which accepts a string from console and print it in reverse order.\n",
    "\n",
    "Example: If the following string is given as input to the program:\n",
    "\n",
    "rise to vote sir\n",
    "\n",
    "Then, the output of the program should be:\n",
    "\n",
    "ris etov ot esir\n",
    "\n",
    "Hints: Use list[::-1] to iterate a list in a reverse order."
   ]
  },
  {
   "cell_type": "code",
   "execution_count": 187,
   "id": "269b51e4-68a9-4017-8df7-9c0f9ce081ce",
   "metadata": {},
   "outputs": [
    {
     "name": "stdin",
     "output_type": "stream",
     "text": [
      " rise to vote sir\n"
     ]
    },
    {
     "name": "stdout",
     "output_type": "stream",
     "text": [
      "ris etov ot esir\n"
     ]
    }
   ],
   "source": [
    "x=input()       #console input\n",
    "x = x[::-1]     #takes and reverses every character in the input\n",
    "print(x)"
   ]
  },
  {
   "cell_type": "markdown",
   "id": "51e2bf07-d497-4699-9635-878a054adfc1",
   "metadata": {},
   "source": [
    "**QUESTION 98**\n",
    "\n",
    "Please write a program which accepts a string from console and print the characters that have even indexes.\n",
    "\n",
    "Example: If the following string is given as input to the program:\n",
    "\n",
    "H1e2l3l4o5w6o7r8l9d\n",
    "\n",
    "Then, the output of the program should be:\n",
    "\n",
    "Helloworld\n",
    "\n",
    "Hints: Use list[::2] to iterate a list by step 2."
   ]
  },
  {
   "cell_type": "code",
   "execution_count": 184,
   "id": "511d049d-4958-45b8-9aff-6e27224f3342",
   "metadata": {},
   "outputs": [
    {
     "name": "stdin",
     "output_type": "stream",
     "text": [
      " H1e2l3l4o5w6o7r8l9d\n"
     ]
    },
    {
     "name": "stdout",
     "output_type": "stream",
     "text": [
      "Helloworld\n"
     ]
    }
   ],
   "source": [
    "x=input()         #console input\n",
    "x = x[::2]        #only picks every character in the even indexes\n",
    "print(x)"
   ]
  },
  {
   "cell_type": "markdown",
   "id": "cc00ea06-a1e9-4244-8f68-152b2bcfb4d3",
   "metadata": {},
   "source": [
    "**QUESTION 99**\n",
    "\n",
    "Please write a program which prints all permutations of [1,2,3]\n",
    "\n",
    "Hints: Use itertools.permutations() to get permutations of list."
   ]
  },
  {
   "cell_type": "code",
   "execution_count": 191,
   "id": "9cce0cc2-3a02-485b-a740-41d4545aeb31",
   "metadata": {},
   "outputs": [
    {
     "name": "stdout",
     "output_type": "stream",
     "text": [
      "[(1, 2, 3), (1, 3, 2), (2, 1, 3), (2, 3, 1), (3, 1, 2), (3, 2, 1)]\n"
     ]
    }
   ],
   "source": [
    "import itertools                                #imports the itertools module\n",
    "print(list(itertools.permutations([1,2,3])))    #gives options of arrangements of the items in the list"
   ]
  },
  {
   "cell_type": "markdown",
   "id": "18371e24-1b72-4040-96f6-e021649ff4d0",
   "metadata": {},
   "source": [
    "**QUESTION 100**\n",
    "\n",
    "Write a program to solve a classic ancient Chinese puzzle: We count 35 heads and 94 legs among the chickens and rabbits in a farm. How many rabbits and how many chickens do we have?\n",
    "\n",
    "Hint: Use for loop to iterate all possible solutions."
   ]
  },
  {
   "cell_type": "code",
   "execution_count": 207,
   "id": "bf6d3933-0e68-4f43-9bc7-a7e7263f9003",
   "metadata": {},
   "outputs": [
    {
     "name": "stdout",
     "output_type": "stream",
     "text": [
      "(23, 12)\n"
     ]
    }
   ],
   "source": [
    "def solution(heads,legs):           #function for calculating heads and legs\n",
    "    for c in range(heads):          #r is the number of rabbit heads>total heads-chicken heads<\n",
    "        r=heads-c\n",
    "        if 2*c+4*r==legs:           #total number of legs;chicken each have 2 legs, rabbits each have 4 legs\n",
    "            return c,r              #if so, number of heads of chicken,rabbits should be returned\n",
    "\n",
    "heads = 35\n",
    "legs = 94\n",
    "s=solution(heads,legs)              #solves the puzzle\n",
    "print(s)"
   ]
  }
 ],
 "metadata": {
  "kernelspec": {
   "display_name": "Python 3 (ipykernel)",
   "language": "python",
   "name": "python3"
  },
  "language_info": {
   "codemirror_mode": {
    "name": "ipython",
    "version": 3
   },
   "file_extension": ".py",
   "mimetype": "text/x-python",
   "name": "python",
   "nbconvert_exporter": "python",
   "pygments_lexer": "ipython3",
   "version": "3.8.12"
  }
 },
 "nbformat": 4,
 "nbformat_minor": 5
}
